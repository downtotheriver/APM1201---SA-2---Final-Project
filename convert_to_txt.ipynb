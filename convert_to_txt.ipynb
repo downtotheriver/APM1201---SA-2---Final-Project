{
 "cells": [
  {
   "cell_type": "code",
   "execution_count": 1,
   "id": "10c0c50d",
   "metadata": {},
   "outputs": [],
   "source": [
    "import subprocess\n",
    "\n",
    "def run_adb_command(command):\n",
    "    result = subprocess.run(command, capture_output=True, text=True, check=True)\n",
    "    return result.stdout\n",
    "\n",
    "# Run the adb command to pull all call logs\n",
    "all_call_logs_output = run_adb_command([\"adb\", \"shell\", \"content\", \"query\", \"--uri\", \"content://call_log/calls\"])\n",
    "\n",
    "# Split the output into individual call log entries\n",
    "call_logs_entries = all_call_logs_output.strip().split('\\n')\n",
    "\n",
    "# Open a file in write mode\n",
    "with open(\"call_logs.txt\", \"w\") as file:\n",
    "    # Write each call log entry to the file\n",
    "    for call_log in call_logs_entries:\n",
    "        file.write(call_log + \"\\n\")"
   ]
  },
  {
   "cell_type": "code",
   "execution_count": null,
   "id": "f97a20f2",
   "metadata": {},
   "outputs": [],
   "source": []
  }
 ],
 "metadata": {
  "kernelspec": {
   "display_name": "Python 3 (ipykernel)",
   "language": "python",
   "name": "python3"
  },
  "language_info": {
   "codemirror_mode": {
    "name": "ipython",
    "version": 3
   },
   "file_extension": ".py",
   "mimetype": "text/x-python",
   "name": "python",
   "nbconvert_exporter": "python",
   "pygments_lexer": "ipython3",
   "version": "3.11.5"
  }
 },
 "nbformat": 4,
 "nbformat_minor": 5
}
