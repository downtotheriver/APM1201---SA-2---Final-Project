{
 "cells": [
  {
   "cell_type": "code",
   "execution_count": 22,
   "id": "f5480417",
   "metadata": {},
   "outputs": [
    {
     "name": "stdout",
     "output_type": "stream",
     "text": [
      "Enter the number of call log entries to process (or 'exit' to quit) [10-653]: 10\n"
     ]
    },
    {
     "data": {
      "text/html": [
       "<pre style=\"white-space:pre;overflow-x:auto;line-height:normal;font-family:Menlo,'DejaVu Sans Mono',consolas,'Courier New',monospace\">╭───────────────┬─────────────────┬────────────────┬─────────────┬─────────────┬─────────────────┬────────────────╮\n",
       "│<span style=\"color: #ffffff; text-decoration-color: #ffffff; background-color: #008000\"> Name: Johnlee </span>│<span style=\"color: #ffffff; text-decoration-color: #ffffff; background-color: #008000\"> Phone Number:   </span>│<span style=\"color: #ffffff; text-decoration-color: #ffffff; background-color: #008000\"> Date: December </span>│<span style=\"color: #ffffff; text-decoration-color: #ffffff; background-color: #008000\"> Day: Monday </span>│<span style=\"color: #ffffff; text-decoration-color: #ffffff; background-color: #008000\"> Time: 20:01 </span>│<span style=\"color: #ffffff; text-decoration-color: #ffffff; background-color: #008000\"> Duration: 0.0   </span>│<span style=\"color: #ffffff; text-decoration-color: #ffffff; background-color: #008000\"> Call Type:     </span>│\n",
       "│<span style=\"color: #ffffff; text-decoration-color: #ffffff; background-color: #008000\">               </span>│<span style=\"color: #ffffff; text-decoration-color: #ffffff; background-color: #008000\"> 09396327507     </span>│<span style=\"color: #ffffff; text-decoration-color: #ffffff; background-color: #008000\"> 11, 2023       </span>│<span style=\"color: #ffffff; text-decoration-color: #ffffff; background-color: #008000\">             </span>│<span style=\"color: #ffffff; text-decoration-color: #ffffff; background-color: #008000\">             </span>│<span style=\"color: #ffffff; text-decoration-color: #ffffff; background-color: #008000\"> minutes         </span>│<span style=\"color: #ffffff; text-decoration-color: #ffffff; background-color: #008000\"> Outgoing       </span>│\n",
       "│<span style=\"color: #ffffff; text-decoration-color: #ffffff; background-color: #008000\">               </span>│<span style=\"color: #ffffff; text-decoration-color: #ffffff; background-color: #008000\">                 </span>│<span style=\"color: #ffffff; text-decoration-color: #ffffff; background-color: #008000\">                </span>│<span style=\"color: #ffffff; text-decoration-color: #ffffff; background-color: #008000\">             </span>│<span style=\"color: #ffffff; text-decoration-color: #ffffff; background-color: #008000\">             </span>│<span style=\"color: #ffffff; text-decoration-color: #ffffff; background-color: #008000\">                 </span>│<span style=\"color: #ffffff; text-decoration-color: #ffffff; background-color: #008000\"> (Successful)   </span>│\n",
       "╰───────────────┴─────────────────┴────────────────┴─────────────┴─────────────┴─────────────────┴────────────────╯\n",
       "</pre>\n"
      ],
      "text/plain": [
       "╭───────────────┬─────────────────┬────────────────┬─────────────┬─────────────┬─────────────────┬────────────────╮\n",
       "│\u001b[97;42m \u001b[0m\u001b[97;42mName: Johnlee\u001b[0m\u001b[97;42m \u001b[0m│\u001b[97;42m \u001b[0m\u001b[97;42mPhone Number:  \u001b[0m\u001b[97;42m \u001b[0m│\u001b[97;42m \u001b[0m\u001b[97;42mDate: December\u001b[0m\u001b[97;42m \u001b[0m│\u001b[97;42m \u001b[0m\u001b[97;42mDay: Monday\u001b[0m\u001b[97;42m \u001b[0m│\u001b[97;42m \u001b[0m\u001b[97;42mTime: 20:01\u001b[0m\u001b[97;42m \u001b[0m│\u001b[97;42m \u001b[0m\u001b[97;42mDuration: 0.0  \u001b[0m\u001b[97;42m \u001b[0m│\u001b[97;42m \u001b[0m\u001b[97;42mCall Type:    \u001b[0m\u001b[97;42m \u001b[0m│\n",
       "│\u001b[97;42m               \u001b[0m│\u001b[97;42m \u001b[0m\u001b[97;42m09396327507    \u001b[0m\u001b[97;42m \u001b[0m│\u001b[97;42m \u001b[0m\u001b[97;42m11, 2023      \u001b[0m\u001b[97;42m \u001b[0m│\u001b[97;42m             \u001b[0m│\u001b[97;42m             \u001b[0m│\u001b[97;42m \u001b[0m\u001b[97;42mminutes        \u001b[0m\u001b[97;42m \u001b[0m│\u001b[97;42m \u001b[0m\u001b[97;42mOutgoing      \u001b[0m\u001b[97;42m \u001b[0m│\n",
       "│\u001b[97;42m               \u001b[0m│\u001b[97;42m                 \u001b[0m│\u001b[97;42m                \u001b[0m│\u001b[97;42m             \u001b[0m│\u001b[97;42m             \u001b[0m│\u001b[97;42m                 \u001b[0m│\u001b[97;42m \u001b[0m\u001b[97;42m(Successful)  \u001b[0m\u001b[97;42m \u001b[0m│\n",
       "╰───────────────┴─────────────────┴────────────────┴─────────────┴─────────────┴─────────────────┴────────────────╯\n"
      ]
     },
     "metadata": {},
     "output_type": "display_data"
    },
    {
     "data": {
      "text/html": [
       "<pre style=\"white-space:pre;overflow-x:auto;line-height:normal;font-family:Menlo,'DejaVu Sans Mono',consolas,'Courier New',monospace\">╭────────────────┬────────────────┬────────────────┬─────────────┬─────────────┬─────────────────┬────────────────╮\n",
       "│<span style=\"color: #ffffff; text-decoration-color: #ffffff; background-color: #008000\"> Name: Kuya Gen </span>│<span style=\"color: #ffffff; text-decoration-color: #ffffff; background-color: #008000\"> Phone Number:  </span>│<span style=\"color: #ffffff; text-decoration-color: #ffffff; background-color: #008000\"> Date: December </span>│<span style=\"color: #ffffff; text-decoration-color: #ffffff; background-color: #008000\"> Day: Monday </span>│<span style=\"color: #ffffff; text-decoration-color: #ffffff; background-color: #008000\"> Time: 12:06 </span>│<span style=\"color: #ffffff; text-decoration-color: #ffffff; background-color: #008000\"> Duration: 0.0   </span>│<span style=\"color: #ffffff; text-decoration-color: #ffffff; background-color: #008000\"> Call Type:     </span>│\n",
       "│<span style=\"color: #ffffff; text-decoration-color: #ffffff; background-color: #008000\">                </span>│<span style=\"color: #ffffff; text-decoration-color: #ffffff; background-color: #008000\"> +639274863653  </span>│<span style=\"color: #ffffff; text-decoration-color: #ffffff; background-color: #008000\"> 11, 2023       </span>│<span style=\"color: #ffffff; text-decoration-color: #ffffff; background-color: #008000\">             </span>│<span style=\"color: #ffffff; text-decoration-color: #ffffff; background-color: #008000\">             </span>│<span style=\"color: #ffffff; text-decoration-color: #ffffff; background-color: #008000\"> minutes         </span>│<span style=\"color: #ffffff; text-decoration-color: #ffffff; background-color: #008000\"> Outgoing       </span>│\n",
       "│<span style=\"color: #ffffff; text-decoration-color: #ffffff; background-color: #008000\">                </span>│<span style=\"color: #ffffff; text-decoration-color: #ffffff; background-color: #008000\">                </span>│<span style=\"color: #ffffff; text-decoration-color: #ffffff; background-color: #008000\">                </span>│<span style=\"color: #ffffff; text-decoration-color: #ffffff; background-color: #008000\">             </span>│<span style=\"color: #ffffff; text-decoration-color: #ffffff; background-color: #008000\">             </span>│<span style=\"color: #ffffff; text-decoration-color: #ffffff; background-color: #008000\">                 </span>│<span style=\"color: #ffffff; text-decoration-color: #ffffff; background-color: #008000\"> (Successful)   </span>│\n",
       "╰────────────────┴────────────────┴────────────────┴─────────────┴─────────────┴─────────────────┴────────────────╯\n",
       "</pre>\n"
      ],
      "text/plain": [
       "╭────────────────┬────────────────┬────────────────┬─────────────┬─────────────┬─────────────────┬────────────────╮\n",
       "│\u001b[97;42m \u001b[0m\u001b[97;42mName: Kuya Gen\u001b[0m\u001b[97;42m \u001b[0m│\u001b[97;42m \u001b[0m\u001b[97;42mPhone Number: \u001b[0m\u001b[97;42m \u001b[0m│\u001b[97;42m \u001b[0m\u001b[97;42mDate: December\u001b[0m\u001b[97;42m \u001b[0m│\u001b[97;42m \u001b[0m\u001b[97;42mDay: Monday\u001b[0m\u001b[97;42m \u001b[0m│\u001b[97;42m \u001b[0m\u001b[97;42mTime: 12:06\u001b[0m\u001b[97;42m \u001b[0m│\u001b[97;42m \u001b[0m\u001b[97;42mDuration: 0.0  \u001b[0m\u001b[97;42m \u001b[0m│\u001b[97;42m \u001b[0m\u001b[97;42mCall Type:    \u001b[0m\u001b[97;42m \u001b[0m│\n",
       "│\u001b[97;42m                \u001b[0m│\u001b[97;42m \u001b[0m\u001b[97;42m+639274863653 \u001b[0m\u001b[97;42m \u001b[0m│\u001b[97;42m \u001b[0m\u001b[97;42m11, 2023      \u001b[0m\u001b[97;42m \u001b[0m│\u001b[97;42m             \u001b[0m│\u001b[97;42m             \u001b[0m│\u001b[97;42m \u001b[0m\u001b[97;42mminutes        \u001b[0m\u001b[97;42m \u001b[0m│\u001b[97;42m \u001b[0m\u001b[97;42mOutgoing      \u001b[0m\u001b[97;42m \u001b[0m│\n",
       "│\u001b[97;42m                \u001b[0m│\u001b[97;42m                \u001b[0m│\u001b[97;42m                \u001b[0m│\u001b[97;42m             \u001b[0m│\u001b[97;42m             \u001b[0m│\u001b[97;42m                 \u001b[0m│\u001b[97;42m \u001b[0m\u001b[97;42m(Successful)  \u001b[0m\u001b[97;42m \u001b[0m│\n",
       "╰────────────────┴────────────────┴────────────────┴─────────────┴─────────────┴─────────────────┴────────────────╯\n"
      ]
     },
     "metadata": {},
     "output_type": "display_data"
    },
    {
     "data": {
      "text/html": [
       "<pre style=\"white-space:pre;overflow-x:auto;line-height:normal;font-family:Menlo,'DejaVu Sans Mono',consolas,'Courier New',monospace\">╭────────────────┬────────────────┬────────────────┬─────────────┬─────────────┬─────────────────┬────────────────╮\n",
       "│<span style=\"color: #ffffff; text-decoration-color: #ffffff; background-color: #008000\"> Name: Kuya Gen </span>│<span style=\"color: #ffffff; text-decoration-color: #ffffff; background-color: #008000\"> Phone Number:  </span>│<span style=\"color: #ffffff; text-decoration-color: #ffffff; background-color: #008000\"> Date: December </span>│<span style=\"color: #ffffff; text-decoration-color: #ffffff; background-color: #008000\"> Day: Monday </span>│<span style=\"color: #ffffff; text-decoration-color: #ffffff; background-color: #008000\"> Time: 12:05 </span>│<span style=\"color: #ffffff; text-decoration-color: #ffffff; background-color: #008000\"> Duration: 0.0   </span>│<span style=\"color: #ffffff; text-decoration-color: #ffffff; background-color: #008000\"> Call Type:     </span>│\n",
       "│<span style=\"color: #ffffff; text-decoration-color: #ffffff; background-color: #008000\">                </span>│<span style=\"color: #ffffff; text-decoration-color: #ffffff; background-color: #008000\"> +639274863653  </span>│<span style=\"color: #ffffff; text-decoration-color: #ffffff; background-color: #008000\"> 11, 2023       </span>│<span style=\"color: #ffffff; text-decoration-color: #ffffff; background-color: #008000\">             </span>│<span style=\"color: #ffffff; text-decoration-color: #ffffff; background-color: #008000\">             </span>│<span style=\"color: #ffffff; text-decoration-color: #ffffff; background-color: #008000\"> minutes         </span>│<span style=\"color: #ffffff; text-decoration-color: #ffffff; background-color: #008000\"> Outgoing       </span>│\n",
       "│<span style=\"color: #ffffff; text-decoration-color: #ffffff; background-color: #008000\">                </span>│<span style=\"color: #ffffff; text-decoration-color: #ffffff; background-color: #008000\">                </span>│<span style=\"color: #ffffff; text-decoration-color: #ffffff; background-color: #008000\">                </span>│<span style=\"color: #ffffff; text-decoration-color: #ffffff; background-color: #008000\">             </span>│<span style=\"color: #ffffff; text-decoration-color: #ffffff; background-color: #008000\">             </span>│<span style=\"color: #ffffff; text-decoration-color: #ffffff; background-color: #008000\">                 </span>│<span style=\"color: #ffffff; text-decoration-color: #ffffff; background-color: #008000\"> (Successful)   </span>│\n",
       "╰────────────────┴────────────────┴────────────────┴─────────────┴─────────────┴─────────────────┴────────────────╯\n",
       "</pre>\n"
      ],
      "text/plain": [
       "╭────────────────┬────────────────┬────────────────┬─────────────┬─────────────┬─────────────────┬────────────────╮\n",
       "│\u001b[97;42m \u001b[0m\u001b[97;42mName: Kuya Gen\u001b[0m\u001b[97;42m \u001b[0m│\u001b[97;42m \u001b[0m\u001b[97;42mPhone Number: \u001b[0m\u001b[97;42m \u001b[0m│\u001b[97;42m \u001b[0m\u001b[97;42mDate: December\u001b[0m\u001b[97;42m \u001b[0m│\u001b[97;42m \u001b[0m\u001b[97;42mDay: Monday\u001b[0m\u001b[97;42m \u001b[0m│\u001b[97;42m \u001b[0m\u001b[97;42mTime: 12:05\u001b[0m\u001b[97;42m \u001b[0m│\u001b[97;42m \u001b[0m\u001b[97;42mDuration: 0.0  \u001b[0m\u001b[97;42m \u001b[0m│\u001b[97;42m \u001b[0m\u001b[97;42mCall Type:    \u001b[0m\u001b[97;42m \u001b[0m│\n",
       "│\u001b[97;42m                \u001b[0m│\u001b[97;42m \u001b[0m\u001b[97;42m+639274863653 \u001b[0m\u001b[97;42m \u001b[0m│\u001b[97;42m \u001b[0m\u001b[97;42m11, 2023      \u001b[0m\u001b[97;42m \u001b[0m│\u001b[97;42m             \u001b[0m│\u001b[97;42m             \u001b[0m│\u001b[97;42m \u001b[0m\u001b[97;42mminutes        \u001b[0m\u001b[97;42m \u001b[0m│\u001b[97;42m \u001b[0m\u001b[97;42mOutgoing      \u001b[0m\u001b[97;42m \u001b[0m│\n",
       "│\u001b[97;42m                \u001b[0m│\u001b[97;42m                \u001b[0m│\u001b[97;42m                \u001b[0m│\u001b[97;42m             \u001b[0m│\u001b[97;42m             \u001b[0m│\u001b[97;42m                 \u001b[0m│\u001b[97;42m \u001b[0m\u001b[97;42m(Successful)  \u001b[0m\u001b[97;42m \u001b[0m│\n",
       "╰────────────────┴────────────────┴────────────────┴─────────────┴─────────────┴─────────────────┴────────────────╯\n"
      ]
     },
     "metadata": {},
     "output_type": "display_data"
    },
    {
     "data": {
      "text/html": [
       "<pre style=\"white-space:pre;overflow-x:auto;line-height:normal;font-family:Menlo,'DejaVu Sans Mono',consolas,'Courier New',monospace\">╭────────────────┬────────────────┬────────────────┬─────────────┬─────────────┬─────────────────┬────────────────╮\n",
       "│<span style=\"color: #ffffff; text-decoration-color: #ffffff; background-color: #008000\"> Name: Kuya Gen </span>│<span style=\"color: #ffffff; text-decoration-color: #ffffff; background-color: #008000\"> Phone Number:  </span>│<span style=\"color: #ffffff; text-decoration-color: #ffffff; background-color: #008000\"> Date: December </span>│<span style=\"color: #ffffff; text-decoration-color: #ffffff; background-color: #008000\"> Day: Monday </span>│<span style=\"color: #ffffff; text-decoration-color: #ffffff; background-color: #008000\"> Time: 12:04 </span>│<span style=\"color: #ffffff; text-decoration-color: #ffffff; background-color: #008000\"> Duration: 0.0   </span>│<span style=\"color: #ffffff; text-decoration-color: #ffffff; background-color: #008000\"> Call Type:     </span>│\n",
       "│<span style=\"color: #ffffff; text-decoration-color: #ffffff; background-color: #008000\">                </span>│<span style=\"color: #ffffff; text-decoration-color: #ffffff; background-color: #008000\"> +639274863653  </span>│<span style=\"color: #ffffff; text-decoration-color: #ffffff; background-color: #008000\"> 11, 2023       </span>│<span style=\"color: #ffffff; text-decoration-color: #ffffff; background-color: #008000\">             </span>│<span style=\"color: #ffffff; text-decoration-color: #ffffff; background-color: #008000\">             </span>│<span style=\"color: #ffffff; text-decoration-color: #ffffff; background-color: #008000\"> minutes         </span>│<span style=\"color: #ffffff; text-decoration-color: #ffffff; background-color: #008000\"> Outgoing       </span>│\n",
       "│<span style=\"color: #ffffff; text-decoration-color: #ffffff; background-color: #008000\">                </span>│<span style=\"color: #ffffff; text-decoration-color: #ffffff; background-color: #008000\">                </span>│<span style=\"color: #ffffff; text-decoration-color: #ffffff; background-color: #008000\">                </span>│<span style=\"color: #ffffff; text-decoration-color: #ffffff; background-color: #008000\">             </span>│<span style=\"color: #ffffff; text-decoration-color: #ffffff; background-color: #008000\">             </span>│<span style=\"color: #ffffff; text-decoration-color: #ffffff; background-color: #008000\">                 </span>│<span style=\"color: #ffffff; text-decoration-color: #ffffff; background-color: #008000\"> (Successful)   </span>│\n",
       "╰────────────────┴────────────────┴────────────────┴─────────────┴─────────────┴─────────────────┴────────────────╯\n",
       "</pre>\n"
      ],
      "text/plain": [
       "╭────────────────┬────────────────┬────────────────┬─────────────┬─────────────┬─────────────────┬────────────────╮\n",
       "│\u001b[97;42m \u001b[0m\u001b[97;42mName: Kuya Gen\u001b[0m\u001b[97;42m \u001b[0m│\u001b[97;42m \u001b[0m\u001b[97;42mPhone Number: \u001b[0m\u001b[97;42m \u001b[0m│\u001b[97;42m \u001b[0m\u001b[97;42mDate: December\u001b[0m\u001b[97;42m \u001b[0m│\u001b[97;42m \u001b[0m\u001b[97;42mDay: Monday\u001b[0m\u001b[97;42m \u001b[0m│\u001b[97;42m \u001b[0m\u001b[97;42mTime: 12:04\u001b[0m\u001b[97;42m \u001b[0m│\u001b[97;42m \u001b[0m\u001b[97;42mDuration: 0.0  \u001b[0m\u001b[97;42m \u001b[0m│\u001b[97;42m \u001b[0m\u001b[97;42mCall Type:    \u001b[0m\u001b[97;42m \u001b[0m│\n",
       "│\u001b[97;42m                \u001b[0m│\u001b[97;42m \u001b[0m\u001b[97;42m+639274863653 \u001b[0m\u001b[97;42m \u001b[0m│\u001b[97;42m \u001b[0m\u001b[97;42m11, 2023      \u001b[0m\u001b[97;42m \u001b[0m│\u001b[97;42m             \u001b[0m│\u001b[97;42m             \u001b[0m│\u001b[97;42m \u001b[0m\u001b[97;42mminutes        \u001b[0m\u001b[97;42m \u001b[0m│\u001b[97;42m \u001b[0m\u001b[97;42mOutgoing      \u001b[0m\u001b[97;42m \u001b[0m│\n",
       "│\u001b[97;42m                \u001b[0m│\u001b[97;42m                \u001b[0m│\u001b[97;42m                \u001b[0m│\u001b[97;42m             \u001b[0m│\u001b[97;42m             \u001b[0m│\u001b[97;42m                 \u001b[0m│\u001b[97;42m \u001b[0m\u001b[97;42m(Successful)  \u001b[0m\u001b[97;42m \u001b[0m│\n",
       "╰────────────────┴────────────────┴────────────────┴─────────────┴─────────────┴─────────────────┴────────────────╯\n"
      ]
     },
     "metadata": {},
     "output_type": "display_data"
    },
    {
     "data": {
      "text/html": [
       "<pre style=\"white-space:pre;overflow-x:auto;line-height:normal;font-family:Menlo,'DejaVu Sans Mono',consolas,'Courier New',monospace\">╭─────────────┬─────────────────┬─────────────────┬─────────────┬─────────────┬─────────────────┬─────────────────╮\n",
       "│<span style=\"color: #ffffff; text-decoration-color: #ffffff; background-color: #008000\"> Name: Mommy </span>│<span style=\"color: #ffffff; text-decoration-color: #ffffff; background-color: #008000\"> Phone Number:   </span>│<span style=\"color: #ffffff; text-decoration-color: #ffffff; background-color: #008000\"> Date: December  </span>│<span style=\"color: #ffffff; text-decoration-color: #ffffff; background-color: #008000\"> Day: Monday </span>│<span style=\"color: #ffffff; text-decoration-color: #ffffff; background-color: #008000\"> Time: 11:55 </span>│<span style=\"color: #ffffff; text-decoration-color: #ffffff; background-color: #008000\"> Duration: 0.9   </span>│<span style=\"color: #ffffff; text-decoration-color: #ffffff; background-color: #008000\"> Call Type:      </span>│\n",
       "│<span style=\"color: #ffffff; text-decoration-color: #ffffff; background-color: #008000\">             </span>│<span style=\"color: #ffffff; text-decoration-color: #ffffff; background-color: #008000\"> 09235353226     </span>│<span style=\"color: #ffffff; text-decoration-color: #ffffff; background-color: #008000\"> 11, 2023        </span>│<span style=\"color: #ffffff; text-decoration-color: #ffffff; background-color: #008000\">             </span>│<span style=\"color: #ffffff; text-decoration-color: #ffffff; background-color: #008000\">             </span>│<span style=\"color: #ffffff; text-decoration-color: #ffffff; background-color: #008000\"> minutes         </span>│<span style=\"color: #ffffff; text-decoration-color: #ffffff; background-color: #008000\"> Outgoing        </span>│\n",
       "│<span style=\"color: #ffffff; text-decoration-color: #ffffff; background-color: #008000\">             </span>│<span style=\"color: #ffffff; text-decoration-color: #ffffff; background-color: #008000\">                 </span>│<span style=\"color: #ffffff; text-decoration-color: #ffffff; background-color: #008000\">                 </span>│<span style=\"color: #ffffff; text-decoration-color: #ffffff; background-color: #008000\">             </span>│<span style=\"color: #ffffff; text-decoration-color: #ffffff; background-color: #008000\">             </span>│<span style=\"color: #ffffff; text-decoration-color: #ffffff; background-color: #008000\">                 </span>│<span style=\"color: #ffffff; text-decoration-color: #ffffff; background-color: #008000\"> (Successful)    </span>│\n",
       "╰─────────────┴─────────────────┴─────────────────┴─────────────┴─────────────┴─────────────────┴─────────────────╯\n",
       "</pre>\n"
      ],
      "text/plain": [
       "╭─────────────┬─────────────────┬─────────────────┬─────────────┬─────────────┬─────────────────┬─────────────────╮\n",
       "│\u001b[97;42m \u001b[0m\u001b[97;42mName: Mommy\u001b[0m\u001b[97;42m \u001b[0m│\u001b[97;42m \u001b[0m\u001b[97;42mPhone Number:  \u001b[0m\u001b[97;42m \u001b[0m│\u001b[97;42m \u001b[0m\u001b[97;42mDate: December \u001b[0m\u001b[97;42m \u001b[0m│\u001b[97;42m \u001b[0m\u001b[97;42mDay: Monday\u001b[0m\u001b[97;42m \u001b[0m│\u001b[97;42m \u001b[0m\u001b[97;42mTime: 11:55\u001b[0m\u001b[97;42m \u001b[0m│\u001b[97;42m \u001b[0m\u001b[97;42mDuration: 0.9  \u001b[0m\u001b[97;42m \u001b[0m│\u001b[97;42m \u001b[0m\u001b[97;42mCall Type:     \u001b[0m\u001b[97;42m \u001b[0m│\n",
       "│\u001b[97;42m             \u001b[0m│\u001b[97;42m \u001b[0m\u001b[97;42m09235353226    \u001b[0m\u001b[97;42m \u001b[0m│\u001b[97;42m \u001b[0m\u001b[97;42m11, 2023       \u001b[0m\u001b[97;42m \u001b[0m│\u001b[97;42m             \u001b[0m│\u001b[97;42m             \u001b[0m│\u001b[97;42m \u001b[0m\u001b[97;42mminutes        \u001b[0m\u001b[97;42m \u001b[0m│\u001b[97;42m \u001b[0m\u001b[97;42mOutgoing       \u001b[0m\u001b[97;42m \u001b[0m│\n",
       "│\u001b[97;42m             \u001b[0m│\u001b[97;42m                 \u001b[0m│\u001b[97;42m                 \u001b[0m│\u001b[97;42m             \u001b[0m│\u001b[97;42m             \u001b[0m│\u001b[97;42m                 \u001b[0m│\u001b[97;42m \u001b[0m\u001b[97;42m(Successful)   \u001b[0m\u001b[97;42m \u001b[0m│\n",
       "╰─────────────┴─────────────────┴─────────────────┴─────────────┴─────────────┴─────────────────┴─────────────────╯\n"
      ]
     },
     "metadata": {},
     "output_type": "display_data"
    },
    {
     "data": {
      "text/html": [
       "<pre style=\"white-space:pre;overflow-x:auto;line-height:normal;font-family:Menlo,'DejaVu Sans Mono',consolas,'Courier New',monospace\">╭─────────────┬─────────────────┬─────────────────┬─────────────┬─────────────┬─────────────────┬─────────────────╮\n",
       "│<span style=\"color: #ffffff; text-decoration-color: #ffffff; background-color: #008000\"> Name: Mommy </span>│<span style=\"color: #ffffff; text-decoration-color: #ffffff; background-color: #008000\"> Phone Number:   </span>│<span style=\"color: #ffffff; text-decoration-color: #ffffff; background-color: #008000\"> Date: December  </span>│<span style=\"color: #ffffff; text-decoration-color: #ffffff; background-color: #008000\"> Day: Monday </span>│<span style=\"color: #ffffff; text-decoration-color: #ffffff; background-color: #008000\"> Time: 11:51 </span>│<span style=\"color: #ffffff; text-decoration-color: #ffffff; background-color: #008000\"> Duration: 0.0   </span>│<span style=\"color: #ffffff; text-decoration-color: #ffffff; background-color: #008000\"> Call Type:      </span>│\n",
       "│<span style=\"color: #ffffff; text-decoration-color: #ffffff; background-color: #008000\">             </span>│<span style=\"color: #ffffff; text-decoration-color: #ffffff; background-color: #008000\"> 09235353226     </span>│<span style=\"color: #ffffff; text-decoration-color: #ffffff; background-color: #008000\"> 11, 2023        </span>│<span style=\"color: #ffffff; text-decoration-color: #ffffff; background-color: #008000\">             </span>│<span style=\"color: #ffffff; text-decoration-color: #ffffff; background-color: #008000\">             </span>│<span style=\"color: #ffffff; text-decoration-color: #ffffff; background-color: #008000\"> minutes         </span>│<span style=\"color: #ffffff; text-decoration-color: #ffffff; background-color: #008000\"> Outgoing        </span>│\n",
       "│<span style=\"color: #ffffff; text-decoration-color: #ffffff; background-color: #008000\">             </span>│<span style=\"color: #ffffff; text-decoration-color: #ffffff; background-color: #008000\">                 </span>│<span style=\"color: #ffffff; text-decoration-color: #ffffff; background-color: #008000\">                 </span>│<span style=\"color: #ffffff; text-decoration-color: #ffffff; background-color: #008000\">             </span>│<span style=\"color: #ffffff; text-decoration-color: #ffffff; background-color: #008000\">             </span>│<span style=\"color: #ffffff; text-decoration-color: #ffffff; background-color: #008000\">                 </span>│<span style=\"color: #ffffff; text-decoration-color: #ffffff; background-color: #008000\"> (Successful)    </span>│\n",
       "╰─────────────┴─────────────────┴─────────────────┴─────────────┴─────────────┴─────────────────┴─────────────────╯\n",
       "</pre>\n"
      ],
      "text/plain": [
       "╭─────────────┬─────────────────┬─────────────────┬─────────────┬─────────────┬─────────────────┬─────────────────╮\n",
       "│\u001b[97;42m \u001b[0m\u001b[97;42mName: Mommy\u001b[0m\u001b[97;42m \u001b[0m│\u001b[97;42m \u001b[0m\u001b[97;42mPhone Number:  \u001b[0m\u001b[97;42m \u001b[0m│\u001b[97;42m \u001b[0m\u001b[97;42mDate: December \u001b[0m\u001b[97;42m \u001b[0m│\u001b[97;42m \u001b[0m\u001b[97;42mDay: Monday\u001b[0m\u001b[97;42m \u001b[0m│\u001b[97;42m \u001b[0m\u001b[97;42mTime: 11:51\u001b[0m\u001b[97;42m \u001b[0m│\u001b[97;42m \u001b[0m\u001b[97;42mDuration: 0.0  \u001b[0m\u001b[97;42m \u001b[0m│\u001b[97;42m \u001b[0m\u001b[97;42mCall Type:     \u001b[0m\u001b[97;42m \u001b[0m│\n",
       "│\u001b[97;42m             \u001b[0m│\u001b[97;42m \u001b[0m\u001b[97;42m09235353226    \u001b[0m\u001b[97;42m \u001b[0m│\u001b[97;42m \u001b[0m\u001b[97;42m11, 2023       \u001b[0m\u001b[97;42m \u001b[0m│\u001b[97;42m             \u001b[0m│\u001b[97;42m             \u001b[0m│\u001b[97;42m \u001b[0m\u001b[97;42mminutes        \u001b[0m\u001b[97;42m \u001b[0m│\u001b[97;42m \u001b[0m\u001b[97;42mOutgoing       \u001b[0m\u001b[97;42m \u001b[0m│\n",
       "│\u001b[97;42m             \u001b[0m│\u001b[97;42m                 \u001b[0m│\u001b[97;42m                 \u001b[0m│\u001b[97;42m             \u001b[0m│\u001b[97;42m             \u001b[0m│\u001b[97;42m                 \u001b[0m│\u001b[97;42m \u001b[0m\u001b[97;42m(Successful)   \u001b[0m\u001b[97;42m \u001b[0m│\n",
       "╰─────────────┴─────────────────┴─────────────────┴─────────────┴─────────────┴─────────────────┴─────────────────╯\n"
      ]
     },
     "metadata": {},
     "output_type": "display_data"
    },
    {
     "data": {
      "text/html": [
       "<pre style=\"white-space:pre;overflow-x:auto;line-height:normal;font-family:Menlo,'DejaVu Sans Mono',consolas,'Courier New',monospace\">╭────────────────┬────────────────┬────────────────┬─────────────┬─────────────┬─────────────────┬────────────────╮\n",
       "│<span style=\"color: #ffffff; text-decoration-color: #ffffff; background-color: #800000\"> Name: Ate      </span>│<span style=\"color: #ffffff; text-decoration-color: #ffffff; background-color: #800000\"> Phone Number:  </span>│<span style=\"color: #ffffff; text-decoration-color: #ffffff; background-color: #800000\"> Date: December </span>│<span style=\"color: #ffffff; text-decoration-color: #ffffff; background-color: #800000\"> Day: Sunday </span>│<span style=\"color: #ffffff; text-decoration-color: #ffffff; background-color: #800000\"> Time: 10:34 </span>│<span style=\"color: #ffffff; text-decoration-color: #ffffff; background-color: #800000\"> Duration: 0.5   </span>│<span style=\"color: #ffffff; text-decoration-color: #ffffff; background-color: #800000\"> Call Type:     </span>│\n",
       "│<span style=\"color: #ffffff; text-decoration-color: #ffffff; background-color: #800000\"> trixy          </span>│<span style=\"color: #ffffff; text-decoration-color: #ffffff; background-color: #800000\"> +639955391623  </span>│<span style=\"color: #ffffff; text-decoration-color: #ffffff; background-color: #800000\"> 10, 2023       </span>│<span style=\"color: #ffffff; text-decoration-color: #ffffff; background-color: #800000\">             </span>│<span style=\"color: #ffffff; text-decoration-color: #ffffff; background-color: #800000\">             </span>│<span style=\"color: #ffffff; text-decoration-color: #ffffff; background-color: #800000\"> minutes         </span>│<span style=\"color: #ffffff; text-decoration-color: #ffffff; background-color: #800000\"> Missed         </span>│\n",
       "╰────────────────┴────────────────┴────────────────┴─────────────┴─────────────┴─────────────────┴────────────────╯\n",
       "</pre>\n"
      ],
      "text/plain": [
       "╭────────────────┬────────────────┬────────────────┬─────────────┬─────────────┬─────────────────┬────────────────╮\n",
       "│\u001b[97;41m \u001b[0m\u001b[97;41mName: Ate     \u001b[0m\u001b[97;41m \u001b[0m│\u001b[97;41m \u001b[0m\u001b[97;41mPhone Number: \u001b[0m\u001b[97;41m \u001b[0m│\u001b[97;41m \u001b[0m\u001b[97;41mDate: December\u001b[0m\u001b[97;41m \u001b[0m│\u001b[97;41m \u001b[0m\u001b[97;41mDay: Sunday\u001b[0m\u001b[97;41m \u001b[0m│\u001b[97;41m \u001b[0m\u001b[97;41mTime: 10:34\u001b[0m\u001b[97;41m \u001b[0m│\u001b[97;41m \u001b[0m\u001b[97;41mDuration: 0.5  \u001b[0m\u001b[97;41m \u001b[0m│\u001b[97;41m \u001b[0m\u001b[97;41mCall Type:    \u001b[0m\u001b[97;41m \u001b[0m│\n",
       "│\u001b[97;41m \u001b[0m\u001b[97;41mtrixy         \u001b[0m\u001b[97;41m \u001b[0m│\u001b[97;41m \u001b[0m\u001b[97;41m+639955391623 \u001b[0m\u001b[97;41m \u001b[0m│\u001b[97;41m \u001b[0m\u001b[97;41m10, 2023      \u001b[0m\u001b[97;41m \u001b[0m│\u001b[97;41m             \u001b[0m│\u001b[97;41m             \u001b[0m│\u001b[97;41m \u001b[0m\u001b[97;41mminutes        \u001b[0m\u001b[97;41m \u001b[0m│\u001b[97;41m \u001b[0m\u001b[97;41mMissed        \u001b[0m\u001b[97;41m \u001b[0m│\n",
       "╰────────────────┴────────────────┴────────────────┴─────────────┴─────────────┴─────────────────┴────────────────╯\n"
      ]
     },
     "metadata": {},
     "output_type": "display_data"
    },
    {
     "data": {
      "text/html": [
       "<pre style=\"white-space:pre;overflow-x:auto;line-height:normal;font-family:Menlo,'DejaVu Sans Mono',consolas,'Courier New',monospace\">╭────────────────┬────────────────┬────────────────┬─────────────┬─────────────┬─────────────────┬────────────────╮\n",
       "│<span style=\"color: #ffffff; text-decoration-color: #ffffff; background-color: #008000\"> Name: Ate      </span>│<span style=\"color: #ffffff; text-decoration-color: #ffffff; background-color: #008000\"> Phone Number:  </span>│<span style=\"color: #ffffff; text-decoration-color: #ffffff; background-color: #008000\"> Date: December </span>│<span style=\"color: #ffffff; text-decoration-color: #ffffff; background-color: #008000\"> Day: Sunday </span>│<span style=\"color: #ffffff; text-decoration-color: #ffffff; background-color: #008000\"> Time: 09:17 </span>│<span style=\"color: #ffffff; text-decoration-color: #ffffff; background-color: #008000\"> Duration: 0.4   </span>│<span style=\"color: #ffffff; text-decoration-color: #ffffff; background-color: #008000\"> Call Type:     </span>│\n",
       "│<span style=\"color: #ffffff; text-decoration-color: #ffffff; background-color: #008000\"> trixy          </span>│<span style=\"color: #ffffff; text-decoration-color: #ffffff; background-color: #008000\"> +639955391623  </span>│<span style=\"color: #ffffff; text-decoration-color: #ffffff; background-color: #008000\"> 10, 2023       </span>│<span style=\"color: #ffffff; text-decoration-color: #ffffff; background-color: #008000\">             </span>│<span style=\"color: #ffffff; text-decoration-color: #ffffff; background-color: #008000\">             </span>│<span style=\"color: #ffffff; text-decoration-color: #ffffff; background-color: #008000\"> minutes         </span>│<span style=\"color: #ffffff; text-decoration-color: #ffffff; background-color: #008000\"> Incoming       </span>│\n",
       "│<span style=\"color: #ffffff; text-decoration-color: #ffffff; background-color: #008000\">                </span>│<span style=\"color: #ffffff; text-decoration-color: #ffffff; background-color: #008000\">                </span>│<span style=\"color: #ffffff; text-decoration-color: #ffffff; background-color: #008000\">                </span>│<span style=\"color: #ffffff; text-decoration-color: #ffffff; background-color: #008000\">             </span>│<span style=\"color: #ffffff; text-decoration-color: #ffffff; background-color: #008000\">             </span>│<span style=\"color: #ffffff; text-decoration-color: #ffffff; background-color: #008000\">                 </span>│<span style=\"color: #ffffff; text-decoration-color: #ffffff; background-color: #008000\"> (Successful)   </span>│\n",
       "╰────────────────┴────────────────┴────────────────┴─────────────┴─────────────┴─────────────────┴────────────────╯\n",
       "</pre>\n"
      ],
      "text/plain": [
       "╭────────────────┬────────────────┬────────────────┬─────────────┬─────────────┬─────────────────┬────────────────╮\n",
       "│\u001b[97;42m \u001b[0m\u001b[97;42mName: Ate     \u001b[0m\u001b[97;42m \u001b[0m│\u001b[97;42m \u001b[0m\u001b[97;42mPhone Number: \u001b[0m\u001b[97;42m \u001b[0m│\u001b[97;42m \u001b[0m\u001b[97;42mDate: December\u001b[0m\u001b[97;42m \u001b[0m│\u001b[97;42m \u001b[0m\u001b[97;42mDay: Sunday\u001b[0m\u001b[97;42m \u001b[0m│\u001b[97;42m \u001b[0m\u001b[97;42mTime: 09:17\u001b[0m\u001b[97;42m \u001b[0m│\u001b[97;42m \u001b[0m\u001b[97;42mDuration: 0.4  \u001b[0m\u001b[97;42m \u001b[0m│\u001b[97;42m \u001b[0m\u001b[97;42mCall Type:    \u001b[0m\u001b[97;42m \u001b[0m│\n",
       "│\u001b[97;42m \u001b[0m\u001b[97;42mtrixy         \u001b[0m\u001b[97;42m \u001b[0m│\u001b[97;42m \u001b[0m\u001b[97;42m+639955391623 \u001b[0m\u001b[97;42m \u001b[0m│\u001b[97;42m \u001b[0m\u001b[97;42m10, 2023      \u001b[0m\u001b[97;42m \u001b[0m│\u001b[97;42m             \u001b[0m│\u001b[97;42m             \u001b[0m│\u001b[97;42m \u001b[0m\u001b[97;42mminutes        \u001b[0m\u001b[97;42m \u001b[0m│\u001b[97;42m \u001b[0m\u001b[97;42mIncoming      \u001b[0m\u001b[97;42m \u001b[0m│\n",
       "│\u001b[97;42m                \u001b[0m│\u001b[97;42m                \u001b[0m│\u001b[97;42m                \u001b[0m│\u001b[97;42m             \u001b[0m│\u001b[97;42m             \u001b[0m│\u001b[97;42m                 \u001b[0m│\u001b[97;42m \u001b[0m\u001b[97;42m(Successful)  \u001b[0m\u001b[97;42m \u001b[0m│\n",
       "╰────────────────┴────────────────┴────────────────┴─────────────┴─────────────┴─────────────────┴────────────────╯\n"
      ]
     },
     "metadata": {},
     "output_type": "display_data"
    },
    {
     "data": {
      "text/html": [
       "<pre style=\"white-space:pre;overflow-x:auto;line-height:normal;font-family:Menlo,'DejaVu Sans Mono',consolas,'Courier New',monospace\">╭─────────────┬─────────────────┬────────────────┬───────────────┬─────────────┬─────────────────┬────────────────╮\n",
       "│<span style=\"color: #ffffff; text-decoration-color: #ffffff; background-color: #008000\"> Name: Mommy </span>│<span style=\"color: #ffffff; text-decoration-color: #ffffff; background-color: #008000\"> Phone Number:   </span>│<span style=\"color: #ffffff; text-decoration-color: #ffffff; background-color: #008000\"> Date: December </span>│<span style=\"color: #ffffff; text-decoration-color: #ffffff; background-color: #008000\"> Day: Saturday </span>│<span style=\"color: #ffffff; text-decoration-color: #ffffff; background-color: #008000\"> Time: 21:43 </span>│<span style=\"color: #ffffff; text-decoration-color: #ffffff; background-color: #008000\"> Duration: 2.4   </span>│<span style=\"color: #ffffff; text-decoration-color: #ffffff; background-color: #008000\"> Call Type:     </span>│\n",
       "│<span style=\"color: #ffffff; text-decoration-color: #ffffff; background-color: #008000\">             </span>│<span style=\"color: #ffffff; text-decoration-color: #ffffff; background-color: #008000\"> 09235353226     </span>│<span style=\"color: #ffffff; text-decoration-color: #ffffff; background-color: #008000\"> 09, 2023       </span>│<span style=\"color: #ffffff; text-decoration-color: #ffffff; background-color: #008000\">               </span>│<span style=\"color: #ffffff; text-decoration-color: #ffffff; background-color: #008000\">             </span>│<span style=\"color: #ffffff; text-decoration-color: #ffffff; background-color: #008000\"> minutes         </span>│<span style=\"color: #ffffff; text-decoration-color: #ffffff; background-color: #008000\"> Outgoing       </span>│\n",
       "│<span style=\"color: #ffffff; text-decoration-color: #ffffff; background-color: #008000\">             </span>│<span style=\"color: #ffffff; text-decoration-color: #ffffff; background-color: #008000\">                 </span>│<span style=\"color: #ffffff; text-decoration-color: #ffffff; background-color: #008000\">                </span>│<span style=\"color: #ffffff; text-decoration-color: #ffffff; background-color: #008000\">               </span>│<span style=\"color: #ffffff; text-decoration-color: #ffffff; background-color: #008000\">             </span>│<span style=\"color: #ffffff; text-decoration-color: #ffffff; background-color: #008000\">                 </span>│<span style=\"color: #ffffff; text-decoration-color: #ffffff; background-color: #008000\"> (Successful)   </span>│\n",
       "╰─────────────┴─────────────────┴────────────────┴───────────────┴─────────────┴─────────────────┴────────────────╯\n",
       "</pre>\n"
      ],
      "text/plain": [
       "╭─────────────┬─────────────────┬────────────────┬───────────────┬─────────────┬─────────────────┬────────────────╮\n",
       "│\u001b[97;42m \u001b[0m\u001b[97;42mName: Mommy\u001b[0m\u001b[97;42m \u001b[0m│\u001b[97;42m \u001b[0m\u001b[97;42mPhone Number:  \u001b[0m\u001b[97;42m \u001b[0m│\u001b[97;42m \u001b[0m\u001b[97;42mDate: December\u001b[0m\u001b[97;42m \u001b[0m│\u001b[97;42m \u001b[0m\u001b[97;42mDay: Saturday\u001b[0m\u001b[97;42m \u001b[0m│\u001b[97;42m \u001b[0m\u001b[97;42mTime: 21:43\u001b[0m\u001b[97;42m \u001b[0m│\u001b[97;42m \u001b[0m\u001b[97;42mDuration: 2.4  \u001b[0m\u001b[97;42m \u001b[0m│\u001b[97;42m \u001b[0m\u001b[97;42mCall Type:    \u001b[0m\u001b[97;42m \u001b[0m│\n",
       "│\u001b[97;42m             \u001b[0m│\u001b[97;42m \u001b[0m\u001b[97;42m09235353226    \u001b[0m\u001b[97;42m \u001b[0m│\u001b[97;42m \u001b[0m\u001b[97;42m09, 2023      \u001b[0m\u001b[97;42m \u001b[0m│\u001b[97;42m               \u001b[0m│\u001b[97;42m             \u001b[0m│\u001b[97;42m \u001b[0m\u001b[97;42mminutes        \u001b[0m\u001b[97;42m \u001b[0m│\u001b[97;42m \u001b[0m\u001b[97;42mOutgoing      \u001b[0m\u001b[97;42m \u001b[0m│\n",
       "│\u001b[97;42m             \u001b[0m│\u001b[97;42m                 \u001b[0m│\u001b[97;42m                \u001b[0m│\u001b[97;42m               \u001b[0m│\u001b[97;42m             \u001b[0m│\u001b[97;42m                 \u001b[0m│\u001b[97;42m \u001b[0m\u001b[97;42m(Successful)  \u001b[0m\u001b[97;42m \u001b[0m│\n",
       "╰─────────────┴─────────────────┴────────────────┴───────────────┴─────────────┴─────────────────┴────────────────╯\n"
      ]
     },
     "metadata": {},
     "output_type": "display_data"
    },
    {
     "data": {
      "text/html": [
       "<pre style=\"white-space:pre;overflow-x:auto;line-height:normal;font-family:Menlo,'DejaVu Sans Mono',consolas,'Courier New',monospace\">╭────────────────┬────────────────┬────────────────┬───────────────┬─────────────┬────────────────┬───────────────╮\n",
       "│<span style=\"color: #ffffff; text-decoration-color: #ffffff; background-color: #008000\"> Name: Kuya Gen </span>│<span style=\"color: #ffffff; text-decoration-color: #ffffff; background-color: #008000\"> Phone Number:  </span>│<span style=\"color: #ffffff; text-decoration-color: #ffffff; background-color: #008000\"> Date: December </span>│<span style=\"color: #ffffff; text-decoration-color: #ffffff; background-color: #008000\"> Day: Saturday </span>│<span style=\"color: #ffffff; text-decoration-color: #ffffff; background-color: #008000\"> Time: 21:40 </span>│<span style=\"color: #ffffff; text-decoration-color: #ffffff; background-color: #008000\"> Duration: 0.0  </span>│<span style=\"color: #ffffff; text-decoration-color: #ffffff; background-color: #008000\"> Call Type:    </span>│\n",
       "│<span style=\"color: #ffffff; text-decoration-color: #ffffff; background-color: #008000\">                </span>│<span style=\"color: #ffffff; text-decoration-color: #ffffff; background-color: #008000\"> +639274863653  </span>│<span style=\"color: #ffffff; text-decoration-color: #ffffff; background-color: #008000\"> 09, 2023       </span>│<span style=\"color: #ffffff; text-decoration-color: #ffffff; background-color: #008000\">               </span>│<span style=\"color: #ffffff; text-decoration-color: #ffffff; background-color: #008000\">             </span>│<span style=\"color: #ffffff; text-decoration-color: #ffffff; background-color: #008000\"> minutes        </span>│<span style=\"color: #ffffff; text-decoration-color: #ffffff; background-color: #008000\"> Outgoing      </span>│\n",
       "│<span style=\"color: #ffffff; text-decoration-color: #ffffff; background-color: #008000\">                </span>│<span style=\"color: #ffffff; text-decoration-color: #ffffff; background-color: #008000\">                </span>│<span style=\"color: #ffffff; text-decoration-color: #ffffff; background-color: #008000\">                </span>│<span style=\"color: #ffffff; text-decoration-color: #ffffff; background-color: #008000\">               </span>│<span style=\"color: #ffffff; text-decoration-color: #ffffff; background-color: #008000\">             </span>│<span style=\"color: #ffffff; text-decoration-color: #ffffff; background-color: #008000\">                </span>│<span style=\"color: #ffffff; text-decoration-color: #ffffff; background-color: #008000\"> (Successful)  </span>│\n",
       "╰────────────────┴────────────────┴────────────────┴───────────────┴─────────────┴────────────────┴───────────────╯\n",
       "</pre>\n"
      ],
      "text/plain": [
       "╭────────────────┬────────────────┬────────────────┬───────────────┬─────────────┬────────────────┬───────────────╮\n",
       "│\u001b[97;42m \u001b[0m\u001b[97;42mName: Kuya Gen\u001b[0m\u001b[97;42m \u001b[0m│\u001b[97;42m \u001b[0m\u001b[97;42mPhone Number: \u001b[0m\u001b[97;42m \u001b[0m│\u001b[97;42m \u001b[0m\u001b[97;42mDate: December\u001b[0m\u001b[97;42m \u001b[0m│\u001b[97;42m \u001b[0m\u001b[97;42mDay: Saturday\u001b[0m\u001b[97;42m \u001b[0m│\u001b[97;42m \u001b[0m\u001b[97;42mTime: 21:40\u001b[0m\u001b[97;42m \u001b[0m│\u001b[97;42m \u001b[0m\u001b[97;42mDuration: 0.0 \u001b[0m\u001b[97;42m \u001b[0m│\u001b[97;42m \u001b[0m\u001b[97;42mCall Type:   \u001b[0m\u001b[97;42m \u001b[0m│\n",
       "│\u001b[97;42m                \u001b[0m│\u001b[97;42m \u001b[0m\u001b[97;42m+639274863653 \u001b[0m\u001b[97;42m \u001b[0m│\u001b[97;42m \u001b[0m\u001b[97;42m09, 2023      \u001b[0m\u001b[97;42m \u001b[0m│\u001b[97;42m               \u001b[0m│\u001b[97;42m             \u001b[0m│\u001b[97;42m \u001b[0m\u001b[97;42mminutes       \u001b[0m\u001b[97;42m \u001b[0m│\u001b[97;42m \u001b[0m\u001b[97;42mOutgoing     \u001b[0m\u001b[97;42m \u001b[0m│\n",
       "│\u001b[97;42m                \u001b[0m│\u001b[97;42m                \u001b[0m│\u001b[97;42m                \u001b[0m│\u001b[97;42m               \u001b[0m│\u001b[97;42m             \u001b[0m│\u001b[97;42m                \u001b[0m│\u001b[97;42m \u001b[0m\u001b[97;42m(Successful) \u001b[0m\u001b[97;42m \u001b[0m│\n",
       "╰────────────────┴────────────────┴────────────────┴───────────────┴─────────────┴────────────────┴───────────────╯\n"
      ]
     },
     "metadata": {},
     "output_type": "display_data"
    },
    {
     "name": "stdout",
     "output_type": "stream",
     "text": [
      "Enter the number of call log entries to process (or 'exit' to quit) [10-653]: exit\n",
      "Do you want to peek at the latest call log entry before exiting? (yes/no): yes\n",
      "Latest entry to be processed:\n"
     ]
    },
    {
     "data": {
      "text/html": [
       "<pre style=\"white-space:pre;overflow-x:auto;line-height:normal;font-family:Menlo,'DejaVu Sans Mono',consolas,'Courier New',monospace\">╭───────────────┬─────────────────┬────────────────┬─────────────┬─────────────┬─────────────────┬────────────────╮\n",
       "│<span style=\"color: #ffffff; text-decoration-color: #ffffff; background-color: #008000\"> Name: Johnlee </span>│<span style=\"color: #ffffff; text-decoration-color: #ffffff; background-color: #008000\"> Phone Number:   </span>│<span style=\"color: #ffffff; text-decoration-color: #ffffff; background-color: #008000\"> Date: December </span>│<span style=\"color: #ffffff; text-decoration-color: #ffffff; background-color: #008000\"> Day: Monday </span>│<span style=\"color: #ffffff; text-decoration-color: #ffffff; background-color: #008000\"> Time: 20:01 </span>│<span style=\"color: #ffffff; text-decoration-color: #ffffff; background-color: #008000\"> Duration: 0.0   </span>│<span style=\"color: #ffffff; text-decoration-color: #ffffff; background-color: #008000\"> Call Type:     </span>│\n",
       "│<span style=\"color: #ffffff; text-decoration-color: #ffffff; background-color: #008000\">               </span>│<span style=\"color: #ffffff; text-decoration-color: #ffffff; background-color: #008000\"> 09396327507     </span>│<span style=\"color: #ffffff; text-decoration-color: #ffffff; background-color: #008000\"> 11, 2023       </span>│<span style=\"color: #ffffff; text-decoration-color: #ffffff; background-color: #008000\">             </span>│<span style=\"color: #ffffff; text-decoration-color: #ffffff; background-color: #008000\">             </span>│<span style=\"color: #ffffff; text-decoration-color: #ffffff; background-color: #008000\"> minutes         </span>│<span style=\"color: #ffffff; text-decoration-color: #ffffff; background-color: #008000\"> Outgoing       </span>│\n",
       "│<span style=\"color: #ffffff; text-decoration-color: #ffffff; background-color: #008000\">               </span>│<span style=\"color: #ffffff; text-decoration-color: #ffffff; background-color: #008000\">                 </span>│<span style=\"color: #ffffff; text-decoration-color: #ffffff; background-color: #008000\">                </span>│<span style=\"color: #ffffff; text-decoration-color: #ffffff; background-color: #008000\">             </span>│<span style=\"color: #ffffff; text-decoration-color: #ffffff; background-color: #008000\">             </span>│<span style=\"color: #ffffff; text-decoration-color: #ffffff; background-color: #008000\">                 </span>│<span style=\"color: #ffffff; text-decoration-color: #ffffff; background-color: #008000\"> (Successful)   </span>│\n",
       "╰───────────────┴─────────────────┴────────────────┴─────────────┴─────────────┴─────────────────┴────────────────╯\n",
       "</pre>\n"
      ],
      "text/plain": [
       "╭───────────────┬─────────────────┬────────────────┬─────────────┬─────────────┬─────────────────┬────────────────╮\n",
       "│\u001b[97;42m \u001b[0m\u001b[97;42mName: Johnlee\u001b[0m\u001b[97;42m \u001b[0m│\u001b[97;42m \u001b[0m\u001b[97;42mPhone Number:  \u001b[0m\u001b[97;42m \u001b[0m│\u001b[97;42m \u001b[0m\u001b[97;42mDate: December\u001b[0m\u001b[97;42m \u001b[0m│\u001b[97;42m \u001b[0m\u001b[97;42mDay: Monday\u001b[0m\u001b[97;42m \u001b[0m│\u001b[97;42m \u001b[0m\u001b[97;42mTime: 20:01\u001b[0m\u001b[97;42m \u001b[0m│\u001b[97;42m \u001b[0m\u001b[97;42mDuration: 0.0  \u001b[0m\u001b[97;42m \u001b[0m│\u001b[97;42m \u001b[0m\u001b[97;42mCall Type:    \u001b[0m\u001b[97;42m \u001b[0m│\n",
       "│\u001b[97;42m               \u001b[0m│\u001b[97;42m \u001b[0m\u001b[97;42m09396327507    \u001b[0m\u001b[97;42m \u001b[0m│\u001b[97;42m \u001b[0m\u001b[97;42m11, 2023      \u001b[0m\u001b[97;42m \u001b[0m│\u001b[97;42m             \u001b[0m│\u001b[97;42m             \u001b[0m│\u001b[97;42m \u001b[0m\u001b[97;42mminutes        \u001b[0m\u001b[97;42m \u001b[0m│\u001b[97;42m \u001b[0m\u001b[97;42mOutgoing      \u001b[0m\u001b[97;42m \u001b[0m│\n",
       "│\u001b[97;42m               \u001b[0m│\u001b[97;42m                 \u001b[0m│\u001b[97;42m                \u001b[0m│\u001b[97;42m             \u001b[0m│\u001b[97;42m             \u001b[0m│\u001b[97;42m                 \u001b[0m│\u001b[97;42m \u001b[0m\u001b[97;42m(Successful)  \u001b[0m\u001b[97;42m \u001b[0m│\n",
       "╰───────────────┴─────────────────┴────────────────┴─────────────┴─────────────┴─────────────────┴────────────────╯\n"
      ]
     },
     "metadata": {},
     "output_type": "display_data"
    },
    {
     "data": {
      "text/html": [
       "<pre style=\"white-space:pre;overflow-x:auto;line-height:normal;font-family:Menlo,'DejaVu Sans Mono',consolas,'Courier New',monospace\">╭────────────────┬────────────────┬────────────────┬─────────────┬─────────────┬─────────────────┬────────────────╮\n",
       "│<span style=\"color: #ffffff; text-decoration-color: #ffffff; background-color: #008000\"> Name: Ate      </span>│<span style=\"color: #ffffff; text-decoration-color: #ffffff; background-color: #008000\"> Phone Number:  </span>│<span style=\"color: #ffffff; text-decoration-color: #ffffff; background-color: #008000\"> Date: December </span>│<span style=\"color: #ffffff; text-decoration-color: #ffffff; background-color: #008000\"> Day: Sunday </span>│<span style=\"color: #ffffff; text-decoration-color: #ffffff; background-color: #008000\"> Time: 09:17 </span>│<span style=\"color: #ffffff; text-decoration-color: #ffffff; background-color: #008000\"> Duration: 0.4   </span>│<span style=\"color: #ffffff; text-decoration-color: #ffffff; background-color: #008000\"> Call Type:     </span>│\n",
       "│<span style=\"color: #ffffff; text-decoration-color: #ffffff; background-color: #008000\"> trixy          </span>│<span style=\"color: #ffffff; text-decoration-color: #ffffff; background-color: #008000\"> +639955391623  </span>│<span style=\"color: #ffffff; text-decoration-color: #ffffff; background-color: #008000\"> 10, 2023       </span>│<span style=\"color: #ffffff; text-decoration-color: #ffffff; background-color: #008000\">             </span>│<span style=\"color: #ffffff; text-decoration-color: #ffffff; background-color: #008000\">             </span>│<span style=\"color: #ffffff; text-decoration-color: #ffffff; background-color: #008000\"> minutes         </span>│<span style=\"color: #ffffff; text-decoration-color: #ffffff; background-color: #008000\"> Incoming       </span>│\n",
       "│<span style=\"color: #ffffff; text-decoration-color: #ffffff; background-color: #008000\">                </span>│<span style=\"color: #ffffff; text-decoration-color: #ffffff; background-color: #008000\">                </span>│<span style=\"color: #ffffff; text-decoration-color: #ffffff; background-color: #008000\">                </span>│<span style=\"color: #ffffff; text-decoration-color: #ffffff; background-color: #008000\">             </span>│<span style=\"color: #ffffff; text-decoration-color: #ffffff; background-color: #008000\">             </span>│<span style=\"color: #ffffff; text-decoration-color: #ffffff; background-color: #008000\">                 </span>│<span style=\"color: #ffffff; text-decoration-color: #ffffff; background-color: #008000\"> (Successful)   </span>│\n",
       "╰────────────────┴────────────────┴────────────────┴─────────────┴─────────────┴─────────────────┴────────────────╯\n",
       "</pre>\n"
      ],
      "text/plain": [
       "╭────────────────┬────────────────┬────────────────┬─────────────┬─────────────┬─────────────────┬────────────────╮\n",
       "│\u001b[97;42m \u001b[0m\u001b[97;42mName: Ate     \u001b[0m\u001b[97;42m \u001b[0m│\u001b[97;42m \u001b[0m\u001b[97;42mPhone Number: \u001b[0m\u001b[97;42m \u001b[0m│\u001b[97;42m \u001b[0m\u001b[97;42mDate: December\u001b[0m\u001b[97;42m \u001b[0m│\u001b[97;42m \u001b[0m\u001b[97;42mDay: Sunday\u001b[0m\u001b[97;42m \u001b[0m│\u001b[97;42m \u001b[0m\u001b[97;42mTime: 09:17\u001b[0m\u001b[97;42m \u001b[0m│\u001b[97;42m \u001b[0m\u001b[97;42mDuration: 0.4  \u001b[0m\u001b[97;42m \u001b[0m│\u001b[97;42m \u001b[0m\u001b[97;42mCall Type:    \u001b[0m\u001b[97;42m \u001b[0m│\n",
       "│\u001b[97;42m \u001b[0m\u001b[97;42mtrixy         \u001b[0m\u001b[97;42m \u001b[0m│\u001b[97;42m \u001b[0m\u001b[97;42m+639955391623 \u001b[0m\u001b[97;42m \u001b[0m│\u001b[97;42m \u001b[0m\u001b[97;42m10, 2023      \u001b[0m\u001b[97;42m \u001b[0m│\u001b[97;42m             \u001b[0m│\u001b[97;42m             \u001b[0m│\u001b[97;42m \u001b[0m\u001b[97;42mminutes        \u001b[0m\u001b[97;42m \u001b[0m│\u001b[97;42m \u001b[0m\u001b[97;42mIncoming      \u001b[0m\u001b[97;42m \u001b[0m│\n",
       "│\u001b[97;42m                \u001b[0m│\u001b[97;42m                \u001b[0m│\u001b[97;42m                \u001b[0m│\u001b[97;42m             \u001b[0m│\u001b[97;42m             \u001b[0m│\u001b[97;42m                 \u001b[0m│\u001b[97;42m \u001b[0m\u001b[97;42m(Successful)  \u001b[0m\u001b[97;42m \u001b[0m│\n",
       "╰────────────────┴────────────────┴────────────────┴─────────────┴─────────────┴─────────────────┴────────────────╯\n"
      ]
     },
     "metadata": {},
     "output_type": "display_data"
    },
    {
     "data": {
      "text/html": [
       "<pre style=\"white-space:pre;overflow-x:auto;line-height:normal;font-family:Menlo,'DejaVu Sans Mono',consolas,'Courier New',monospace\">╭────────────────┬────────────────┬────────────────┬─────────────┬─────────────┬─────────────────┬────────────────╮\n",
       "│<span style=\"color: #ffffff; text-decoration-color: #ffffff; background-color: #800000\"> Name: Ate      </span>│<span style=\"color: #ffffff; text-decoration-color: #ffffff; background-color: #800000\"> Phone Number:  </span>│<span style=\"color: #ffffff; text-decoration-color: #ffffff; background-color: #800000\"> Date: December </span>│<span style=\"color: #ffffff; text-decoration-color: #ffffff; background-color: #800000\"> Day: Sunday </span>│<span style=\"color: #ffffff; text-decoration-color: #ffffff; background-color: #800000\"> Time: 10:34 </span>│<span style=\"color: #ffffff; text-decoration-color: #ffffff; background-color: #800000\"> Duration: 0.5   </span>│<span style=\"color: #ffffff; text-decoration-color: #ffffff; background-color: #800000\"> Call Type:     </span>│\n",
       "│<span style=\"color: #ffffff; text-decoration-color: #ffffff; background-color: #800000\"> trixy          </span>│<span style=\"color: #ffffff; text-decoration-color: #ffffff; background-color: #800000\"> +639955391623  </span>│<span style=\"color: #ffffff; text-decoration-color: #ffffff; background-color: #800000\"> 10, 2023       </span>│<span style=\"color: #ffffff; text-decoration-color: #ffffff; background-color: #800000\">             </span>│<span style=\"color: #ffffff; text-decoration-color: #ffffff; background-color: #800000\">             </span>│<span style=\"color: #ffffff; text-decoration-color: #ffffff; background-color: #800000\"> minutes         </span>│<span style=\"color: #ffffff; text-decoration-color: #ffffff; background-color: #800000\"> Missed         </span>│\n",
       "╰────────────────┴────────────────┴────────────────┴─────────────┴─────────────┴─────────────────┴────────────────╯\n",
       "</pre>\n"
      ],
      "text/plain": [
       "╭────────────────┬────────────────┬────────────────┬─────────────┬─────────────┬─────────────────┬────────────────╮\n",
       "│\u001b[97;41m \u001b[0m\u001b[97;41mName: Ate     \u001b[0m\u001b[97;41m \u001b[0m│\u001b[97;41m \u001b[0m\u001b[97;41mPhone Number: \u001b[0m\u001b[97;41m \u001b[0m│\u001b[97;41m \u001b[0m\u001b[97;41mDate: December\u001b[0m\u001b[97;41m \u001b[0m│\u001b[97;41m \u001b[0m\u001b[97;41mDay: Sunday\u001b[0m\u001b[97;41m \u001b[0m│\u001b[97;41m \u001b[0m\u001b[97;41mTime: 10:34\u001b[0m\u001b[97;41m \u001b[0m│\u001b[97;41m \u001b[0m\u001b[97;41mDuration: 0.5  \u001b[0m\u001b[97;41m \u001b[0m│\u001b[97;41m \u001b[0m\u001b[97;41mCall Type:    \u001b[0m\u001b[97;41m \u001b[0m│\n",
       "│\u001b[97;41m \u001b[0m\u001b[97;41mtrixy         \u001b[0m\u001b[97;41m \u001b[0m│\u001b[97;41m \u001b[0m\u001b[97;41m+639955391623 \u001b[0m\u001b[97;41m \u001b[0m│\u001b[97;41m \u001b[0m\u001b[97;41m10, 2023      \u001b[0m\u001b[97;41m \u001b[0m│\u001b[97;41m             \u001b[0m│\u001b[97;41m             \u001b[0m│\u001b[97;41m \u001b[0m\u001b[97;41mminutes        \u001b[0m\u001b[97;41m \u001b[0m│\u001b[97;41m \u001b[0m\u001b[97;41mMissed        \u001b[0m\u001b[97;41m \u001b[0m│\n",
       "╰────────────────┴────────────────┴────────────────┴─────────────┴─────────────┴─────────────────┴────────────────╯\n"
      ]
     },
     "metadata": {},
     "output_type": "display_data"
    },
    {
     "data": {
      "text/html": [
       "<pre style=\"white-space:pre;overflow-x:auto;line-height:normal;font-family:Menlo,'DejaVu Sans Mono',consolas,'Courier New',monospace\">╭─────────────┬─────────────────┬─────────────────┬─────────────┬─────────────┬─────────────────┬─────────────────╮\n",
       "│<span style=\"color: #ffffff; text-decoration-color: #ffffff; background-color: #008000\"> Name: Mommy </span>│<span style=\"color: #ffffff; text-decoration-color: #ffffff; background-color: #008000\"> Phone Number:   </span>│<span style=\"color: #ffffff; text-decoration-color: #ffffff; background-color: #008000\"> Date: December  </span>│<span style=\"color: #ffffff; text-decoration-color: #ffffff; background-color: #008000\"> Day: Monday </span>│<span style=\"color: #ffffff; text-decoration-color: #ffffff; background-color: #008000\"> Time: 11:51 </span>│<span style=\"color: #ffffff; text-decoration-color: #ffffff; background-color: #008000\"> Duration: 0.0   </span>│<span style=\"color: #ffffff; text-decoration-color: #ffffff; background-color: #008000\"> Call Type:      </span>│\n",
       "│<span style=\"color: #ffffff; text-decoration-color: #ffffff; background-color: #008000\">             </span>│<span style=\"color: #ffffff; text-decoration-color: #ffffff; background-color: #008000\"> 09235353226     </span>│<span style=\"color: #ffffff; text-decoration-color: #ffffff; background-color: #008000\"> 11, 2023        </span>│<span style=\"color: #ffffff; text-decoration-color: #ffffff; background-color: #008000\">             </span>│<span style=\"color: #ffffff; text-decoration-color: #ffffff; background-color: #008000\">             </span>│<span style=\"color: #ffffff; text-decoration-color: #ffffff; background-color: #008000\"> minutes         </span>│<span style=\"color: #ffffff; text-decoration-color: #ffffff; background-color: #008000\"> Outgoing        </span>│\n",
       "│<span style=\"color: #ffffff; text-decoration-color: #ffffff; background-color: #008000\">             </span>│<span style=\"color: #ffffff; text-decoration-color: #ffffff; background-color: #008000\">                 </span>│<span style=\"color: #ffffff; text-decoration-color: #ffffff; background-color: #008000\">                 </span>│<span style=\"color: #ffffff; text-decoration-color: #ffffff; background-color: #008000\">             </span>│<span style=\"color: #ffffff; text-decoration-color: #ffffff; background-color: #008000\">             </span>│<span style=\"color: #ffffff; text-decoration-color: #ffffff; background-color: #008000\">                 </span>│<span style=\"color: #ffffff; text-decoration-color: #ffffff; background-color: #008000\"> (Successful)    </span>│\n",
       "╰─────────────┴─────────────────┴─────────────────┴─────────────┴─────────────┴─────────────────┴─────────────────╯\n",
       "</pre>\n"
      ],
      "text/plain": [
       "╭─────────────┬─────────────────┬─────────────────┬─────────────┬─────────────┬─────────────────┬─────────────────╮\n",
       "│\u001b[97;42m \u001b[0m\u001b[97;42mName: Mommy\u001b[0m\u001b[97;42m \u001b[0m│\u001b[97;42m \u001b[0m\u001b[97;42mPhone Number:  \u001b[0m\u001b[97;42m \u001b[0m│\u001b[97;42m \u001b[0m\u001b[97;42mDate: December \u001b[0m\u001b[97;42m \u001b[0m│\u001b[97;42m \u001b[0m\u001b[97;42mDay: Monday\u001b[0m\u001b[97;42m \u001b[0m│\u001b[97;42m \u001b[0m\u001b[97;42mTime: 11:51\u001b[0m\u001b[97;42m \u001b[0m│\u001b[97;42m \u001b[0m\u001b[97;42mDuration: 0.0  \u001b[0m\u001b[97;42m \u001b[0m│\u001b[97;42m \u001b[0m\u001b[97;42mCall Type:     \u001b[0m\u001b[97;42m \u001b[0m│\n",
       "│\u001b[97;42m             \u001b[0m│\u001b[97;42m \u001b[0m\u001b[97;42m09235353226    \u001b[0m\u001b[97;42m \u001b[0m│\u001b[97;42m \u001b[0m\u001b[97;42m11, 2023       \u001b[0m\u001b[97;42m \u001b[0m│\u001b[97;42m             \u001b[0m│\u001b[97;42m             \u001b[0m│\u001b[97;42m \u001b[0m\u001b[97;42mminutes        \u001b[0m\u001b[97;42m \u001b[0m│\u001b[97;42m \u001b[0m\u001b[97;42mOutgoing       \u001b[0m\u001b[97;42m \u001b[0m│\n",
       "│\u001b[97;42m             \u001b[0m│\u001b[97;42m                 \u001b[0m│\u001b[97;42m                 \u001b[0m│\u001b[97;42m             \u001b[0m│\u001b[97;42m             \u001b[0m│\u001b[97;42m                 \u001b[0m│\u001b[97;42m \u001b[0m\u001b[97;42m(Successful)   \u001b[0m\u001b[97;42m \u001b[0m│\n",
       "╰─────────────┴─────────────────┴─────────────────┴─────────────┴─────────────┴─────────────────┴─────────────────╯\n"
      ]
     },
     "metadata": {},
     "output_type": "display_data"
    },
    {
     "data": {
      "text/html": [
       "<pre style=\"white-space:pre;overflow-x:auto;line-height:normal;font-family:Menlo,'DejaVu Sans Mono',consolas,'Courier New',monospace\">╭─────────────┬─────────────────┬─────────────────┬─────────────┬─────────────┬─────────────────┬─────────────────╮\n",
       "│<span style=\"color: #ffffff; text-decoration-color: #ffffff; background-color: #008000\"> Name: Mommy </span>│<span style=\"color: #ffffff; text-decoration-color: #ffffff; background-color: #008000\"> Phone Number:   </span>│<span style=\"color: #ffffff; text-decoration-color: #ffffff; background-color: #008000\"> Date: December  </span>│<span style=\"color: #ffffff; text-decoration-color: #ffffff; background-color: #008000\"> Day: Monday </span>│<span style=\"color: #ffffff; text-decoration-color: #ffffff; background-color: #008000\"> Time: 11:55 </span>│<span style=\"color: #ffffff; text-decoration-color: #ffffff; background-color: #008000\"> Duration: 0.9   </span>│<span style=\"color: #ffffff; text-decoration-color: #ffffff; background-color: #008000\"> Call Type:      </span>│\n",
       "│<span style=\"color: #ffffff; text-decoration-color: #ffffff; background-color: #008000\">             </span>│<span style=\"color: #ffffff; text-decoration-color: #ffffff; background-color: #008000\"> 09235353226     </span>│<span style=\"color: #ffffff; text-decoration-color: #ffffff; background-color: #008000\"> 11, 2023        </span>│<span style=\"color: #ffffff; text-decoration-color: #ffffff; background-color: #008000\">             </span>│<span style=\"color: #ffffff; text-decoration-color: #ffffff; background-color: #008000\">             </span>│<span style=\"color: #ffffff; text-decoration-color: #ffffff; background-color: #008000\"> minutes         </span>│<span style=\"color: #ffffff; text-decoration-color: #ffffff; background-color: #008000\"> Outgoing        </span>│\n",
       "│<span style=\"color: #ffffff; text-decoration-color: #ffffff; background-color: #008000\">             </span>│<span style=\"color: #ffffff; text-decoration-color: #ffffff; background-color: #008000\">                 </span>│<span style=\"color: #ffffff; text-decoration-color: #ffffff; background-color: #008000\">                 </span>│<span style=\"color: #ffffff; text-decoration-color: #ffffff; background-color: #008000\">             </span>│<span style=\"color: #ffffff; text-decoration-color: #ffffff; background-color: #008000\">             </span>│<span style=\"color: #ffffff; text-decoration-color: #ffffff; background-color: #008000\">                 </span>│<span style=\"color: #ffffff; text-decoration-color: #ffffff; background-color: #008000\"> (Successful)    </span>│\n",
       "╰─────────────┴─────────────────┴─────────────────┴─────────────┴─────────────┴─────────────────┴─────────────────╯\n",
       "</pre>\n"
      ],
      "text/plain": [
       "╭─────────────┬─────────────────┬─────────────────┬─────────────┬─────────────┬─────────────────┬─────────────────╮\n",
       "│\u001b[97;42m \u001b[0m\u001b[97;42mName: Mommy\u001b[0m\u001b[97;42m \u001b[0m│\u001b[97;42m \u001b[0m\u001b[97;42mPhone Number:  \u001b[0m\u001b[97;42m \u001b[0m│\u001b[97;42m \u001b[0m\u001b[97;42mDate: December \u001b[0m\u001b[97;42m \u001b[0m│\u001b[97;42m \u001b[0m\u001b[97;42mDay: Monday\u001b[0m\u001b[97;42m \u001b[0m│\u001b[97;42m \u001b[0m\u001b[97;42mTime: 11:55\u001b[0m\u001b[97;42m \u001b[0m│\u001b[97;42m \u001b[0m\u001b[97;42mDuration: 0.9  \u001b[0m\u001b[97;42m \u001b[0m│\u001b[97;42m \u001b[0m\u001b[97;42mCall Type:     \u001b[0m\u001b[97;42m \u001b[0m│\n",
       "│\u001b[97;42m             \u001b[0m│\u001b[97;42m \u001b[0m\u001b[97;42m09235353226    \u001b[0m\u001b[97;42m \u001b[0m│\u001b[97;42m \u001b[0m\u001b[97;42m11, 2023       \u001b[0m\u001b[97;42m \u001b[0m│\u001b[97;42m             \u001b[0m│\u001b[97;42m             \u001b[0m│\u001b[97;42m \u001b[0m\u001b[97;42mminutes        \u001b[0m\u001b[97;42m \u001b[0m│\u001b[97;42m \u001b[0m\u001b[97;42mOutgoing       \u001b[0m\u001b[97;42m \u001b[0m│\n",
       "│\u001b[97;42m             \u001b[0m│\u001b[97;42m                 \u001b[0m│\u001b[97;42m                 \u001b[0m│\u001b[97;42m             \u001b[0m│\u001b[97;42m             \u001b[0m│\u001b[97;42m                 \u001b[0m│\u001b[97;42m \u001b[0m\u001b[97;42m(Successful)   \u001b[0m\u001b[97;42m \u001b[0m│\n",
       "╰─────────────┴─────────────────┴─────────────────┴─────────────┴─────────────┴─────────────────┴─────────────────╯\n"
      ]
     },
     "metadata": {},
     "output_type": "display_data"
    },
    {
     "data": {
      "text/html": [
       "<pre style=\"white-space:pre;overflow-x:auto;line-height:normal;font-family:Menlo,'DejaVu Sans Mono',consolas,'Courier New',monospace\">╭────────────────┬────────────────┬────────────────┬─────────────┬─────────────┬─────────────────┬────────────────╮\n",
       "│<span style=\"color: #ffffff; text-decoration-color: #ffffff; background-color: #008000\"> Name: Kuya Gen </span>│<span style=\"color: #ffffff; text-decoration-color: #ffffff; background-color: #008000\"> Phone Number:  </span>│<span style=\"color: #ffffff; text-decoration-color: #ffffff; background-color: #008000\"> Date: December </span>│<span style=\"color: #ffffff; text-decoration-color: #ffffff; background-color: #008000\"> Day: Monday </span>│<span style=\"color: #ffffff; text-decoration-color: #ffffff; background-color: #008000\"> Time: 12:04 </span>│<span style=\"color: #ffffff; text-decoration-color: #ffffff; background-color: #008000\"> Duration: 0.0   </span>│<span style=\"color: #ffffff; text-decoration-color: #ffffff; background-color: #008000\"> Call Type:     </span>│\n",
       "│<span style=\"color: #ffffff; text-decoration-color: #ffffff; background-color: #008000\">                </span>│<span style=\"color: #ffffff; text-decoration-color: #ffffff; background-color: #008000\"> +639274863653  </span>│<span style=\"color: #ffffff; text-decoration-color: #ffffff; background-color: #008000\"> 11, 2023       </span>│<span style=\"color: #ffffff; text-decoration-color: #ffffff; background-color: #008000\">             </span>│<span style=\"color: #ffffff; text-decoration-color: #ffffff; background-color: #008000\">             </span>│<span style=\"color: #ffffff; text-decoration-color: #ffffff; background-color: #008000\"> minutes         </span>│<span style=\"color: #ffffff; text-decoration-color: #ffffff; background-color: #008000\"> Outgoing       </span>│\n",
       "│<span style=\"color: #ffffff; text-decoration-color: #ffffff; background-color: #008000\">                </span>│<span style=\"color: #ffffff; text-decoration-color: #ffffff; background-color: #008000\">                </span>│<span style=\"color: #ffffff; text-decoration-color: #ffffff; background-color: #008000\">                </span>│<span style=\"color: #ffffff; text-decoration-color: #ffffff; background-color: #008000\">             </span>│<span style=\"color: #ffffff; text-decoration-color: #ffffff; background-color: #008000\">             </span>│<span style=\"color: #ffffff; text-decoration-color: #ffffff; background-color: #008000\">                 </span>│<span style=\"color: #ffffff; text-decoration-color: #ffffff; background-color: #008000\"> (Successful)   </span>│\n",
       "╰────────────────┴────────────────┴────────────────┴─────────────┴─────────────┴─────────────────┴────────────────╯\n",
       "</pre>\n"
      ],
      "text/plain": [
       "╭────────────────┬────────────────┬────────────────┬─────────────┬─────────────┬─────────────────┬────────────────╮\n",
       "│\u001b[97;42m \u001b[0m\u001b[97;42mName: Kuya Gen\u001b[0m\u001b[97;42m \u001b[0m│\u001b[97;42m \u001b[0m\u001b[97;42mPhone Number: \u001b[0m\u001b[97;42m \u001b[0m│\u001b[97;42m \u001b[0m\u001b[97;42mDate: December\u001b[0m\u001b[97;42m \u001b[0m│\u001b[97;42m \u001b[0m\u001b[97;42mDay: Monday\u001b[0m\u001b[97;42m \u001b[0m│\u001b[97;42m \u001b[0m\u001b[97;42mTime: 12:04\u001b[0m\u001b[97;42m \u001b[0m│\u001b[97;42m \u001b[0m\u001b[97;42mDuration: 0.0  \u001b[0m\u001b[97;42m \u001b[0m│\u001b[97;42m \u001b[0m\u001b[97;42mCall Type:    \u001b[0m\u001b[97;42m \u001b[0m│\n",
       "│\u001b[97;42m                \u001b[0m│\u001b[97;42m \u001b[0m\u001b[97;42m+639274863653 \u001b[0m\u001b[97;42m \u001b[0m│\u001b[97;42m \u001b[0m\u001b[97;42m11, 2023      \u001b[0m\u001b[97;42m \u001b[0m│\u001b[97;42m             \u001b[0m│\u001b[97;42m             \u001b[0m│\u001b[97;42m \u001b[0m\u001b[97;42mminutes        \u001b[0m\u001b[97;42m \u001b[0m│\u001b[97;42m \u001b[0m\u001b[97;42mOutgoing      \u001b[0m\u001b[97;42m \u001b[0m│\n",
       "│\u001b[97;42m                \u001b[0m│\u001b[97;42m                \u001b[0m│\u001b[97;42m                \u001b[0m│\u001b[97;42m             \u001b[0m│\u001b[97;42m             \u001b[0m│\u001b[97;42m                 \u001b[0m│\u001b[97;42m \u001b[0m\u001b[97;42m(Successful)  \u001b[0m\u001b[97;42m \u001b[0m│\n",
       "╰────────────────┴────────────────┴────────────────┴─────────────┴─────────────┴─────────────────┴────────────────╯\n"
      ]
     },
     "metadata": {},
     "output_type": "display_data"
    },
    {
     "data": {
      "text/html": [
       "<pre style=\"white-space:pre;overflow-x:auto;line-height:normal;font-family:Menlo,'DejaVu Sans Mono',consolas,'Courier New',monospace\">╭────────────────┬────────────────┬────────────────┬─────────────┬─────────────┬─────────────────┬────────────────╮\n",
       "│<span style=\"color: #ffffff; text-decoration-color: #ffffff; background-color: #008000\"> Name: Kuya Gen </span>│<span style=\"color: #ffffff; text-decoration-color: #ffffff; background-color: #008000\"> Phone Number:  </span>│<span style=\"color: #ffffff; text-decoration-color: #ffffff; background-color: #008000\"> Date: December </span>│<span style=\"color: #ffffff; text-decoration-color: #ffffff; background-color: #008000\"> Day: Monday </span>│<span style=\"color: #ffffff; text-decoration-color: #ffffff; background-color: #008000\"> Time: 12:05 </span>│<span style=\"color: #ffffff; text-decoration-color: #ffffff; background-color: #008000\"> Duration: 0.0   </span>│<span style=\"color: #ffffff; text-decoration-color: #ffffff; background-color: #008000\"> Call Type:     </span>│\n",
       "│<span style=\"color: #ffffff; text-decoration-color: #ffffff; background-color: #008000\">                </span>│<span style=\"color: #ffffff; text-decoration-color: #ffffff; background-color: #008000\"> +639274863653  </span>│<span style=\"color: #ffffff; text-decoration-color: #ffffff; background-color: #008000\"> 11, 2023       </span>│<span style=\"color: #ffffff; text-decoration-color: #ffffff; background-color: #008000\">             </span>│<span style=\"color: #ffffff; text-decoration-color: #ffffff; background-color: #008000\">             </span>│<span style=\"color: #ffffff; text-decoration-color: #ffffff; background-color: #008000\"> minutes         </span>│<span style=\"color: #ffffff; text-decoration-color: #ffffff; background-color: #008000\"> Outgoing       </span>│\n",
       "│<span style=\"color: #ffffff; text-decoration-color: #ffffff; background-color: #008000\">                </span>│<span style=\"color: #ffffff; text-decoration-color: #ffffff; background-color: #008000\">                </span>│<span style=\"color: #ffffff; text-decoration-color: #ffffff; background-color: #008000\">                </span>│<span style=\"color: #ffffff; text-decoration-color: #ffffff; background-color: #008000\">             </span>│<span style=\"color: #ffffff; text-decoration-color: #ffffff; background-color: #008000\">             </span>│<span style=\"color: #ffffff; text-decoration-color: #ffffff; background-color: #008000\">                 </span>│<span style=\"color: #ffffff; text-decoration-color: #ffffff; background-color: #008000\"> (Successful)   </span>│\n",
       "╰────────────────┴────────────────┴────────────────┴─────────────┴─────────────┴─────────────────┴────────────────╯\n",
       "</pre>\n"
      ],
      "text/plain": [
       "╭────────────────┬────────────────┬────────────────┬─────────────┬─────────────┬─────────────────┬────────────────╮\n",
       "│\u001b[97;42m \u001b[0m\u001b[97;42mName: Kuya Gen\u001b[0m\u001b[97;42m \u001b[0m│\u001b[97;42m \u001b[0m\u001b[97;42mPhone Number: \u001b[0m\u001b[97;42m \u001b[0m│\u001b[97;42m \u001b[0m\u001b[97;42mDate: December\u001b[0m\u001b[97;42m \u001b[0m│\u001b[97;42m \u001b[0m\u001b[97;42mDay: Monday\u001b[0m\u001b[97;42m \u001b[0m│\u001b[97;42m \u001b[0m\u001b[97;42mTime: 12:05\u001b[0m\u001b[97;42m \u001b[0m│\u001b[97;42m \u001b[0m\u001b[97;42mDuration: 0.0  \u001b[0m\u001b[97;42m \u001b[0m│\u001b[97;42m \u001b[0m\u001b[97;42mCall Type:    \u001b[0m\u001b[97;42m \u001b[0m│\n",
       "│\u001b[97;42m                \u001b[0m│\u001b[97;42m \u001b[0m\u001b[97;42m+639274863653 \u001b[0m\u001b[97;42m \u001b[0m│\u001b[97;42m \u001b[0m\u001b[97;42m11, 2023      \u001b[0m\u001b[97;42m \u001b[0m│\u001b[97;42m             \u001b[0m│\u001b[97;42m             \u001b[0m│\u001b[97;42m \u001b[0m\u001b[97;42mminutes        \u001b[0m\u001b[97;42m \u001b[0m│\u001b[97;42m \u001b[0m\u001b[97;42mOutgoing      \u001b[0m\u001b[97;42m \u001b[0m│\n",
       "│\u001b[97;42m                \u001b[0m│\u001b[97;42m                \u001b[0m│\u001b[97;42m                \u001b[0m│\u001b[97;42m             \u001b[0m│\u001b[97;42m             \u001b[0m│\u001b[97;42m                 \u001b[0m│\u001b[97;42m \u001b[0m\u001b[97;42m(Successful)  \u001b[0m\u001b[97;42m \u001b[0m│\n",
       "╰────────────────┴────────────────┴────────────────┴─────────────┴─────────────┴─────────────────┴────────────────╯\n"
      ]
     },
     "metadata": {},
     "output_type": "display_data"
    },
    {
     "data": {
      "text/html": [
       "<pre style=\"white-space:pre;overflow-x:auto;line-height:normal;font-family:Menlo,'DejaVu Sans Mono',consolas,'Courier New',monospace\">╭────────────────┬────────────────┬────────────────┬─────────────┬─────────────┬─────────────────┬────────────────╮\n",
       "│<span style=\"color: #ffffff; text-decoration-color: #ffffff; background-color: #008000\"> Name: Kuya Gen </span>│<span style=\"color: #ffffff; text-decoration-color: #ffffff; background-color: #008000\"> Phone Number:  </span>│<span style=\"color: #ffffff; text-decoration-color: #ffffff; background-color: #008000\"> Date: December </span>│<span style=\"color: #ffffff; text-decoration-color: #ffffff; background-color: #008000\"> Day: Monday </span>│<span style=\"color: #ffffff; text-decoration-color: #ffffff; background-color: #008000\"> Time: 12:06 </span>│<span style=\"color: #ffffff; text-decoration-color: #ffffff; background-color: #008000\"> Duration: 0.0   </span>│<span style=\"color: #ffffff; text-decoration-color: #ffffff; background-color: #008000\"> Call Type:     </span>│\n",
       "│<span style=\"color: #ffffff; text-decoration-color: #ffffff; background-color: #008000\">                </span>│<span style=\"color: #ffffff; text-decoration-color: #ffffff; background-color: #008000\"> +639274863653  </span>│<span style=\"color: #ffffff; text-decoration-color: #ffffff; background-color: #008000\"> 11, 2023       </span>│<span style=\"color: #ffffff; text-decoration-color: #ffffff; background-color: #008000\">             </span>│<span style=\"color: #ffffff; text-decoration-color: #ffffff; background-color: #008000\">             </span>│<span style=\"color: #ffffff; text-decoration-color: #ffffff; background-color: #008000\"> minutes         </span>│<span style=\"color: #ffffff; text-decoration-color: #ffffff; background-color: #008000\"> Outgoing       </span>│\n",
       "│<span style=\"color: #ffffff; text-decoration-color: #ffffff; background-color: #008000\">                </span>│<span style=\"color: #ffffff; text-decoration-color: #ffffff; background-color: #008000\">                </span>│<span style=\"color: #ffffff; text-decoration-color: #ffffff; background-color: #008000\">                </span>│<span style=\"color: #ffffff; text-decoration-color: #ffffff; background-color: #008000\">             </span>│<span style=\"color: #ffffff; text-decoration-color: #ffffff; background-color: #008000\">             </span>│<span style=\"color: #ffffff; text-decoration-color: #ffffff; background-color: #008000\">                 </span>│<span style=\"color: #ffffff; text-decoration-color: #ffffff; background-color: #008000\"> (Successful)   </span>│\n",
       "╰────────────────┴────────────────┴────────────────┴─────────────┴─────────────┴─────────────────┴────────────────╯\n",
       "</pre>\n"
      ],
      "text/plain": [
       "╭────────────────┬────────────────┬────────────────┬─────────────┬─────────────┬─────────────────┬────────────────╮\n",
       "│\u001b[97;42m \u001b[0m\u001b[97;42mName: Kuya Gen\u001b[0m\u001b[97;42m \u001b[0m│\u001b[97;42m \u001b[0m\u001b[97;42mPhone Number: \u001b[0m\u001b[97;42m \u001b[0m│\u001b[97;42m \u001b[0m\u001b[97;42mDate: December\u001b[0m\u001b[97;42m \u001b[0m│\u001b[97;42m \u001b[0m\u001b[97;42mDay: Monday\u001b[0m\u001b[97;42m \u001b[0m│\u001b[97;42m \u001b[0m\u001b[97;42mTime: 12:06\u001b[0m\u001b[97;42m \u001b[0m│\u001b[97;42m \u001b[0m\u001b[97;42mDuration: 0.0  \u001b[0m\u001b[97;42m \u001b[0m│\u001b[97;42m \u001b[0m\u001b[97;42mCall Type:    \u001b[0m\u001b[97;42m \u001b[0m│\n",
       "│\u001b[97;42m                \u001b[0m│\u001b[97;42m \u001b[0m\u001b[97;42m+639274863653 \u001b[0m\u001b[97;42m \u001b[0m│\u001b[97;42m \u001b[0m\u001b[97;42m11, 2023      \u001b[0m\u001b[97;42m \u001b[0m│\u001b[97;42m             \u001b[0m│\u001b[97;42m             \u001b[0m│\u001b[97;42m \u001b[0m\u001b[97;42mminutes        \u001b[0m\u001b[97;42m \u001b[0m│\u001b[97;42m \u001b[0m\u001b[97;42mOutgoing      \u001b[0m\u001b[97;42m \u001b[0m│\n",
       "│\u001b[97;42m                \u001b[0m│\u001b[97;42m                \u001b[0m│\u001b[97;42m                \u001b[0m│\u001b[97;42m             \u001b[0m│\u001b[97;42m             \u001b[0m│\u001b[97;42m                 \u001b[0m│\u001b[97;42m \u001b[0m\u001b[97;42m(Successful)  \u001b[0m\u001b[97;42m \u001b[0m│\n",
       "╰────────────────┴────────────────┴────────────────┴─────────────┴─────────────┴─────────────────┴────────────────╯\n"
      ]
     },
     "metadata": {},
     "output_type": "display_data"
    },
    {
     "data": {
      "text/html": [
       "<pre style=\"white-space:pre;overflow-x:auto;line-height:normal;font-family:Menlo,'DejaVu Sans Mono',consolas,'Courier New',monospace\">╭───────────────┬─────────────────┬────────────────┬─────────────┬─────────────┬─────────────────┬────────────────╮\n",
       "│<span style=\"color: #ffffff; text-decoration-color: #ffffff; background-color: #008000\"> Name: Johnlee </span>│<span style=\"color: #ffffff; text-decoration-color: #ffffff; background-color: #008000\"> Phone Number:   </span>│<span style=\"color: #ffffff; text-decoration-color: #ffffff; background-color: #008000\"> Date: December </span>│<span style=\"color: #ffffff; text-decoration-color: #ffffff; background-color: #008000\"> Day: Monday </span>│<span style=\"color: #ffffff; text-decoration-color: #ffffff; background-color: #008000\"> Time: 20:01 </span>│<span style=\"color: #ffffff; text-decoration-color: #ffffff; background-color: #008000\"> Duration: 0.0   </span>│<span style=\"color: #ffffff; text-decoration-color: #ffffff; background-color: #008000\"> Call Type:     </span>│\n",
       "│<span style=\"color: #ffffff; text-decoration-color: #ffffff; background-color: #008000\">               </span>│<span style=\"color: #ffffff; text-decoration-color: #ffffff; background-color: #008000\"> 09396327507     </span>│<span style=\"color: #ffffff; text-decoration-color: #ffffff; background-color: #008000\"> 11, 2023       </span>│<span style=\"color: #ffffff; text-decoration-color: #ffffff; background-color: #008000\">             </span>│<span style=\"color: #ffffff; text-decoration-color: #ffffff; background-color: #008000\">             </span>│<span style=\"color: #ffffff; text-decoration-color: #ffffff; background-color: #008000\"> minutes         </span>│<span style=\"color: #ffffff; text-decoration-color: #ffffff; background-color: #008000\"> Outgoing       </span>│\n",
       "│<span style=\"color: #ffffff; text-decoration-color: #ffffff; background-color: #008000\">               </span>│<span style=\"color: #ffffff; text-decoration-color: #ffffff; background-color: #008000\">                 </span>│<span style=\"color: #ffffff; text-decoration-color: #ffffff; background-color: #008000\">                </span>│<span style=\"color: #ffffff; text-decoration-color: #ffffff; background-color: #008000\">             </span>│<span style=\"color: #ffffff; text-decoration-color: #ffffff; background-color: #008000\">             </span>│<span style=\"color: #ffffff; text-decoration-color: #ffffff; background-color: #008000\">                 </span>│<span style=\"color: #ffffff; text-decoration-color: #ffffff; background-color: #008000\"> (Successful)   </span>│\n",
       "╰───────────────┴─────────────────┴────────────────┴─────────────┴─────────────┴─────────────────┴────────────────╯\n",
       "</pre>\n"
      ],
      "text/plain": [
       "╭───────────────┬─────────────────┬────────────────┬─────────────┬─────────────┬─────────────────┬────────────────╮\n",
       "│\u001b[97;42m \u001b[0m\u001b[97;42mName: Johnlee\u001b[0m\u001b[97;42m \u001b[0m│\u001b[97;42m \u001b[0m\u001b[97;42mPhone Number:  \u001b[0m\u001b[97;42m \u001b[0m│\u001b[97;42m \u001b[0m\u001b[97;42mDate: December\u001b[0m\u001b[97;42m \u001b[0m│\u001b[97;42m \u001b[0m\u001b[97;42mDay: Monday\u001b[0m\u001b[97;42m \u001b[0m│\u001b[97;42m \u001b[0m\u001b[97;42mTime: 20:01\u001b[0m\u001b[97;42m \u001b[0m│\u001b[97;42m \u001b[0m\u001b[97;42mDuration: 0.0  \u001b[0m\u001b[97;42m \u001b[0m│\u001b[97;42m \u001b[0m\u001b[97;42mCall Type:    \u001b[0m\u001b[97;42m \u001b[0m│\n",
       "│\u001b[97;42m               \u001b[0m│\u001b[97;42m \u001b[0m\u001b[97;42m09396327507    \u001b[0m\u001b[97;42m \u001b[0m│\u001b[97;42m \u001b[0m\u001b[97;42m11, 2023      \u001b[0m\u001b[97;42m \u001b[0m│\u001b[97;42m             \u001b[0m│\u001b[97;42m             \u001b[0m│\u001b[97;42m \u001b[0m\u001b[97;42mminutes        \u001b[0m\u001b[97;42m \u001b[0m│\u001b[97;42m \u001b[0m\u001b[97;42mOutgoing      \u001b[0m\u001b[97;42m \u001b[0m│\n",
       "│\u001b[97;42m               \u001b[0m│\u001b[97;42m                 \u001b[0m│\u001b[97;42m                \u001b[0m│\u001b[97;42m             \u001b[0m│\u001b[97;42m             \u001b[0m│\u001b[97;42m                 \u001b[0m│\u001b[97;42m \u001b[0m\u001b[97;42m(Successful)  \u001b[0m\u001b[97;42m \u001b[0m│\n",
       "╰───────────────┴─────────────────┴────────────────┴─────────────┴─────────────┴─────────────────┴────────────────╯\n"
      ]
     },
     "metadata": {},
     "output_type": "display_data"
    },
    {
     "data": {
      "text/html": [
       "<pre style=\"white-space:pre;overflow-x:auto;line-height:normal;font-family:Menlo,'DejaVu Sans Mono',consolas,'Courier New',monospace\">╭────────────────┬────────────────┬────────────────┬───────────────┬─────────────┬────────────────┬───────────────╮\n",
       "│<span style=\"color: #ffffff; text-decoration-color: #ffffff; background-color: #008000\"> Name: Kuya Gen </span>│<span style=\"color: #ffffff; text-decoration-color: #ffffff; background-color: #008000\"> Phone Number:  </span>│<span style=\"color: #ffffff; text-decoration-color: #ffffff; background-color: #008000\"> Date: December </span>│<span style=\"color: #ffffff; text-decoration-color: #ffffff; background-color: #008000\"> Day: Saturday </span>│<span style=\"color: #ffffff; text-decoration-color: #ffffff; background-color: #008000\"> Time: 21:40 </span>│<span style=\"color: #ffffff; text-decoration-color: #ffffff; background-color: #008000\"> Duration: 0.0  </span>│<span style=\"color: #ffffff; text-decoration-color: #ffffff; background-color: #008000\"> Call Type:    </span>│\n",
       "│<span style=\"color: #ffffff; text-decoration-color: #ffffff; background-color: #008000\">                </span>│<span style=\"color: #ffffff; text-decoration-color: #ffffff; background-color: #008000\"> +639274863653  </span>│<span style=\"color: #ffffff; text-decoration-color: #ffffff; background-color: #008000\"> 09, 2023       </span>│<span style=\"color: #ffffff; text-decoration-color: #ffffff; background-color: #008000\">               </span>│<span style=\"color: #ffffff; text-decoration-color: #ffffff; background-color: #008000\">             </span>│<span style=\"color: #ffffff; text-decoration-color: #ffffff; background-color: #008000\"> minutes        </span>│<span style=\"color: #ffffff; text-decoration-color: #ffffff; background-color: #008000\"> Outgoing      </span>│\n",
       "│<span style=\"color: #ffffff; text-decoration-color: #ffffff; background-color: #008000\">                </span>│<span style=\"color: #ffffff; text-decoration-color: #ffffff; background-color: #008000\">                </span>│<span style=\"color: #ffffff; text-decoration-color: #ffffff; background-color: #008000\">                </span>│<span style=\"color: #ffffff; text-decoration-color: #ffffff; background-color: #008000\">               </span>│<span style=\"color: #ffffff; text-decoration-color: #ffffff; background-color: #008000\">             </span>│<span style=\"color: #ffffff; text-decoration-color: #ffffff; background-color: #008000\">                </span>│<span style=\"color: #ffffff; text-decoration-color: #ffffff; background-color: #008000\"> (Successful)  </span>│\n",
       "╰────────────────┴────────────────┴────────────────┴───────────────┴─────────────┴────────────────┴───────────────╯\n",
       "</pre>\n"
      ],
      "text/plain": [
       "╭────────────────┬────────────────┬────────────────┬───────────────┬─────────────┬────────────────┬───────────────╮\n",
       "│\u001b[97;42m \u001b[0m\u001b[97;42mName: Kuya Gen\u001b[0m\u001b[97;42m \u001b[0m│\u001b[97;42m \u001b[0m\u001b[97;42mPhone Number: \u001b[0m\u001b[97;42m \u001b[0m│\u001b[97;42m \u001b[0m\u001b[97;42mDate: December\u001b[0m\u001b[97;42m \u001b[0m│\u001b[97;42m \u001b[0m\u001b[97;42mDay: Saturday\u001b[0m\u001b[97;42m \u001b[0m│\u001b[97;42m \u001b[0m\u001b[97;42mTime: 21:40\u001b[0m\u001b[97;42m \u001b[0m│\u001b[97;42m \u001b[0m\u001b[97;42mDuration: 0.0 \u001b[0m\u001b[97;42m \u001b[0m│\u001b[97;42m \u001b[0m\u001b[97;42mCall Type:   \u001b[0m\u001b[97;42m \u001b[0m│\n",
       "│\u001b[97;42m                \u001b[0m│\u001b[97;42m \u001b[0m\u001b[97;42m+639274863653 \u001b[0m\u001b[97;42m \u001b[0m│\u001b[97;42m \u001b[0m\u001b[97;42m09, 2023      \u001b[0m\u001b[97;42m \u001b[0m│\u001b[97;42m               \u001b[0m│\u001b[97;42m             \u001b[0m│\u001b[97;42m \u001b[0m\u001b[97;42mminutes       \u001b[0m\u001b[97;42m \u001b[0m│\u001b[97;42m \u001b[0m\u001b[97;42mOutgoing     \u001b[0m\u001b[97;42m \u001b[0m│\n",
       "│\u001b[97;42m                \u001b[0m│\u001b[97;42m                \u001b[0m│\u001b[97;42m                \u001b[0m│\u001b[97;42m               \u001b[0m│\u001b[97;42m             \u001b[0m│\u001b[97;42m                \u001b[0m│\u001b[97;42m \u001b[0m\u001b[97;42m(Successful) \u001b[0m\u001b[97;42m \u001b[0m│\n",
       "╰────────────────┴────────────────┴────────────────┴───────────────┴─────────────┴────────────────┴───────────────╯\n"
      ]
     },
     "metadata": {},
     "output_type": "display_data"
    },
    {
     "data": {
      "text/html": [
       "<pre style=\"white-space:pre;overflow-x:auto;line-height:normal;font-family:Menlo,'DejaVu Sans Mono',consolas,'Courier New',monospace\">╭─────────────┬─────────────────┬────────────────┬───────────────┬─────────────┬─────────────────┬────────────────╮\n",
       "│<span style=\"color: #ffffff; text-decoration-color: #ffffff; background-color: #008000\"> Name: Mommy </span>│<span style=\"color: #ffffff; text-decoration-color: #ffffff; background-color: #008000\"> Phone Number:   </span>│<span style=\"color: #ffffff; text-decoration-color: #ffffff; background-color: #008000\"> Date: December </span>│<span style=\"color: #ffffff; text-decoration-color: #ffffff; background-color: #008000\"> Day: Saturday </span>│<span style=\"color: #ffffff; text-decoration-color: #ffffff; background-color: #008000\"> Time: 21:43 </span>│<span style=\"color: #ffffff; text-decoration-color: #ffffff; background-color: #008000\"> Duration: 2.4   </span>│<span style=\"color: #ffffff; text-decoration-color: #ffffff; background-color: #008000\"> Call Type:     </span>│\n",
       "│<span style=\"color: #ffffff; text-decoration-color: #ffffff; background-color: #008000\">             </span>│<span style=\"color: #ffffff; text-decoration-color: #ffffff; background-color: #008000\"> 09235353226     </span>│<span style=\"color: #ffffff; text-decoration-color: #ffffff; background-color: #008000\"> 09, 2023       </span>│<span style=\"color: #ffffff; text-decoration-color: #ffffff; background-color: #008000\">               </span>│<span style=\"color: #ffffff; text-decoration-color: #ffffff; background-color: #008000\">             </span>│<span style=\"color: #ffffff; text-decoration-color: #ffffff; background-color: #008000\"> minutes         </span>│<span style=\"color: #ffffff; text-decoration-color: #ffffff; background-color: #008000\"> Outgoing       </span>│\n",
       "│<span style=\"color: #ffffff; text-decoration-color: #ffffff; background-color: #008000\">             </span>│<span style=\"color: #ffffff; text-decoration-color: #ffffff; background-color: #008000\">                 </span>│<span style=\"color: #ffffff; text-decoration-color: #ffffff; background-color: #008000\">                </span>│<span style=\"color: #ffffff; text-decoration-color: #ffffff; background-color: #008000\">               </span>│<span style=\"color: #ffffff; text-decoration-color: #ffffff; background-color: #008000\">             </span>│<span style=\"color: #ffffff; text-decoration-color: #ffffff; background-color: #008000\">                 </span>│<span style=\"color: #ffffff; text-decoration-color: #ffffff; background-color: #008000\"> (Successful)   </span>│\n",
       "╰─────────────┴─────────────────┴────────────────┴───────────────┴─────────────┴─────────────────┴────────────────╯\n",
       "</pre>\n"
      ],
      "text/plain": [
       "╭─────────────┬─────────────────┬────────────────┬───────────────┬─────────────┬─────────────────┬────────────────╮\n",
       "│\u001b[97;42m \u001b[0m\u001b[97;42mName: Mommy\u001b[0m\u001b[97;42m \u001b[0m│\u001b[97;42m \u001b[0m\u001b[97;42mPhone Number:  \u001b[0m\u001b[97;42m \u001b[0m│\u001b[97;42m \u001b[0m\u001b[97;42mDate: December\u001b[0m\u001b[97;42m \u001b[0m│\u001b[97;42m \u001b[0m\u001b[97;42mDay: Saturday\u001b[0m\u001b[97;42m \u001b[0m│\u001b[97;42m \u001b[0m\u001b[97;42mTime: 21:43\u001b[0m\u001b[97;42m \u001b[0m│\u001b[97;42m \u001b[0m\u001b[97;42mDuration: 2.4  \u001b[0m\u001b[97;42m \u001b[0m│\u001b[97;42m \u001b[0m\u001b[97;42mCall Type:    \u001b[0m\u001b[97;42m \u001b[0m│\n",
       "│\u001b[97;42m             \u001b[0m│\u001b[97;42m \u001b[0m\u001b[97;42m09235353226    \u001b[0m\u001b[97;42m \u001b[0m│\u001b[97;42m \u001b[0m\u001b[97;42m09, 2023      \u001b[0m\u001b[97;42m \u001b[0m│\u001b[97;42m               \u001b[0m│\u001b[97;42m             \u001b[0m│\u001b[97;42m \u001b[0m\u001b[97;42mminutes        \u001b[0m\u001b[97;42m \u001b[0m│\u001b[97;42m \u001b[0m\u001b[97;42mOutgoing      \u001b[0m\u001b[97;42m \u001b[0m│\n",
       "│\u001b[97;42m             \u001b[0m│\u001b[97;42m                 \u001b[0m│\u001b[97;42m                \u001b[0m│\u001b[97;42m               \u001b[0m│\u001b[97;42m             \u001b[0m│\u001b[97;42m                 \u001b[0m│\u001b[97;42m \u001b[0m\u001b[97;42m(Successful)  \u001b[0m\u001b[97;42m \u001b[0m│\n",
       "╰─────────────┴─────────────────┴────────────────┴───────────────┴─────────────┴─────────────────┴────────────────╯\n"
      ]
     },
     "metadata": {},
     "output_type": "display_data"
    }
   ],
   "source": [
    "from datetime import datetime\n",
    "from rich.table import Table\n",
    "from rich.console import Console\n",
    "from rich import box\n",
    "import matplotlib.pyplot as plt\n",
    "\n",
    "print('MY CALL HISTORY THROUGH STACK AND 2D-ARRAY\\n')\n",
    "# STACK AND 2D-ARRAY\n",
    "def print_boxed_list(data, call_type):\n",
    "    console = Console()\n",
    "\n",
    "    # Set the background color based on call type\n",
    "    if call_type in ['Incoming (Successful)', 'Outgoing (Successful)']:\n",
    "        bg_color = \"green\"\n",
    "    elif call_type == 'Missed':\n",
    "        bg_color = \"red\"\n",
    "    else:\n",
    "        bg_color = \"cyan\"\n",
    "\n",
    "    table = Table(show_header=False, box=box.ROUNDED)\n",
    "\n",
    "    # Add a column for each piece of data\n",
    "    for _ in data:\n",
    "        table.add_column()\n",
    "\n",
    "    # Create a row with the appropriate background and text color\n",
    "    table.add_row(*data, style=f\"bright_white on {bg_color}\")\n",
    "\n",
    "    console.print(table)\n",
    "\n",
    "\n",
    "# Function to extract key-value pairs from a call log entry\n",
    "def extract_key_value(entry):\n",
    "    key_value_pairs = {}\n",
    "    for pair in entry.split(','):\n",
    "        key, value = pair.split('=')\n",
    "        key_value_pairs[key.strip()] = value.strip()\n",
    "    return key_value_pairs\n",
    "\n",
    "\n",
    "# Function to convert duration to minutes and seconds as a decimal\n",
    "def format_duration(duration_seconds):\n",
    "    if not duration_seconds:\n",
    "        return 'N/A'\n",
    "    duration_minutes = int(duration_seconds) / 60\n",
    "    return f\"{duration_minutes:.1f} minutes\"\n",
    "\n",
    "\n",
    "def call_status(call_type):\n",
    "    if call_type == '1':\n",
    "        return 'Incoming (Successful)'\n",
    "    elif call_type == '2':\n",
    "        return 'Outgoing (Successful)'\n",
    "    elif call_type == '3':\n",
    "        return 'Missed'\n",
    "    else:\n",
    "        return 'Unknown'\n",
    "\n",
    "\n",
    "# Function to format date and time\n",
    "def format_date(timestamp):\n",
    "    if not timestamp:\n",
    "        return 'N/A'\n",
    "    dt_object = datetime.fromtimestamp(int(timestamp) / 1000)\n",
    "    date = dt_object.strftime('%B %d, %Y')\n",
    "    return f\"Date: {date}\"\n",
    "\n",
    "\n",
    "def format_day(timestamp):\n",
    "    if not timestamp:\n",
    "        return 'N/A'\n",
    "    dt_object = datetime.fromtimestamp(int(timestamp) / 1000)\n",
    "    day_of_week = dt_object.strftime('%A')\n",
    "    return f\"Day: {day_of_week}\"\n",
    "\n",
    "\n",
    "def format_time(timestamp):\n",
    "    if not timestamp:\n",
    "        return 'N/A'\n",
    "    dt_object = datetime.fromtimestamp(int(timestamp) / 1000)\n",
    "    time = dt_object.strftime('%H:%M')\n",
    "    return f\"Time: {time}\"\n",
    "\n",
    "\n",
    "# Function to peek at the top of the stack and format the output\n",
    "def peek(stack):\n",
    "    if stack:\n",
    "        entry_info = stack[0]\n",
    "        for item in entry_info:\n",
    "            if item.startswith('Call Type:'):\n",
    "                status = item.split(': ')[1]\n",
    "                break\n",
    "        print_boxed_list(entry_info, status)\n",
    "    else:\n",
    "        print(\"Stack is empty.\")\n",
    "\n",
    "\n",
    "# Read call log entries from the file\n",
    "with open(\"call_logs.txt\", \"r\") as file:\n",
    "    call_logs_entries = file.readlines()\n",
    "\n",
    "# Create a stack to store processed call log entries\n",
    "call_log_stack = [extract_key_value(entry) for entry in call_logs_entries]\n",
    "\n",
    "# Main processing loop\n",
    "while True:\n",
    "    user_input = input(\"Enter the number of call log entries to process (or 'exit' to quit) [10-653]: \")\n",
    "\n",
    "    if user_input.lower() == 'exit':\n",
    "        peek_choice = input(\"\\nDo you want to peek at the latest call log entry before exiting? (yes/no): \").lower()\n",
    "        if peek_choice == 'yes':\n",
    "            print(\"\\nLatest entry to be processed:\")\n",
    "            peek(call_information_list)\n",
    "        break\n",
    "\n",
    "    try:\n",
    "        num_entries = int(user_input)\n",
    "        if num_entries > 653 or num_entries < 10:\n",
    "            raise ValueError\n",
    "    except ValueError:\n",
    "        print(\"Please enter a valid positive integer.\")\n",
    "        continue\n",
    "    \n",
    "    call_information_list = []\n",
    "    for _ in range(min(num_entries, len(call_log_stack))):\n",
    "        entry_info = call_log_stack.pop()\n",
    "\n",
    "        name = entry_info.get('name', 'N/A')\n",
    "        if name.lower() == 'null':\n",
    "            name = entry_info.get('number', 'N/A')\n",
    "\n",
    "        formatted_duration = format_duration(entry_info.get('duration', 'N/A'))\n",
    "        status = call_status(entry_info.get('type', 'N/A'))\n",
    "        formatted_date = format_date(entry_info.get('date', 'N/A'))\n",
    "        formatted_day = format_day(entry_info.get('date', 'N/A'))\n",
    "        formatted_time = format_time(entry_info.get('date', 'N/A'))\n",
    "\n",
    "        my_list = [\n",
    "            f\"Name: {name}\",\n",
    "            f\"Phone Number: {entry_info.get('number', 'N/A')}\",\n",
    "            formatted_date,\n",
    "            formatted_day,\n",
    "            formatted_time,\n",
    "            f\"Duration: {formatted_duration}\",\n",
    "            f\"Call Type: {status}\"\n",
    "        ]\n",
    "        call_information_list.append(my_list)\n",
    "        print_boxed_list(my_list, status)\n",
    "        \n",
    "#--------------------------------------------------------------------------------------------------------------------------\n",
    "\n",
    "print('MY CALL HISTORY THROUGH SORTING\\n')\n",
    "# SORTING\n",
    "def time_from_string(time_str):\n",
    "    return datetime.strptime(time_str, '%H:%M').time()\n",
    "\n",
    "\n",
    "def bubble_sort_call_logs(call_information_list):\n",
    "    n = len(call_information_list)\n",
    "    for i in range(n):\n",
    "        for j in range(0, n-i-1):\n",
    "            time1 = time_from_string(call_information_list[j][4].split(\": \")[1])\n",
    "            time2 = time_from_string(call_information_list[j+1][4].split(\": \")[1])\n",
    "            \n",
    "            if time1 > time2:\n",
    "                call_information_list[j], call_information_list[j+1] = call_information_list[j+1], call_information_list[j]\n",
    "\n",
    "\n",
    "# After processing the call logs\n",
    "bubble_sort_call_logs(call_information_list)\n",
    "\n",
    "# Print the sorted call logs\n",
    "for call_log in call_information_list:\n",
    "    print_boxed_list(call_log, call_log[-1].split(\": \")[1])"
   ]
  },
  {
   "cell_type": "code",
   "execution_count": null,
   "id": "70fd5d3b",
   "metadata": {},
   "outputs": [],
   "source": []
  },
  {
   "cell_type": "code",
   "execution_count": null,
   "id": "137866f1",
   "metadata": {},
   "outputs": [],
   "source": []
  }
 ],
 "metadata": {
  "kernelspec": {
   "display_name": "Python 3 (ipykernel)",
   "language": "python",
   "name": "python3"
  },
  "language_info": {
   "codemirror_mode": {
    "name": "ipython",
    "version": 3
   },
   "file_extension": ".py",
   "mimetype": "text/x-python",
   "name": "python",
   "nbconvert_exporter": "python",
   "pygments_lexer": "ipython3",
   "version": "3.11.5"
  }
 },
 "nbformat": 4,
 "nbformat_minor": 5
}
