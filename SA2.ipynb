{
 "cells": [
  {
   "cell_type": "markdown",
   "id": "0deccddf",
   "metadata": {},
   "source": [
    "## STACK AND 2D-ARRAY"
   ]
  },
  {
   "cell_type": "code",
   "execution_count": 1,
   "id": "0ee6a9ff",
   "metadata": {},
   "outputs": [
    {
     "name": "stdout",
     "output_type": "stream",
     "text": [
      "MY CALL HISTORY THROUGH STACK AND 2D-ARRAY\n",
      "\n",
      "Enter the number of call log entries to process (or 'exit' to quit) [10-653]: 10\n"
     ]
    },
    {
     "data": {
      "text/html": [
       "<pre style=\"white-space:pre;overflow-x:auto;line-height:normal;font-family:Menlo,'DejaVu Sans Mono',consolas,'Courier New',monospace\">╭───────────────┬─────────────────┬────────────────┬─────────────┬─────────────┬─────────────────┬────────────────╮\n",
       "│<span style=\"color: #ffffff; text-decoration-color: #ffffff; background-color: #008000\"> Name: Johnlee </span>│<span style=\"color: #ffffff; text-decoration-color: #ffffff; background-color: #008000\"> Phone Number:   </span>│<span style=\"color: #ffffff; text-decoration-color: #ffffff; background-color: #008000\"> Date: December </span>│<span style=\"color: #ffffff; text-decoration-color: #ffffff; background-color: #008000\"> Day: Monday </span>│<span style=\"color: #ffffff; text-decoration-color: #ffffff; background-color: #008000\"> Time: 20:01 </span>│<span style=\"color: #ffffff; text-decoration-color: #ffffff; background-color: #008000\"> Duration: 0.0   </span>│<span style=\"color: #ffffff; text-decoration-color: #ffffff; background-color: #008000\"> Call Type:     </span>│\n",
       "│<span style=\"color: #ffffff; text-decoration-color: #ffffff; background-color: #008000\">               </span>│<span style=\"color: #ffffff; text-decoration-color: #ffffff; background-color: #008000\"> 09396327507     </span>│<span style=\"color: #ffffff; text-decoration-color: #ffffff; background-color: #008000\"> 11, 2023       </span>│<span style=\"color: #ffffff; text-decoration-color: #ffffff; background-color: #008000\">             </span>│<span style=\"color: #ffffff; text-decoration-color: #ffffff; background-color: #008000\">             </span>│<span style=\"color: #ffffff; text-decoration-color: #ffffff; background-color: #008000\"> minutes         </span>│<span style=\"color: #ffffff; text-decoration-color: #ffffff; background-color: #008000\"> Outgoing       </span>│\n",
       "│<span style=\"color: #ffffff; text-decoration-color: #ffffff; background-color: #008000\">               </span>│<span style=\"color: #ffffff; text-decoration-color: #ffffff; background-color: #008000\">                 </span>│<span style=\"color: #ffffff; text-decoration-color: #ffffff; background-color: #008000\">                </span>│<span style=\"color: #ffffff; text-decoration-color: #ffffff; background-color: #008000\">             </span>│<span style=\"color: #ffffff; text-decoration-color: #ffffff; background-color: #008000\">             </span>│<span style=\"color: #ffffff; text-decoration-color: #ffffff; background-color: #008000\">                 </span>│<span style=\"color: #ffffff; text-decoration-color: #ffffff; background-color: #008000\"> (Successful)   </span>│\n",
       "╰───────────────┴─────────────────┴────────────────┴─────────────┴─────────────┴─────────────────┴────────────────╯\n",
       "</pre>\n"
      ],
      "text/plain": [
       "╭───────────────┬─────────────────┬────────────────┬─────────────┬─────────────┬─────────────────┬────────────────╮\n",
       "│\u001b[97;42m \u001b[0m\u001b[97;42mName: Johnlee\u001b[0m\u001b[97;42m \u001b[0m│\u001b[97;42m \u001b[0m\u001b[97;42mPhone Number:  \u001b[0m\u001b[97;42m \u001b[0m│\u001b[97;42m \u001b[0m\u001b[97;42mDate: December\u001b[0m\u001b[97;42m \u001b[0m│\u001b[97;42m \u001b[0m\u001b[97;42mDay: Monday\u001b[0m\u001b[97;42m \u001b[0m│\u001b[97;42m \u001b[0m\u001b[97;42mTime: 20:01\u001b[0m\u001b[97;42m \u001b[0m│\u001b[97;42m \u001b[0m\u001b[97;42mDuration: 0.0  \u001b[0m\u001b[97;42m \u001b[0m│\u001b[97;42m \u001b[0m\u001b[97;42mCall Type:    \u001b[0m\u001b[97;42m \u001b[0m│\n",
       "│\u001b[97;42m               \u001b[0m│\u001b[97;42m \u001b[0m\u001b[97;42m09396327507    \u001b[0m\u001b[97;42m \u001b[0m│\u001b[97;42m \u001b[0m\u001b[97;42m11, 2023      \u001b[0m\u001b[97;42m \u001b[0m│\u001b[97;42m             \u001b[0m│\u001b[97;42m             \u001b[0m│\u001b[97;42m \u001b[0m\u001b[97;42mminutes        \u001b[0m\u001b[97;42m \u001b[0m│\u001b[97;42m \u001b[0m\u001b[97;42mOutgoing      \u001b[0m\u001b[97;42m \u001b[0m│\n",
       "│\u001b[97;42m               \u001b[0m│\u001b[97;42m                 \u001b[0m│\u001b[97;42m                \u001b[0m│\u001b[97;42m             \u001b[0m│\u001b[97;42m             \u001b[0m│\u001b[97;42m                 \u001b[0m│\u001b[97;42m \u001b[0m\u001b[97;42m(Successful)  \u001b[0m\u001b[97;42m \u001b[0m│\n",
       "╰───────────────┴─────────────────┴────────────────┴─────────────┴─────────────┴─────────────────┴────────────────╯\n"
      ]
     },
     "metadata": {},
     "output_type": "display_data"
    },
    {
     "data": {
      "text/html": [
       "<pre style=\"white-space:pre;overflow-x:auto;line-height:normal;font-family:Menlo,'DejaVu Sans Mono',consolas,'Courier New',monospace\">╭────────────────┬────────────────┬────────────────┬─────────────┬─────────────┬─────────────────┬────────────────╮\n",
       "│<span style=\"color: #ffffff; text-decoration-color: #ffffff; background-color: #008000\"> Name: Kuya Gen </span>│<span style=\"color: #ffffff; text-decoration-color: #ffffff; background-color: #008000\"> Phone Number:  </span>│<span style=\"color: #ffffff; text-decoration-color: #ffffff; background-color: #008000\"> Date: December </span>│<span style=\"color: #ffffff; text-decoration-color: #ffffff; background-color: #008000\"> Day: Monday </span>│<span style=\"color: #ffffff; text-decoration-color: #ffffff; background-color: #008000\"> Time: 12:06 </span>│<span style=\"color: #ffffff; text-decoration-color: #ffffff; background-color: #008000\"> Duration: 0.0   </span>│<span style=\"color: #ffffff; text-decoration-color: #ffffff; background-color: #008000\"> Call Type:     </span>│\n",
       "│<span style=\"color: #ffffff; text-decoration-color: #ffffff; background-color: #008000\">                </span>│<span style=\"color: #ffffff; text-decoration-color: #ffffff; background-color: #008000\"> +639274863653  </span>│<span style=\"color: #ffffff; text-decoration-color: #ffffff; background-color: #008000\"> 11, 2023       </span>│<span style=\"color: #ffffff; text-decoration-color: #ffffff; background-color: #008000\">             </span>│<span style=\"color: #ffffff; text-decoration-color: #ffffff; background-color: #008000\">             </span>│<span style=\"color: #ffffff; text-decoration-color: #ffffff; background-color: #008000\"> minutes         </span>│<span style=\"color: #ffffff; text-decoration-color: #ffffff; background-color: #008000\"> Outgoing       </span>│\n",
       "│<span style=\"color: #ffffff; text-decoration-color: #ffffff; background-color: #008000\">                </span>│<span style=\"color: #ffffff; text-decoration-color: #ffffff; background-color: #008000\">                </span>│<span style=\"color: #ffffff; text-decoration-color: #ffffff; background-color: #008000\">                </span>│<span style=\"color: #ffffff; text-decoration-color: #ffffff; background-color: #008000\">             </span>│<span style=\"color: #ffffff; text-decoration-color: #ffffff; background-color: #008000\">             </span>│<span style=\"color: #ffffff; text-decoration-color: #ffffff; background-color: #008000\">                 </span>│<span style=\"color: #ffffff; text-decoration-color: #ffffff; background-color: #008000\"> (Successful)   </span>│\n",
       "╰────────────────┴────────────────┴────────────────┴─────────────┴─────────────┴─────────────────┴────────────────╯\n",
       "</pre>\n"
      ],
      "text/plain": [
       "╭────────────────┬────────────────┬────────────────┬─────────────┬─────────────┬─────────────────┬────────────────╮\n",
       "│\u001b[97;42m \u001b[0m\u001b[97;42mName: Kuya Gen\u001b[0m\u001b[97;42m \u001b[0m│\u001b[97;42m \u001b[0m\u001b[97;42mPhone Number: \u001b[0m\u001b[97;42m \u001b[0m│\u001b[97;42m \u001b[0m\u001b[97;42mDate: December\u001b[0m\u001b[97;42m \u001b[0m│\u001b[97;42m \u001b[0m\u001b[97;42mDay: Monday\u001b[0m\u001b[97;42m \u001b[0m│\u001b[97;42m \u001b[0m\u001b[97;42mTime: 12:06\u001b[0m\u001b[97;42m \u001b[0m│\u001b[97;42m \u001b[0m\u001b[97;42mDuration: 0.0  \u001b[0m\u001b[97;42m \u001b[0m│\u001b[97;42m \u001b[0m\u001b[97;42mCall Type:    \u001b[0m\u001b[97;42m \u001b[0m│\n",
       "│\u001b[97;42m                \u001b[0m│\u001b[97;42m \u001b[0m\u001b[97;42m+639274863653 \u001b[0m\u001b[97;42m \u001b[0m│\u001b[97;42m \u001b[0m\u001b[97;42m11, 2023      \u001b[0m\u001b[97;42m \u001b[0m│\u001b[97;42m             \u001b[0m│\u001b[97;42m             \u001b[0m│\u001b[97;42m \u001b[0m\u001b[97;42mminutes        \u001b[0m\u001b[97;42m \u001b[0m│\u001b[97;42m \u001b[0m\u001b[97;42mOutgoing      \u001b[0m\u001b[97;42m \u001b[0m│\n",
       "│\u001b[97;42m                \u001b[0m│\u001b[97;42m                \u001b[0m│\u001b[97;42m                \u001b[0m│\u001b[97;42m             \u001b[0m│\u001b[97;42m             \u001b[0m│\u001b[97;42m                 \u001b[0m│\u001b[97;42m \u001b[0m\u001b[97;42m(Successful)  \u001b[0m\u001b[97;42m \u001b[0m│\n",
       "╰────────────────┴────────────────┴────────────────┴─────────────┴─────────────┴─────────────────┴────────────────╯\n"
      ]
     },
     "metadata": {},
     "output_type": "display_data"
    },
    {
     "data": {
      "text/html": [
       "<pre style=\"white-space:pre;overflow-x:auto;line-height:normal;font-family:Menlo,'DejaVu Sans Mono',consolas,'Courier New',monospace\">╭────────────────┬────────────────┬────────────────┬─────────────┬─────────────┬─────────────────┬────────────────╮\n",
       "│<span style=\"color: #ffffff; text-decoration-color: #ffffff; background-color: #008000\"> Name: Kuya Gen </span>│<span style=\"color: #ffffff; text-decoration-color: #ffffff; background-color: #008000\"> Phone Number:  </span>│<span style=\"color: #ffffff; text-decoration-color: #ffffff; background-color: #008000\"> Date: December </span>│<span style=\"color: #ffffff; text-decoration-color: #ffffff; background-color: #008000\"> Day: Monday </span>│<span style=\"color: #ffffff; text-decoration-color: #ffffff; background-color: #008000\"> Time: 12:05 </span>│<span style=\"color: #ffffff; text-decoration-color: #ffffff; background-color: #008000\"> Duration: 0.0   </span>│<span style=\"color: #ffffff; text-decoration-color: #ffffff; background-color: #008000\"> Call Type:     </span>│\n",
       "│<span style=\"color: #ffffff; text-decoration-color: #ffffff; background-color: #008000\">                </span>│<span style=\"color: #ffffff; text-decoration-color: #ffffff; background-color: #008000\"> +639274863653  </span>│<span style=\"color: #ffffff; text-decoration-color: #ffffff; background-color: #008000\"> 11, 2023       </span>│<span style=\"color: #ffffff; text-decoration-color: #ffffff; background-color: #008000\">             </span>│<span style=\"color: #ffffff; text-decoration-color: #ffffff; background-color: #008000\">             </span>│<span style=\"color: #ffffff; text-decoration-color: #ffffff; background-color: #008000\"> minutes         </span>│<span style=\"color: #ffffff; text-decoration-color: #ffffff; background-color: #008000\"> Outgoing       </span>│\n",
       "│<span style=\"color: #ffffff; text-decoration-color: #ffffff; background-color: #008000\">                </span>│<span style=\"color: #ffffff; text-decoration-color: #ffffff; background-color: #008000\">                </span>│<span style=\"color: #ffffff; text-decoration-color: #ffffff; background-color: #008000\">                </span>│<span style=\"color: #ffffff; text-decoration-color: #ffffff; background-color: #008000\">             </span>│<span style=\"color: #ffffff; text-decoration-color: #ffffff; background-color: #008000\">             </span>│<span style=\"color: #ffffff; text-decoration-color: #ffffff; background-color: #008000\">                 </span>│<span style=\"color: #ffffff; text-decoration-color: #ffffff; background-color: #008000\"> (Successful)   </span>│\n",
       "╰────────────────┴────────────────┴────────────────┴─────────────┴─────────────┴─────────────────┴────────────────╯\n",
       "</pre>\n"
      ],
      "text/plain": [
       "╭────────────────┬────────────────┬────────────────┬─────────────┬─────────────┬─────────────────┬────────────────╮\n",
       "│\u001b[97;42m \u001b[0m\u001b[97;42mName: Kuya Gen\u001b[0m\u001b[97;42m \u001b[0m│\u001b[97;42m \u001b[0m\u001b[97;42mPhone Number: \u001b[0m\u001b[97;42m \u001b[0m│\u001b[97;42m \u001b[0m\u001b[97;42mDate: December\u001b[0m\u001b[97;42m \u001b[0m│\u001b[97;42m \u001b[0m\u001b[97;42mDay: Monday\u001b[0m\u001b[97;42m \u001b[0m│\u001b[97;42m \u001b[0m\u001b[97;42mTime: 12:05\u001b[0m\u001b[97;42m \u001b[0m│\u001b[97;42m \u001b[0m\u001b[97;42mDuration: 0.0  \u001b[0m\u001b[97;42m \u001b[0m│\u001b[97;42m \u001b[0m\u001b[97;42mCall Type:    \u001b[0m\u001b[97;42m \u001b[0m│\n",
       "│\u001b[97;42m                \u001b[0m│\u001b[97;42m \u001b[0m\u001b[97;42m+639274863653 \u001b[0m\u001b[97;42m \u001b[0m│\u001b[97;42m \u001b[0m\u001b[97;42m11, 2023      \u001b[0m\u001b[97;42m \u001b[0m│\u001b[97;42m             \u001b[0m│\u001b[97;42m             \u001b[0m│\u001b[97;42m \u001b[0m\u001b[97;42mminutes        \u001b[0m\u001b[97;42m \u001b[0m│\u001b[97;42m \u001b[0m\u001b[97;42mOutgoing      \u001b[0m\u001b[97;42m \u001b[0m│\n",
       "│\u001b[97;42m                \u001b[0m│\u001b[97;42m                \u001b[0m│\u001b[97;42m                \u001b[0m│\u001b[97;42m             \u001b[0m│\u001b[97;42m             \u001b[0m│\u001b[97;42m                 \u001b[0m│\u001b[97;42m \u001b[0m\u001b[97;42m(Successful)  \u001b[0m\u001b[97;42m \u001b[0m│\n",
       "╰────────────────┴────────────────┴────────────────┴─────────────┴─────────────┴─────────────────┴────────────────╯\n"
      ]
     },
     "metadata": {},
     "output_type": "display_data"
    },
    {
     "data": {
      "text/html": [
       "<pre style=\"white-space:pre;overflow-x:auto;line-height:normal;font-family:Menlo,'DejaVu Sans Mono',consolas,'Courier New',monospace\">╭────────────────┬────────────────┬────────────────┬─────────────┬─────────────┬─────────────────┬────────────────╮\n",
       "│<span style=\"color: #ffffff; text-decoration-color: #ffffff; background-color: #008000\"> Name: Kuya Gen </span>│<span style=\"color: #ffffff; text-decoration-color: #ffffff; background-color: #008000\"> Phone Number:  </span>│<span style=\"color: #ffffff; text-decoration-color: #ffffff; background-color: #008000\"> Date: December </span>│<span style=\"color: #ffffff; text-decoration-color: #ffffff; background-color: #008000\"> Day: Monday </span>│<span style=\"color: #ffffff; text-decoration-color: #ffffff; background-color: #008000\"> Time: 12:04 </span>│<span style=\"color: #ffffff; text-decoration-color: #ffffff; background-color: #008000\"> Duration: 0.0   </span>│<span style=\"color: #ffffff; text-decoration-color: #ffffff; background-color: #008000\"> Call Type:     </span>│\n",
       "│<span style=\"color: #ffffff; text-decoration-color: #ffffff; background-color: #008000\">                </span>│<span style=\"color: #ffffff; text-decoration-color: #ffffff; background-color: #008000\"> +639274863653  </span>│<span style=\"color: #ffffff; text-decoration-color: #ffffff; background-color: #008000\"> 11, 2023       </span>│<span style=\"color: #ffffff; text-decoration-color: #ffffff; background-color: #008000\">             </span>│<span style=\"color: #ffffff; text-decoration-color: #ffffff; background-color: #008000\">             </span>│<span style=\"color: #ffffff; text-decoration-color: #ffffff; background-color: #008000\"> minutes         </span>│<span style=\"color: #ffffff; text-decoration-color: #ffffff; background-color: #008000\"> Outgoing       </span>│\n",
       "│<span style=\"color: #ffffff; text-decoration-color: #ffffff; background-color: #008000\">                </span>│<span style=\"color: #ffffff; text-decoration-color: #ffffff; background-color: #008000\">                </span>│<span style=\"color: #ffffff; text-decoration-color: #ffffff; background-color: #008000\">                </span>│<span style=\"color: #ffffff; text-decoration-color: #ffffff; background-color: #008000\">             </span>│<span style=\"color: #ffffff; text-decoration-color: #ffffff; background-color: #008000\">             </span>│<span style=\"color: #ffffff; text-decoration-color: #ffffff; background-color: #008000\">                 </span>│<span style=\"color: #ffffff; text-decoration-color: #ffffff; background-color: #008000\"> (Successful)   </span>│\n",
       "╰────────────────┴────────────────┴────────────────┴─────────────┴─────────────┴─────────────────┴────────────────╯\n",
       "</pre>\n"
      ],
      "text/plain": [
       "╭────────────────┬────────────────┬────────────────┬─────────────┬─────────────┬─────────────────┬────────────────╮\n",
       "│\u001b[97;42m \u001b[0m\u001b[97;42mName: Kuya Gen\u001b[0m\u001b[97;42m \u001b[0m│\u001b[97;42m \u001b[0m\u001b[97;42mPhone Number: \u001b[0m\u001b[97;42m \u001b[0m│\u001b[97;42m \u001b[0m\u001b[97;42mDate: December\u001b[0m\u001b[97;42m \u001b[0m│\u001b[97;42m \u001b[0m\u001b[97;42mDay: Monday\u001b[0m\u001b[97;42m \u001b[0m│\u001b[97;42m \u001b[0m\u001b[97;42mTime: 12:04\u001b[0m\u001b[97;42m \u001b[0m│\u001b[97;42m \u001b[0m\u001b[97;42mDuration: 0.0  \u001b[0m\u001b[97;42m \u001b[0m│\u001b[97;42m \u001b[0m\u001b[97;42mCall Type:    \u001b[0m\u001b[97;42m \u001b[0m│\n",
       "│\u001b[97;42m                \u001b[0m│\u001b[97;42m \u001b[0m\u001b[97;42m+639274863653 \u001b[0m\u001b[97;42m \u001b[0m│\u001b[97;42m \u001b[0m\u001b[97;42m11, 2023      \u001b[0m\u001b[97;42m \u001b[0m│\u001b[97;42m             \u001b[0m│\u001b[97;42m             \u001b[0m│\u001b[97;42m \u001b[0m\u001b[97;42mminutes        \u001b[0m\u001b[97;42m \u001b[0m│\u001b[97;42m \u001b[0m\u001b[97;42mOutgoing      \u001b[0m\u001b[97;42m \u001b[0m│\n",
       "│\u001b[97;42m                \u001b[0m│\u001b[97;42m                \u001b[0m│\u001b[97;42m                \u001b[0m│\u001b[97;42m             \u001b[0m│\u001b[97;42m             \u001b[0m│\u001b[97;42m                 \u001b[0m│\u001b[97;42m \u001b[0m\u001b[97;42m(Successful)  \u001b[0m\u001b[97;42m \u001b[0m│\n",
       "╰────────────────┴────────────────┴────────────────┴─────────────┴─────────────┴─────────────────┴────────────────╯\n"
      ]
     },
     "metadata": {},
     "output_type": "display_data"
    },
    {
     "data": {
      "text/html": [
       "<pre style=\"white-space:pre;overflow-x:auto;line-height:normal;font-family:Menlo,'DejaVu Sans Mono',consolas,'Courier New',monospace\">╭─────────────┬─────────────────┬─────────────────┬─────────────┬─────────────┬─────────────────┬─────────────────╮\n",
       "│<span style=\"color: #ffffff; text-decoration-color: #ffffff; background-color: #008000\"> Name: Mommy </span>│<span style=\"color: #ffffff; text-decoration-color: #ffffff; background-color: #008000\"> Phone Number:   </span>│<span style=\"color: #ffffff; text-decoration-color: #ffffff; background-color: #008000\"> Date: December  </span>│<span style=\"color: #ffffff; text-decoration-color: #ffffff; background-color: #008000\"> Day: Monday </span>│<span style=\"color: #ffffff; text-decoration-color: #ffffff; background-color: #008000\"> Time: 11:55 </span>│<span style=\"color: #ffffff; text-decoration-color: #ffffff; background-color: #008000\"> Duration: 0.9   </span>│<span style=\"color: #ffffff; text-decoration-color: #ffffff; background-color: #008000\"> Call Type:      </span>│\n",
       "│<span style=\"color: #ffffff; text-decoration-color: #ffffff; background-color: #008000\">             </span>│<span style=\"color: #ffffff; text-decoration-color: #ffffff; background-color: #008000\"> 09235353226     </span>│<span style=\"color: #ffffff; text-decoration-color: #ffffff; background-color: #008000\"> 11, 2023        </span>│<span style=\"color: #ffffff; text-decoration-color: #ffffff; background-color: #008000\">             </span>│<span style=\"color: #ffffff; text-decoration-color: #ffffff; background-color: #008000\">             </span>│<span style=\"color: #ffffff; text-decoration-color: #ffffff; background-color: #008000\"> minutes         </span>│<span style=\"color: #ffffff; text-decoration-color: #ffffff; background-color: #008000\"> Outgoing        </span>│\n",
       "│<span style=\"color: #ffffff; text-decoration-color: #ffffff; background-color: #008000\">             </span>│<span style=\"color: #ffffff; text-decoration-color: #ffffff; background-color: #008000\">                 </span>│<span style=\"color: #ffffff; text-decoration-color: #ffffff; background-color: #008000\">                 </span>│<span style=\"color: #ffffff; text-decoration-color: #ffffff; background-color: #008000\">             </span>│<span style=\"color: #ffffff; text-decoration-color: #ffffff; background-color: #008000\">             </span>│<span style=\"color: #ffffff; text-decoration-color: #ffffff; background-color: #008000\">                 </span>│<span style=\"color: #ffffff; text-decoration-color: #ffffff; background-color: #008000\"> (Successful)    </span>│\n",
       "╰─────────────┴─────────────────┴─────────────────┴─────────────┴─────────────┴─────────────────┴─────────────────╯\n",
       "</pre>\n"
      ],
      "text/plain": [
       "╭─────────────┬─────────────────┬─────────────────┬─────────────┬─────────────┬─────────────────┬─────────────────╮\n",
       "│\u001b[97;42m \u001b[0m\u001b[97;42mName: Mommy\u001b[0m\u001b[97;42m \u001b[0m│\u001b[97;42m \u001b[0m\u001b[97;42mPhone Number:  \u001b[0m\u001b[97;42m \u001b[0m│\u001b[97;42m \u001b[0m\u001b[97;42mDate: December \u001b[0m\u001b[97;42m \u001b[0m│\u001b[97;42m \u001b[0m\u001b[97;42mDay: Monday\u001b[0m\u001b[97;42m \u001b[0m│\u001b[97;42m \u001b[0m\u001b[97;42mTime: 11:55\u001b[0m\u001b[97;42m \u001b[0m│\u001b[97;42m \u001b[0m\u001b[97;42mDuration: 0.9  \u001b[0m\u001b[97;42m \u001b[0m│\u001b[97;42m \u001b[0m\u001b[97;42mCall Type:     \u001b[0m\u001b[97;42m \u001b[0m│\n",
       "│\u001b[97;42m             \u001b[0m│\u001b[97;42m \u001b[0m\u001b[97;42m09235353226    \u001b[0m\u001b[97;42m \u001b[0m│\u001b[97;42m \u001b[0m\u001b[97;42m11, 2023       \u001b[0m\u001b[97;42m \u001b[0m│\u001b[97;42m             \u001b[0m│\u001b[97;42m             \u001b[0m│\u001b[97;42m \u001b[0m\u001b[97;42mminutes        \u001b[0m\u001b[97;42m \u001b[0m│\u001b[97;42m \u001b[0m\u001b[97;42mOutgoing       \u001b[0m\u001b[97;42m \u001b[0m│\n",
       "│\u001b[97;42m             \u001b[0m│\u001b[97;42m                 \u001b[0m│\u001b[97;42m                 \u001b[0m│\u001b[97;42m             \u001b[0m│\u001b[97;42m             \u001b[0m│\u001b[97;42m                 \u001b[0m│\u001b[97;42m \u001b[0m\u001b[97;42m(Successful)   \u001b[0m\u001b[97;42m \u001b[0m│\n",
       "╰─────────────┴─────────────────┴─────────────────┴─────────────┴─────────────┴─────────────────┴─────────────────╯\n"
      ]
     },
     "metadata": {},
     "output_type": "display_data"
    },
    {
     "data": {
      "text/html": [
       "<pre style=\"white-space:pre;overflow-x:auto;line-height:normal;font-family:Menlo,'DejaVu Sans Mono',consolas,'Courier New',monospace\">╭─────────────┬─────────────────┬─────────────────┬─────────────┬─────────────┬─────────────────┬─────────────────╮\n",
       "│<span style=\"color: #ffffff; text-decoration-color: #ffffff; background-color: #008000\"> Name: Mommy </span>│<span style=\"color: #ffffff; text-decoration-color: #ffffff; background-color: #008000\"> Phone Number:   </span>│<span style=\"color: #ffffff; text-decoration-color: #ffffff; background-color: #008000\"> Date: December  </span>│<span style=\"color: #ffffff; text-decoration-color: #ffffff; background-color: #008000\"> Day: Monday </span>│<span style=\"color: #ffffff; text-decoration-color: #ffffff; background-color: #008000\"> Time: 11:51 </span>│<span style=\"color: #ffffff; text-decoration-color: #ffffff; background-color: #008000\"> Duration: 0.0   </span>│<span style=\"color: #ffffff; text-decoration-color: #ffffff; background-color: #008000\"> Call Type:      </span>│\n",
       "│<span style=\"color: #ffffff; text-decoration-color: #ffffff; background-color: #008000\">             </span>│<span style=\"color: #ffffff; text-decoration-color: #ffffff; background-color: #008000\"> 09235353226     </span>│<span style=\"color: #ffffff; text-decoration-color: #ffffff; background-color: #008000\"> 11, 2023        </span>│<span style=\"color: #ffffff; text-decoration-color: #ffffff; background-color: #008000\">             </span>│<span style=\"color: #ffffff; text-decoration-color: #ffffff; background-color: #008000\">             </span>│<span style=\"color: #ffffff; text-decoration-color: #ffffff; background-color: #008000\"> minutes         </span>│<span style=\"color: #ffffff; text-decoration-color: #ffffff; background-color: #008000\"> Outgoing        </span>│\n",
       "│<span style=\"color: #ffffff; text-decoration-color: #ffffff; background-color: #008000\">             </span>│<span style=\"color: #ffffff; text-decoration-color: #ffffff; background-color: #008000\">                 </span>│<span style=\"color: #ffffff; text-decoration-color: #ffffff; background-color: #008000\">                 </span>│<span style=\"color: #ffffff; text-decoration-color: #ffffff; background-color: #008000\">             </span>│<span style=\"color: #ffffff; text-decoration-color: #ffffff; background-color: #008000\">             </span>│<span style=\"color: #ffffff; text-decoration-color: #ffffff; background-color: #008000\">                 </span>│<span style=\"color: #ffffff; text-decoration-color: #ffffff; background-color: #008000\"> (Successful)    </span>│\n",
       "╰─────────────┴─────────────────┴─────────────────┴─────────────┴─────────────┴─────────────────┴─────────────────╯\n",
       "</pre>\n"
      ],
      "text/plain": [
       "╭─────────────┬─────────────────┬─────────────────┬─────────────┬─────────────┬─────────────────┬─────────────────╮\n",
       "│\u001b[97;42m \u001b[0m\u001b[97;42mName: Mommy\u001b[0m\u001b[97;42m \u001b[0m│\u001b[97;42m \u001b[0m\u001b[97;42mPhone Number:  \u001b[0m\u001b[97;42m \u001b[0m│\u001b[97;42m \u001b[0m\u001b[97;42mDate: December \u001b[0m\u001b[97;42m \u001b[0m│\u001b[97;42m \u001b[0m\u001b[97;42mDay: Monday\u001b[0m\u001b[97;42m \u001b[0m│\u001b[97;42m \u001b[0m\u001b[97;42mTime: 11:51\u001b[0m\u001b[97;42m \u001b[0m│\u001b[97;42m \u001b[0m\u001b[97;42mDuration: 0.0  \u001b[0m\u001b[97;42m \u001b[0m│\u001b[97;42m \u001b[0m\u001b[97;42mCall Type:     \u001b[0m\u001b[97;42m \u001b[0m│\n",
       "│\u001b[97;42m             \u001b[0m│\u001b[97;42m \u001b[0m\u001b[97;42m09235353226    \u001b[0m\u001b[97;42m \u001b[0m│\u001b[97;42m \u001b[0m\u001b[97;42m11, 2023       \u001b[0m\u001b[97;42m \u001b[0m│\u001b[97;42m             \u001b[0m│\u001b[97;42m             \u001b[0m│\u001b[97;42m \u001b[0m\u001b[97;42mminutes        \u001b[0m\u001b[97;42m \u001b[0m│\u001b[97;42m \u001b[0m\u001b[97;42mOutgoing       \u001b[0m\u001b[97;42m \u001b[0m│\n",
       "│\u001b[97;42m             \u001b[0m│\u001b[97;42m                 \u001b[0m│\u001b[97;42m                 \u001b[0m│\u001b[97;42m             \u001b[0m│\u001b[97;42m             \u001b[0m│\u001b[97;42m                 \u001b[0m│\u001b[97;42m \u001b[0m\u001b[97;42m(Successful)   \u001b[0m\u001b[97;42m \u001b[0m│\n",
       "╰─────────────┴─────────────────┴─────────────────┴─────────────┴─────────────┴─────────────────┴─────────────────╯\n"
      ]
     },
     "metadata": {},
     "output_type": "display_data"
    },
    {
     "data": {
      "text/html": [
       "<pre style=\"white-space:pre;overflow-x:auto;line-height:normal;font-family:Menlo,'DejaVu Sans Mono',consolas,'Courier New',monospace\">╭────────────────┬────────────────┬────────────────┬─────────────┬─────────────┬─────────────────┬────────────────╮\n",
       "│<span style=\"color: #ffffff; text-decoration-color: #ffffff; background-color: #800000\"> Name: Ate      </span>│<span style=\"color: #ffffff; text-decoration-color: #ffffff; background-color: #800000\"> Phone Number:  </span>│<span style=\"color: #ffffff; text-decoration-color: #ffffff; background-color: #800000\"> Date: December </span>│<span style=\"color: #ffffff; text-decoration-color: #ffffff; background-color: #800000\"> Day: Sunday </span>│<span style=\"color: #ffffff; text-decoration-color: #ffffff; background-color: #800000\"> Time: 10:34 </span>│<span style=\"color: #ffffff; text-decoration-color: #ffffff; background-color: #800000\"> Duration: 0.5   </span>│<span style=\"color: #ffffff; text-decoration-color: #ffffff; background-color: #800000\"> Call Type:     </span>│\n",
       "│<span style=\"color: #ffffff; text-decoration-color: #ffffff; background-color: #800000\"> trixy          </span>│<span style=\"color: #ffffff; text-decoration-color: #ffffff; background-color: #800000\"> +639955391623  </span>│<span style=\"color: #ffffff; text-decoration-color: #ffffff; background-color: #800000\"> 10, 2023       </span>│<span style=\"color: #ffffff; text-decoration-color: #ffffff; background-color: #800000\">             </span>│<span style=\"color: #ffffff; text-decoration-color: #ffffff; background-color: #800000\">             </span>│<span style=\"color: #ffffff; text-decoration-color: #ffffff; background-color: #800000\"> minutes         </span>│<span style=\"color: #ffffff; text-decoration-color: #ffffff; background-color: #800000\"> Missed         </span>│\n",
       "╰────────────────┴────────────────┴────────────────┴─────────────┴─────────────┴─────────────────┴────────────────╯\n",
       "</pre>\n"
      ],
      "text/plain": [
       "╭────────────────┬────────────────┬────────────────┬─────────────┬─────────────┬─────────────────┬────────────────╮\n",
       "│\u001b[97;41m \u001b[0m\u001b[97;41mName: Ate     \u001b[0m\u001b[97;41m \u001b[0m│\u001b[97;41m \u001b[0m\u001b[97;41mPhone Number: \u001b[0m\u001b[97;41m \u001b[0m│\u001b[97;41m \u001b[0m\u001b[97;41mDate: December\u001b[0m\u001b[97;41m \u001b[0m│\u001b[97;41m \u001b[0m\u001b[97;41mDay: Sunday\u001b[0m\u001b[97;41m \u001b[0m│\u001b[97;41m \u001b[0m\u001b[97;41mTime: 10:34\u001b[0m\u001b[97;41m \u001b[0m│\u001b[97;41m \u001b[0m\u001b[97;41mDuration: 0.5  \u001b[0m\u001b[97;41m \u001b[0m│\u001b[97;41m \u001b[0m\u001b[97;41mCall Type:    \u001b[0m\u001b[97;41m \u001b[0m│\n",
       "│\u001b[97;41m \u001b[0m\u001b[97;41mtrixy         \u001b[0m\u001b[97;41m \u001b[0m│\u001b[97;41m \u001b[0m\u001b[97;41m+639955391623 \u001b[0m\u001b[97;41m \u001b[0m│\u001b[97;41m \u001b[0m\u001b[97;41m10, 2023      \u001b[0m\u001b[97;41m \u001b[0m│\u001b[97;41m             \u001b[0m│\u001b[97;41m             \u001b[0m│\u001b[97;41m \u001b[0m\u001b[97;41mminutes        \u001b[0m\u001b[97;41m \u001b[0m│\u001b[97;41m \u001b[0m\u001b[97;41mMissed        \u001b[0m\u001b[97;41m \u001b[0m│\n",
       "╰────────────────┴────────────────┴────────────────┴─────────────┴─────────────┴─────────────────┴────────────────╯\n"
      ]
     },
     "metadata": {},
     "output_type": "display_data"
    },
    {
     "data": {
      "text/html": [
       "<pre style=\"white-space:pre;overflow-x:auto;line-height:normal;font-family:Menlo,'DejaVu Sans Mono',consolas,'Courier New',monospace\">╭────────────────┬────────────────┬────────────────┬─────────────┬─────────────┬─────────────────┬────────────────╮\n",
       "│<span style=\"color: #ffffff; text-decoration-color: #ffffff; background-color: #008000\"> Name: Ate      </span>│<span style=\"color: #ffffff; text-decoration-color: #ffffff; background-color: #008000\"> Phone Number:  </span>│<span style=\"color: #ffffff; text-decoration-color: #ffffff; background-color: #008000\"> Date: December </span>│<span style=\"color: #ffffff; text-decoration-color: #ffffff; background-color: #008000\"> Day: Sunday </span>│<span style=\"color: #ffffff; text-decoration-color: #ffffff; background-color: #008000\"> Time: 09:17 </span>│<span style=\"color: #ffffff; text-decoration-color: #ffffff; background-color: #008000\"> Duration: 0.4   </span>│<span style=\"color: #ffffff; text-decoration-color: #ffffff; background-color: #008000\"> Call Type:     </span>│\n",
       "│<span style=\"color: #ffffff; text-decoration-color: #ffffff; background-color: #008000\"> trixy          </span>│<span style=\"color: #ffffff; text-decoration-color: #ffffff; background-color: #008000\"> +639955391623  </span>│<span style=\"color: #ffffff; text-decoration-color: #ffffff; background-color: #008000\"> 10, 2023       </span>│<span style=\"color: #ffffff; text-decoration-color: #ffffff; background-color: #008000\">             </span>│<span style=\"color: #ffffff; text-decoration-color: #ffffff; background-color: #008000\">             </span>│<span style=\"color: #ffffff; text-decoration-color: #ffffff; background-color: #008000\"> minutes         </span>│<span style=\"color: #ffffff; text-decoration-color: #ffffff; background-color: #008000\"> Incoming       </span>│\n",
       "│<span style=\"color: #ffffff; text-decoration-color: #ffffff; background-color: #008000\">                </span>│<span style=\"color: #ffffff; text-decoration-color: #ffffff; background-color: #008000\">                </span>│<span style=\"color: #ffffff; text-decoration-color: #ffffff; background-color: #008000\">                </span>│<span style=\"color: #ffffff; text-decoration-color: #ffffff; background-color: #008000\">             </span>│<span style=\"color: #ffffff; text-decoration-color: #ffffff; background-color: #008000\">             </span>│<span style=\"color: #ffffff; text-decoration-color: #ffffff; background-color: #008000\">                 </span>│<span style=\"color: #ffffff; text-decoration-color: #ffffff; background-color: #008000\"> (Successful)   </span>│\n",
       "╰────────────────┴────────────────┴────────────────┴─────────────┴─────────────┴─────────────────┴────────────────╯\n",
       "</pre>\n"
      ],
      "text/plain": [
       "╭────────────────┬────────────────┬────────────────┬─────────────┬─────────────┬─────────────────┬────────────────╮\n",
       "│\u001b[97;42m \u001b[0m\u001b[97;42mName: Ate     \u001b[0m\u001b[97;42m \u001b[0m│\u001b[97;42m \u001b[0m\u001b[97;42mPhone Number: \u001b[0m\u001b[97;42m \u001b[0m│\u001b[97;42m \u001b[0m\u001b[97;42mDate: December\u001b[0m\u001b[97;42m \u001b[0m│\u001b[97;42m \u001b[0m\u001b[97;42mDay: Sunday\u001b[0m\u001b[97;42m \u001b[0m│\u001b[97;42m \u001b[0m\u001b[97;42mTime: 09:17\u001b[0m\u001b[97;42m \u001b[0m│\u001b[97;42m \u001b[0m\u001b[97;42mDuration: 0.4  \u001b[0m\u001b[97;42m \u001b[0m│\u001b[97;42m \u001b[0m\u001b[97;42mCall Type:    \u001b[0m\u001b[97;42m \u001b[0m│\n",
       "│\u001b[97;42m \u001b[0m\u001b[97;42mtrixy         \u001b[0m\u001b[97;42m \u001b[0m│\u001b[97;42m \u001b[0m\u001b[97;42m+639955391623 \u001b[0m\u001b[97;42m \u001b[0m│\u001b[97;42m \u001b[0m\u001b[97;42m10, 2023      \u001b[0m\u001b[97;42m \u001b[0m│\u001b[97;42m             \u001b[0m│\u001b[97;42m             \u001b[0m│\u001b[97;42m \u001b[0m\u001b[97;42mminutes        \u001b[0m\u001b[97;42m \u001b[0m│\u001b[97;42m \u001b[0m\u001b[97;42mIncoming      \u001b[0m\u001b[97;42m \u001b[0m│\n",
       "│\u001b[97;42m                \u001b[0m│\u001b[97;42m                \u001b[0m│\u001b[97;42m                \u001b[0m│\u001b[97;42m             \u001b[0m│\u001b[97;42m             \u001b[0m│\u001b[97;42m                 \u001b[0m│\u001b[97;42m \u001b[0m\u001b[97;42m(Successful)  \u001b[0m\u001b[97;42m \u001b[0m│\n",
       "╰────────────────┴────────────────┴────────────────┴─────────────┴─────────────┴─────────────────┴────────────────╯\n"
      ]
     },
     "metadata": {},
     "output_type": "display_data"
    },
    {
     "data": {
      "text/html": [
       "<pre style=\"white-space:pre;overflow-x:auto;line-height:normal;font-family:Menlo,'DejaVu Sans Mono',consolas,'Courier New',monospace\">╭─────────────┬─────────────────┬────────────────┬───────────────┬─────────────┬─────────────────┬────────────────╮\n",
       "│<span style=\"color: #ffffff; text-decoration-color: #ffffff; background-color: #008000\"> Name: Mommy </span>│<span style=\"color: #ffffff; text-decoration-color: #ffffff; background-color: #008000\"> Phone Number:   </span>│<span style=\"color: #ffffff; text-decoration-color: #ffffff; background-color: #008000\"> Date: December </span>│<span style=\"color: #ffffff; text-decoration-color: #ffffff; background-color: #008000\"> Day: Saturday </span>│<span style=\"color: #ffffff; text-decoration-color: #ffffff; background-color: #008000\"> Time: 21:43 </span>│<span style=\"color: #ffffff; text-decoration-color: #ffffff; background-color: #008000\"> Duration: 2.4   </span>│<span style=\"color: #ffffff; text-decoration-color: #ffffff; background-color: #008000\"> Call Type:     </span>│\n",
       "│<span style=\"color: #ffffff; text-decoration-color: #ffffff; background-color: #008000\">             </span>│<span style=\"color: #ffffff; text-decoration-color: #ffffff; background-color: #008000\"> 09235353226     </span>│<span style=\"color: #ffffff; text-decoration-color: #ffffff; background-color: #008000\"> 09, 2023       </span>│<span style=\"color: #ffffff; text-decoration-color: #ffffff; background-color: #008000\">               </span>│<span style=\"color: #ffffff; text-decoration-color: #ffffff; background-color: #008000\">             </span>│<span style=\"color: #ffffff; text-decoration-color: #ffffff; background-color: #008000\"> minutes         </span>│<span style=\"color: #ffffff; text-decoration-color: #ffffff; background-color: #008000\"> Outgoing       </span>│\n",
       "│<span style=\"color: #ffffff; text-decoration-color: #ffffff; background-color: #008000\">             </span>│<span style=\"color: #ffffff; text-decoration-color: #ffffff; background-color: #008000\">                 </span>│<span style=\"color: #ffffff; text-decoration-color: #ffffff; background-color: #008000\">                </span>│<span style=\"color: #ffffff; text-decoration-color: #ffffff; background-color: #008000\">               </span>│<span style=\"color: #ffffff; text-decoration-color: #ffffff; background-color: #008000\">             </span>│<span style=\"color: #ffffff; text-decoration-color: #ffffff; background-color: #008000\">                 </span>│<span style=\"color: #ffffff; text-decoration-color: #ffffff; background-color: #008000\"> (Successful)   </span>│\n",
       "╰─────────────┴─────────────────┴────────────────┴───────────────┴─────────────┴─────────────────┴────────────────╯\n",
       "</pre>\n"
      ],
      "text/plain": [
       "╭─────────────┬─────────────────┬────────────────┬───────────────┬─────────────┬─────────────────┬────────────────╮\n",
       "│\u001b[97;42m \u001b[0m\u001b[97;42mName: Mommy\u001b[0m\u001b[97;42m \u001b[0m│\u001b[97;42m \u001b[0m\u001b[97;42mPhone Number:  \u001b[0m\u001b[97;42m \u001b[0m│\u001b[97;42m \u001b[0m\u001b[97;42mDate: December\u001b[0m\u001b[97;42m \u001b[0m│\u001b[97;42m \u001b[0m\u001b[97;42mDay: Saturday\u001b[0m\u001b[97;42m \u001b[0m│\u001b[97;42m \u001b[0m\u001b[97;42mTime: 21:43\u001b[0m\u001b[97;42m \u001b[0m│\u001b[97;42m \u001b[0m\u001b[97;42mDuration: 2.4  \u001b[0m\u001b[97;42m \u001b[0m│\u001b[97;42m \u001b[0m\u001b[97;42mCall Type:    \u001b[0m\u001b[97;42m \u001b[0m│\n",
       "│\u001b[97;42m             \u001b[0m│\u001b[97;42m \u001b[0m\u001b[97;42m09235353226    \u001b[0m\u001b[97;42m \u001b[0m│\u001b[97;42m \u001b[0m\u001b[97;42m09, 2023      \u001b[0m\u001b[97;42m \u001b[0m│\u001b[97;42m               \u001b[0m│\u001b[97;42m             \u001b[0m│\u001b[97;42m \u001b[0m\u001b[97;42mminutes        \u001b[0m\u001b[97;42m \u001b[0m│\u001b[97;42m \u001b[0m\u001b[97;42mOutgoing      \u001b[0m\u001b[97;42m \u001b[0m│\n",
       "│\u001b[97;42m             \u001b[0m│\u001b[97;42m                 \u001b[0m│\u001b[97;42m                \u001b[0m│\u001b[97;42m               \u001b[0m│\u001b[97;42m             \u001b[0m│\u001b[97;42m                 \u001b[0m│\u001b[97;42m \u001b[0m\u001b[97;42m(Successful)  \u001b[0m\u001b[97;42m \u001b[0m│\n",
       "╰─────────────┴─────────────────┴────────────────┴───────────────┴─────────────┴─────────────────┴────────────────╯\n"
      ]
     },
     "metadata": {},
     "output_type": "display_data"
    },
    {
     "data": {
      "text/html": [
       "<pre style=\"white-space:pre;overflow-x:auto;line-height:normal;font-family:Menlo,'DejaVu Sans Mono',consolas,'Courier New',monospace\">╭────────────────┬────────────────┬────────────────┬───────────────┬─────────────┬────────────────┬───────────────╮\n",
       "│<span style=\"color: #ffffff; text-decoration-color: #ffffff; background-color: #008000\"> Name: Kuya Gen </span>│<span style=\"color: #ffffff; text-decoration-color: #ffffff; background-color: #008000\"> Phone Number:  </span>│<span style=\"color: #ffffff; text-decoration-color: #ffffff; background-color: #008000\"> Date: December </span>│<span style=\"color: #ffffff; text-decoration-color: #ffffff; background-color: #008000\"> Day: Saturday </span>│<span style=\"color: #ffffff; text-decoration-color: #ffffff; background-color: #008000\"> Time: 21:40 </span>│<span style=\"color: #ffffff; text-decoration-color: #ffffff; background-color: #008000\"> Duration: 0.0  </span>│<span style=\"color: #ffffff; text-decoration-color: #ffffff; background-color: #008000\"> Call Type:    </span>│\n",
       "│<span style=\"color: #ffffff; text-decoration-color: #ffffff; background-color: #008000\">                </span>│<span style=\"color: #ffffff; text-decoration-color: #ffffff; background-color: #008000\"> +639274863653  </span>│<span style=\"color: #ffffff; text-decoration-color: #ffffff; background-color: #008000\"> 09, 2023       </span>│<span style=\"color: #ffffff; text-decoration-color: #ffffff; background-color: #008000\">               </span>│<span style=\"color: #ffffff; text-decoration-color: #ffffff; background-color: #008000\">             </span>│<span style=\"color: #ffffff; text-decoration-color: #ffffff; background-color: #008000\"> minutes        </span>│<span style=\"color: #ffffff; text-decoration-color: #ffffff; background-color: #008000\"> Outgoing      </span>│\n",
       "│<span style=\"color: #ffffff; text-decoration-color: #ffffff; background-color: #008000\">                </span>│<span style=\"color: #ffffff; text-decoration-color: #ffffff; background-color: #008000\">                </span>│<span style=\"color: #ffffff; text-decoration-color: #ffffff; background-color: #008000\">                </span>│<span style=\"color: #ffffff; text-decoration-color: #ffffff; background-color: #008000\">               </span>│<span style=\"color: #ffffff; text-decoration-color: #ffffff; background-color: #008000\">             </span>│<span style=\"color: #ffffff; text-decoration-color: #ffffff; background-color: #008000\">                </span>│<span style=\"color: #ffffff; text-decoration-color: #ffffff; background-color: #008000\"> (Successful)  </span>│\n",
       "╰────────────────┴────────────────┴────────────────┴───────────────┴─────────────┴────────────────┴───────────────╯\n",
       "</pre>\n"
      ],
      "text/plain": [
       "╭────────────────┬────────────────┬────────────────┬───────────────┬─────────────┬────────────────┬───────────────╮\n",
       "│\u001b[97;42m \u001b[0m\u001b[97;42mName: Kuya Gen\u001b[0m\u001b[97;42m \u001b[0m│\u001b[97;42m \u001b[0m\u001b[97;42mPhone Number: \u001b[0m\u001b[97;42m \u001b[0m│\u001b[97;42m \u001b[0m\u001b[97;42mDate: December\u001b[0m\u001b[97;42m \u001b[0m│\u001b[97;42m \u001b[0m\u001b[97;42mDay: Saturday\u001b[0m\u001b[97;42m \u001b[0m│\u001b[97;42m \u001b[0m\u001b[97;42mTime: 21:40\u001b[0m\u001b[97;42m \u001b[0m│\u001b[97;42m \u001b[0m\u001b[97;42mDuration: 0.0 \u001b[0m\u001b[97;42m \u001b[0m│\u001b[97;42m \u001b[0m\u001b[97;42mCall Type:   \u001b[0m\u001b[97;42m \u001b[0m│\n",
       "│\u001b[97;42m                \u001b[0m│\u001b[97;42m \u001b[0m\u001b[97;42m+639274863653 \u001b[0m\u001b[97;42m \u001b[0m│\u001b[97;42m \u001b[0m\u001b[97;42m09, 2023      \u001b[0m\u001b[97;42m \u001b[0m│\u001b[97;42m               \u001b[0m│\u001b[97;42m             \u001b[0m│\u001b[97;42m \u001b[0m\u001b[97;42mminutes       \u001b[0m\u001b[97;42m \u001b[0m│\u001b[97;42m \u001b[0m\u001b[97;42mOutgoing     \u001b[0m\u001b[97;42m \u001b[0m│\n",
       "│\u001b[97;42m                \u001b[0m│\u001b[97;42m                \u001b[0m│\u001b[97;42m                \u001b[0m│\u001b[97;42m               \u001b[0m│\u001b[97;42m             \u001b[0m│\u001b[97;42m                \u001b[0m│\u001b[97;42m \u001b[0m\u001b[97;42m(Successful) \u001b[0m\u001b[97;42m \u001b[0m│\n",
       "╰────────────────┴────────────────┴────────────────┴───────────────┴─────────────┴────────────────┴───────────────╯\n"
      ]
     },
     "metadata": {},
     "output_type": "display_data"
    },
    {
     "name": "stdout",
     "output_type": "stream",
     "text": [
      "Enter the number of call log entries to process (or 'exit' to quit) [10-653]: exit\n",
      "\n",
      "Do you want to peek at the latest call log entry before exiting? (yes/no): yes\n",
      "\n",
      "Latest entry to be processed:\n"
     ]
    },
    {
     "data": {
      "text/html": [
       "<pre style=\"white-space:pre;overflow-x:auto;line-height:normal;font-family:Menlo,'DejaVu Sans Mono',consolas,'Courier New',monospace\">╭───────────────┬─────────────────┬────────────────┬─────────────┬─────────────┬─────────────────┬────────────────╮\n",
       "│<span style=\"color: #ffffff; text-decoration-color: #ffffff; background-color: #008000\"> Name: Johnlee </span>│<span style=\"color: #ffffff; text-decoration-color: #ffffff; background-color: #008000\"> Phone Number:   </span>│<span style=\"color: #ffffff; text-decoration-color: #ffffff; background-color: #008000\"> Date: December </span>│<span style=\"color: #ffffff; text-decoration-color: #ffffff; background-color: #008000\"> Day: Monday </span>│<span style=\"color: #ffffff; text-decoration-color: #ffffff; background-color: #008000\"> Time: 20:01 </span>│<span style=\"color: #ffffff; text-decoration-color: #ffffff; background-color: #008000\"> Duration: 0.0   </span>│<span style=\"color: #ffffff; text-decoration-color: #ffffff; background-color: #008000\"> Call Type:     </span>│\n",
       "│<span style=\"color: #ffffff; text-decoration-color: #ffffff; background-color: #008000\">               </span>│<span style=\"color: #ffffff; text-decoration-color: #ffffff; background-color: #008000\"> 09396327507     </span>│<span style=\"color: #ffffff; text-decoration-color: #ffffff; background-color: #008000\"> 11, 2023       </span>│<span style=\"color: #ffffff; text-decoration-color: #ffffff; background-color: #008000\">             </span>│<span style=\"color: #ffffff; text-decoration-color: #ffffff; background-color: #008000\">             </span>│<span style=\"color: #ffffff; text-decoration-color: #ffffff; background-color: #008000\"> minutes         </span>│<span style=\"color: #ffffff; text-decoration-color: #ffffff; background-color: #008000\"> Outgoing       </span>│\n",
       "│<span style=\"color: #ffffff; text-decoration-color: #ffffff; background-color: #008000\">               </span>│<span style=\"color: #ffffff; text-decoration-color: #ffffff; background-color: #008000\">                 </span>│<span style=\"color: #ffffff; text-decoration-color: #ffffff; background-color: #008000\">                </span>│<span style=\"color: #ffffff; text-decoration-color: #ffffff; background-color: #008000\">             </span>│<span style=\"color: #ffffff; text-decoration-color: #ffffff; background-color: #008000\">             </span>│<span style=\"color: #ffffff; text-decoration-color: #ffffff; background-color: #008000\">                 </span>│<span style=\"color: #ffffff; text-decoration-color: #ffffff; background-color: #008000\"> (Successful)   </span>│\n",
       "╰───────────────┴─────────────────┴────────────────┴─────────────┴─────────────┴─────────────────┴────────────────╯\n",
       "</pre>\n"
      ],
      "text/plain": [
       "╭───────────────┬─────────────────┬────────────────┬─────────────┬─────────────┬─────────────────┬────────────────╮\n",
       "│\u001b[97;42m \u001b[0m\u001b[97;42mName: Johnlee\u001b[0m\u001b[97;42m \u001b[0m│\u001b[97;42m \u001b[0m\u001b[97;42mPhone Number:  \u001b[0m\u001b[97;42m \u001b[0m│\u001b[97;42m \u001b[0m\u001b[97;42mDate: December\u001b[0m\u001b[97;42m \u001b[0m│\u001b[97;42m \u001b[0m\u001b[97;42mDay: Monday\u001b[0m\u001b[97;42m \u001b[0m│\u001b[97;42m \u001b[0m\u001b[97;42mTime: 20:01\u001b[0m\u001b[97;42m \u001b[0m│\u001b[97;42m \u001b[0m\u001b[97;42mDuration: 0.0  \u001b[0m\u001b[97;42m \u001b[0m│\u001b[97;42m \u001b[0m\u001b[97;42mCall Type:    \u001b[0m\u001b[97;42m \u001b[0m│\n",
       "│\u001b[97;42m               \u001b[0m│\u001b[97;42m \u001b[0m\u001b[97;42m09396327507    \u001b[0m\u001b[97;42m \u001b[0m│\u001b[97;42m \u001b[0m\u001b[97;42m11, 2023      \u001b[0m\u001b[97;42m \u001b[0m│\u001b[97;42m             \u001b[0m│\u001b[97;42m             \u001b[0m│\u001b[97;42m \u001b[0m\u001b[97;42mminutes        \u001b[0m\u001b[97;42m \u001b[0m│\u001b[97;42m \u001b[0m\u001b[97;42mOutgoing      \u001b[0m\u001b[97;42m \u001b[0m│\n",
       "│\u001b[97;42m               \u001b[0m│\u001b[97;42m                 \u001b[0m│\u001b[97;42m                \u001b[0m│\u001b[97;42m             \u001b[0m│\u001b[97;42m             \u001b[0m│\u001b[97;42m                 \u001b[0m│\u001b[97;42m \u001b[0m\u001b[97;42m(Successful)  \u001b[0m\u001b[97;42m \u001b[0m│\n",
       "╰───────────────┴─────────────────┴────────────────┴─────────────┴─────────────┴─────────────────┴────────────────╯\n"
      ]
     },
     "metadata": {},
     "output_type": "display_data"
    }
   ],
   "source": [
    "from datetime import datetime\n",
    "from rich.table import Table\n",
    "from rich.console import Console\n",
    "from rich import box\n",
    "import time\n",
    "import matplotlib.pyplot as plt\n",
    "\n",
    "print('MY CALL HISTORY THROUGH STACK AND 2D-ARRAY\\n')\n",
    "# STACK AND 2D-ARRAY\n",
    "def print_boxed_list(data, call_type):\n",
    "    console = Console()\n",
    "\n",
    "    # Set the background color based on call type\n",
    "    if call_type in ['Incoming (Successful)', 'Outgoing (Successful)']:\n",
    "        bg_color = \"green\"\n",
    "    elif call_type == 'Missed':\n",
    "        bg_color = \"red\"\n",
    "    else:\n",
    "        bg_color = \"cyan\"\n",
    "\n",
    "    table = Table(show_header=False, box=box.ROUNDED)\n",
    "\n",
    "    # Add a column for each piece of data\n",
    "    for _ in data:\n",
    "        table.add_column()\n",
    "\n",
    "    # Create a row with the appropriate background and text color\n",
    "    table.add_row(*data, style=f\"bright_white on {bg_color}\")\n",
    "\n",
    "    console.print(table)\n",
    "\n",
    "\n",
    "# Function to extract key-value pairs from a call log entry\n",
    "def extract_key_value(entry):\n",
    "    key_value_pairs = {}\n",
    "    for pair in entry.split(','):\n",
    "        key, value = pair.split('=')\n",
    "        key_value_pairs[key.strip()] = value.strip()\n",
    "    return key_value_pairs\n",
    "\n",
    "\n",
    "# Function to convert duration to minutes and seconds as a decimal\n",
    "def format_duration(duration_seconds):\n",
    "    if not duration_seconds:\n",
    "        return 'N/A'\n",
    "    duration_minutes = int(duration_seconds) / 60\n",
    "    return f\"{duration_minutes:.1f} minutes\"\n",
    "\n",
    "\n",
    "def call_status(call_type):\n",
    "    if call_type == '1':\n",
    "        return 'Incoming (Successful)'\n",
    "    elif call_type == '2':\n",
    "        return 'Outgoing (Successful)'\n",
    "    elif call_type == '3':\n",
    "        return 'Missed'\n",
    "    else:\n",
    "        return 'Unknown'\n",
    "\n",
    "\n",
    "# Function to format date and time\n",
    "def format_date(timestamp):\n",
    "    if not timestamp:\n",
    "        return 'N/A'\n",
    "    dt_object = datetime.fromtimestamp(int(timestamp) / 1000)\n",
    "    date = dt_object.strftime('%B %d, %Y')\n",
    "    return f\"Date: {date}\"\n",
    "\n",
    "\n",
    "def format_day(timestamp):\n",
    "    if not timestamp:\n",
    "        return 'N/A'\n",
    "    dt_object = datetime.fromtimestamp(int(timestamp) / 1000)\n",
    "    day_of_week = dt_object.strftime('%A')\n",
    "    return f\"Day: {day_of_week}\"\n",
    "\n",
    "\n",
    "def format_time(timestamp):\n",
    "    if not timestamp:\n",
    "        return 'N/A'\n",
    "    dt_object = datetime.fromtimestamp(int(timestamp) / 1000)\n",
    "    time = dt_object.strftime('%H:%M')\n",
    "    return f\"Time: {time}\"\n",
    "\n",
    "\n",
    "# Function to peek at the top of the stack and format the output\n",
    "def peek(stack):\n",
    "    if stack:\n",
    "        entry_info = stack[0]\n",
    "        for item in entry_info:\n",
    "            if item.startswith('Call Type:'):\n",
    "                status = item.split(': ')[1]\n",
    "                break\n",
    "        print_boxed_list(entry_info, status)\n",
    "    else:\n",
    "        print(\"Stack is empty.\")\n",
    "\n",
    "\n",
    "# Read call log entries from the file\n",
    "with open(\"call_logs.txt\", \"r\") as file:\n",
    "    call_logs_entries = file.readlines()\n",
    "\n",
    "# Create a stack to store processed call log entries\n",
    "call_log_stack = [extract_key_value(entry) for entry in call_logs_entries]\n",
    "\n",
    "# Main processing loop\n",
    "while True:\n",
    "    user_input = input(\"Enter the number of call log entries to process (or 'exit' to quit) [10-653]: \")\n",
    "\n",
    "    if user_input.lower() == 'exit':\n",
    "        peek_choice = input(\"\\nDo you want to peek at the latest call log entry before exiting? (yes/no): \").lower()\n",
    "        if peek_choice == 'yes':\n",
    "            print(\"\\nLatest entry to be processed:\")\n",
    "            peek(call_information_list)\n",
    "        break\n",
    "\n",
    "    try:\n",
    "        num_entries = int(user_input)\n",
    "        if num_entries > 653 or num_entries < 10:\n",
    "            raise ValueError\n",
    "    except ValueError:\n",
    "        print(\"Please enter a valid positive integer.\")\n",
    "        continue\n",
    "    \n",
    "    call_information_list = []\n",
    "    for _ in range(min(num_entries, len(call_log_stack))):\n",
    "        entry_info = call_log_stack.pop()\n",
    "\n",
    "        name = entry_info.get('name', 'N/A')\n",
    "        if name.lower() == 'null':\n",
    "            name = entry_info.get('number', 'N/A')\n",
    "\n",
    "        formatted_duration = format_duration(entry_info.get('duration', 'N/A'))\n",
    "        status = call_status(entry_info.get('type', 'N/A'))\n",
    "        formatted_date = format_date(entry_info.get('date', 'N/A'))\n",
    "        formatted_day = format_day(entry_info.get('date', 'N/A'))\n",
    "        formatted_time = format_time(entry_info.get('date', 'N/A'))\n",
    "\n",
    "        my_list = [\n",
    "            f\"Name: {name}\",\n",
    "            f\"Phone Number: {entry_info.get('number', 'N/A')}\",\n",
    "            formatted_date,\n",
    "            formatted_day,\n",
    "            formatted_time,\n",
    "            f\"Duration: {formatted_duration}\",\n",
    "            f\"Call Type: {status}\"\n",
    "        ]\n",
    "        call_information_list.append(my_list)\n",
    "        print_boxed_list(my_list, status)"
   ]
  },
  {
   "cell_type": "code",
   "execution_count": 2,
   "id": "b4ca7c26",
   "metadata": {},
   "outputs": [
    {
     "name": "stdout",
     "output_type": "stream",
     "text": [
      "MY CALL HISTORY THROUGH SORTING\n",
      "\n",
      "MENU:\n",
      "[1] Bubble Sort\n",
      "[2] Selection Sort\n",
      "[3] Insertion Sort\n",
      "[4] Exit\n",
      "Enter the corresponding number of the sorting algorithm you desire [1 - 4]: 1\n",
      "\n",
      "[1] Ascending Order\n",
      "[2] Descending Order\n",
      "Enter the corresponding number of the sorting algorithm you desire [1/2]: 1\n"
     ]
    },
    {
     "data": {
      "text/html": [
       "<pre style=\"white-space:pre;overflow-x:auto;line-height:normal;font-family:Menlo,'DejaVu Sans Mono',consolas,'Courier New',monospace\">┌──────────────────────────────┐\n",
       "│ Name: Kuya Gen, <span style=\"font-weight: bold\">Time: 12:06</span>  │\n",
       "│ Name: Johnlee, <span style=\"font-weight: bold\">Time: 20:01</span>   │\n",
       "│ Name: Kuya Gen, <span style=\"font-weight: bold\">Time: 12:05</span>  │\n",
       "│ Name: Kuya Gen, <span style=\"font-weight: bold\">Time: 12:04</span>  │\n",
       "│ Name: Mommy, <span style=\"font-weight: bold\">Time: 11:55</span>     │\n",
       "│ Name: Mommy, <span style=\"font-weight: bold\">Time: 11:51</span>     │\n",
       "│ Name: Ate trixy, <span style=\"font-weight: bold\">Time: 10:34</span> │\n",
       "│ Name: Ate trixy, <span style=\"font-weight: bold\">Time: 09:17</span> │\n",
       "│ Name: Mommy, <span style=\"font-weight: bold\">Time: 21:43</span>     │\n",
       "│ Name: Kuya Gen, <span style=\"font-weight: bold\">Time: 21:40</span>  │\n",
       "└──────────────────────────────┘\n",
       "</pre>\n"
      ],
      "text/plain": [
       "┌──────────────────────────────┐\n",
       "│ Name: Kuya Gen, \u001b[1mTime: 12:06\u001b[0m  │\n",
       "│ Name: Johnlee, \u001b[1mTime: 20:01\u001b[0m   │\n",
       "│ Name: Kuya Gen, \u001b[1mTime: 12:05\u001b[0m  │\n",
       "│ Name: Kuya Gen, \u001b[1mTime: 12:04\u001b[0m  │\n",
       "│ Name: Mommy, \u001b[1mTime: 11:55\u001b[0m     │\n",
       "│ Name: Mommy, \u001b[1mTime: 11:51\u001b[0m     │\n",
       "│ Name: Ate trixy, \u001b[1mTime: 10:34\u001b[0m │\n",
       "│ Name: Ate trixy, \u001b[1mTime: 09:17\u001b[0m │\n",
       "│ Name: Mommy, \u001b[1mTime: 21:43\u001b[0m     │\n",
       "│ Name: Kuya Gen, \u001b[1mTime: 21:40\u001b[0m  │\n",
       "└──────────────────────────────┘\n"
      ]
     },
     "metadata": {},
     "output_type": "display_data"
    },
    {
     "data": {
      "text/html": [
       "<pre style=\"white-space:pre;overflow-x:auto;line-height:normal;font-family:Menlo,'DejaVu Sans Mono',consolas,'Courier New',monospace\">┌──────────────────────────────┐\n",
       "│ Name: Kuya Gen, <span style=\"font-weight: bold\">Time: 12:06</span>  │\n",
       "│ Name: Kuya Gen, <span style=\"font-weight: bold\">Time: 12:05</span>  │\n",
       "│ Name: Kuya Gen, <span style=\"font-weight: bold\">Time: 12:06</span>  │\n",
       "│ Name: Kuya Gen, <span style=\"font-weight: bold\">Time: 12:04</span>  │\n",
       "│ Name: Mommy, <span style=\"font-weight: bold\">Time: 11:55</span>     │\n",
       "│ Name: Mommy, <span style=\"font-weight: bold\">Time: 11:51</span>     │\n",
       "│ Name: Ate trixy, <span style=\"font-weight: bold\">Time: 10:34</span> │\n",
       "│ Name: Ate trixy, <span style=\"font-weight: bold\">Time: 09:17</span> │\n",
       "│ Name: Mommy, <span style=\"font-weight: bold\">Time: 21:43</span>     │\n",
       "│ Name: Kuya Gen, <span style=\"font-weight: bold\">Time: 21:40</span>  │\n",
       "└──────────────────────────────┘\n",
       "</pre>\n"
      ],
      "text/plain": [
       "┌──────────────────────────────┐\n",
       "│ Name: Kuya Gen, \u001b[1mTime: 12:06\u001b[0m  │\n",
       "│ Name: Kuya Gen, \u001b[1mTime: 12:05\u001b[0m  │\n",
       "│ Name: Kuya Gen, \u001b[1mTime: 12:06\u001b[0m  │\n",
       "│ Name: Kuya Gen, \u001b[1mTime: 12:04\u001b[0m  │\n",
       "│ Name: Mommy, \u001b[1mTime: 11:55\u001b[0m     │\n",
       "│ Name: Mommy, \u001b[1mTime: 11:51\u001b[0m     │\n",
       "│ Name: Ate trixy, \u001b[1mTime: 10:34\u001b[0m │\n",
       "│ Name: Ate trixy, \u001b[1mTime: 09:17\u001b[0m │\n",
       "│ Name: Mommy, \u001b[1mTime: 21:43\u001b[0m     │\n",
       "│ Name: Kuya Gen, \u001b[1mTime: 21:40\u001b[0m  │\n",
       "└──────────────────────────────┘\n"
      ]
     },
     "metadata": {},
     "output_type": "display_data"
    },
    {
     "data": {
      "text/html": [
       "<pre style=\"white-space:pre;overflow-x:auto;line-height:normal;font-family:Menlo,'DejaVu Sans Mono',consolas,'Courier New',monospace\">┌──────────────────────────────┐\n",
       "│ Name: Kuya Gen, <span style=\"font-weight: bold\">Time: 12:06</span>  │\n",
       "│ Name: Kuya Gen, <span style=\"font-weight: bold\">Time: 12:05</span>  │\n",
       "│ Name: Kuya Gen, <span style=\"font-weight: bold\">Time: 12:04</span>  │\n",
       "│ Name: Kuya Gen, <span style=\"font-weight: bold\">Time: 12:05</span>  │\n",
       "│ Name: Mommy, <span style=\"font-weight: bold\">Time: 11:55</span>     │\n",
       "│ Name: Mommy, <span style=\"font-weight: bold\">Time: 11:51</span>     │\n",
       "│ Name: Ate trixy, <span style=\"font-weight: bold\">Time: 10:34</span> │\n",
       "│ Name: Ate trixy, <span style=\"font-weight: bold\">Time: 09:17</span> │\n",
       "│ Name: Mommy, <span style=\"font-weight: bold\">Time: 21:43</span>     │\n",
       "│ Name: Kuya Gen, <span style=\"font-weight: bold\">Time: 21:40</span>  │\n",
       "└──────────────────────────────┘\n",
       "</pre>\n"
      ],
      "text/plain": [
       "┌──────────────────────────────┐\n",
       "│ Name: Kuya Gen, \u001b[1mTime: 12:06\u001b[0m  │\n",
       "│ Name: Kuya Gen, \u001b[1mTime: 12:05\u001b[0m  │\n",
       "│ Name: Kuya Gen, \u001b[1mTime: 12:04\u001b[0m  │\n",
       "│ Name: Kuya Gen, \u001b[1mTime: 12:05\u001b[0m  │\n",
       "│ Name: Mommy, \u001b[1mTime: 11:55\u001b[0m     │\n",
       "│ Name: Mommy, \u001b[1mTime: 11:51\u001b[0m     │\n",
       "│ Name: Ate trixy, \u001b[1mTime: 10:34\u001b[0m │\n",
       "│ Name: Ate trixy, \u001b[1mTime: 09:17\u001b[0m │\n",
       "│ Name: Mommy, \u001b[1mTime: 21:43\u001b[0m     │\n",
       "│ Name: Kuya Gen, \u001b[1mTime: 21:40\u001b[0m  │\n",
       "└──────────────────────────────┘\n"
      ]
     },
     "metadata": {},
     "output_type": "display_data"
    },
    {
     "data": {
      "text/html": [
       "<pre style=\"white-space:pre;overflow-x:auto;line-height:normal;font-family:Menlo,'DejaVu Sans Mono',consolas,'Courier New',monospace\">┌──────────────────────────────┐\n",
       "│ Name: Kuya Gen, <span style=\"font-weight: bold\">Time: 12:06</span>  │\n",
       "│ Name: Kuya Gen, <span style=\"font-weight: bold\">Time: 12:05</span>  │\n",
       "│ Name: Kuya Gen, <span style=\"font-weight: bold\">Time: 12:04</span>  │\n",
       "│ Name: Mommy, <span style=\"font-weight: bold\">Time: 11:55</span>     │\n",
       "│ Name: Kuya Gen, <span style=\"font-weight: bold\">Time: 12:04</span>  │\n",
       "│ Name: Mommy, <span style=\"font-weight: bold\">Time: 11:51</span>     │\n",
       "│ Name: Ate trixy, <span style=\"font-weight: bold\">Time: 10:34</span> │\n",
       "│ Name: Ate trixy, <span style=\"font-weight: bold\">Time: 09:17</span> │\n",
       "│ Name: Mommy, <span style=\"font-weight: bold\">Time: 21:43</span>     │\n",
       "│ Name: Kuya Gen, <span style=\"font-weight: bold\">Time: 21:40</span>  │\n",
       "└──────────────────────────────┘\n",
       "</pre>\n"
      ],
      "text/plain": [
       "┌──────────────────────────────┐\n",
       "│ Name: Kuya Gen, \u001b[1mTime: 12:06\u001b[0m  │\n",
       "│ Name: Kuya Gen, \u001b[1mTime: 12:05\u001b[0m  │\n",
       "│ Name: Kuya Gen, \u001b[1mTime: 12:04\u001b[0m  │\n",
       "│ Name: Mommy, \u001b[1mTime: 11:55\u001b[0m     │\n",
       "│ Name: Kuya Gen, \u001b[1mTime: 12:04\u001b[0m  │\n",
       "│ Name: Mommy, \u001b[1mTime: 11:51\u001b[0m     │\n",
       "│ Name: Ate trixy, \u001b[1mTime: 10:34\u001b[0m │\n",
       "│ Name: Ate trixy, \u001b[1mTime: 09:17\u001b[0m │\n",
       "│ Name: Mommy, \u001b[1mTime: 21:43\u001b[0m     │\n",
       "│ Name: Kuya Gen, \u001b[1mTime: 21:40\u001b[0m  │\n",
       "└──────────────────────────────┘\n"
      ]
     },
     "metadata": {},
     "output_type": "display_data"
    },
    {
     "data": {
      "text/html": [
       "<pre style=\"white-space:pre;overflow-x:auto;line-height:normal;font-family:Menlo,'DejaVu Sans Mono',consolas,'Courier New',monospace\">┌──────────────────────────────┐\n",
       "│ Name: Kuya Gen, <span style=\"font-weight: bold\">Time: 12:06</span>  │\n",
       "│ Name: Kuya Gen, <span style=\"font-weight: bold\">Time: 12:05</span>  │\n",
       "│ Name: Kuya Gen, <span style=\"font-weight: bold\">Time: 12:04</span>  │\n",
       "│ Name: Mommy, <span style=\"font-weight: bold\">Time: 11:55</span>     │\n",
       "│ Name: Mommy, <span style=\"font-weight: bold\">Time: 11:51</span>     │\n",
       "│ Name: Mommy, <span style=\"font-weight: bold\">Time: 11:55</span>     │\n",
       "│ Name: Ate trixy, <span style=\"font-weight: bold\">Time: 10:34</span> │\n",
       "│ Name: Ate trixy, <span style=\"font-weight: bold\">Time: 09:17</span> │\n",
       "│ Name: Mommy, <span style=\"font-weight: bold\">Time: 21:43</span>     │\n",
       "│ Name: Kuya Gen, <span style=\"font-weight: bold\">Time: 21:40</span>  │\n",
       "└──────────────────────────────┘\n",
       "</pre>\n"
      ],
      "text/plain": [
       "┌──────────────────────────────┐\n",
       "│ Name: Kuya Gen, \u001b[1mTime: 12:06\u001b[0m  │\n",
       "│ Name: Kuya Gen, \u001b[1mTime: 12:05\u001b[0m  │\n",
       "│ Name: Kuya Gen, \u001b[1mTime: 12:04\u001b[0m  │\n",
       "│ Name: Mommy, \u001b[1mTime: 11:55\u001b[0m     │\n",
       "│ Name: Mommy, \u001b[1mTime: 11:51\u001b[0m     │\n",
       "│ Name: Mommy, \u001b[1mTime: 11:55\u001b[0m     │\n",
       "│ Name: Ate trixy, \u001b[1mTime: 10:34\u001b[0m │\n",
       "│ Name: Ate trixy, \u001b[1mTime: 09:17\u001b[0m │\n",
       "│ Name: Mommy, \u001b[1mTime: 21:43\u001b[0m     │\n",
       "│ Name: Kuya Gen, \u001b[1mTime: 21:40\u001b[0m  │\n",
       "└──────────────────────────────┘\n"
      ]
     },
     "metadata": {},
     "output_type": "display_data"
    },
    {
     "data": {
      "text/html": [
       "<pre style=\"white-space:pre;overflow-x:auto;line-height:normal;font-family:Menlo,'DejaVu Sans Mono',consolas,'Courier New',monospace\">┌──────────────────────────────┐\n",
       "│ Name: Kuya Gen, <span style=\"font-weight: bold\">Time: 12:06</span>  │\n",
       "│ Name: Kuya Gen, <span style=\"font-weight: bold\">Time: 12:05</span>  │\n",
       "│ Name: Kuya Gen, <span style=\"font-weight: bold\">Time: 12:04</span>  │\n",
       "│ Name: Mommy, <span style=\"font-weight: bold\">Time: 11:55</span>     │\n",
       "│ Name: Mommy, <span style=\"font-weight: bold\">Time: 11:51</span>     │\n",
       "│ Name: Ate trixy, <span style=\"font-weight: bold\">Time: 10:34</span> │\n",
       "│ Name: Mommy, <span style=\"font-weight: bold\">Time: 11:51</span>     │\n",
       "│ Name: Ate trixy, <span style=\"font-weight: bold\">Time: 09:17</span> │\n",
       "│ Name: Mommy, <span style=\"font-weight: bold\">Time: 21:43</span>     │\n",
       "│ Name: Kuya Gen, <span style=\"font-weight: bold\">Time: 21:40</span>  │\n",
       "└──────────────────────────────┘\n",
       "</pre>\n"
      ],
      "text/plain": [
       "┌──────────────────────────────┐\n",
       "│ Name: Kuya Gen, \u001b[1mTime: 12:06\u001b[0m  │\n",
       "│ Name: Kuya Gen, \u001b[1mTime: 12:05\u001b[0m  │\n",
       "│ Name: Kuya Gen, \u001b[1mTime: 12:04\u001b[0m  │\n",
       "│ Name: Mommy, \u001b[1mTime: 11:55\u001b[0m     │\n",
       "│ Name: Mommy, \u001b[1mTime: 11:51\u001b[0m     │\n",
       "│ Name: Ate trixy, \u001b[1mTime: 10:34\u001b[0m │\n",
       "│ Name: Mommy, \u001b[1mTime: 11:51\u001b[0m     │\n",
       "│ Name: Ate trixy, \u001b[1mTime: 09:17\u001b[0m │\n",
       "│ Name: Mommy, \u001b[1mTime: 21:43\u001b[0m     │\n",
       "│ Name: Kuya Gen, \u001b[1mTime: 21:40\u001b[0m  │\n",
       "└──────────────────────────────┘\n"
      ]
     },
     "metadata": {},
     "output_type": "display_data"
    },
    {
     "data": {
      "text/html": [
       "<pre style=\"white-space:pre;overflow-x:auto;line-height:normal;font-family:Menlo,'DejaVu Sans Mono',consolas,'Courier New',monospace\">┌──────────────────────────────┐\n",
       "│ Name: Kuya Gen, <span style=\"font-weight: bold\">Time: 12:06</span>  │\n",
       "│ Name: Kuya Gen, <span style=\"font-weight: bold\">Time: 12:05</span>  │\n",
       "│ Name: Kuya Gen, <span style=\"font-weight: bold\">Time: 12:04</span>  │\n",
       "│ Name: Mommy, <span style=\"font-weight: bold\">Time: 11:55</span>     │\n",
       "│ Name: Mommy, <span style=\"font-weight: bold\">Time: 11:51</span>     │\n",
       "│ Name: Ate trixy, <span style=\"font-weight: bold\">Time: 10:34</span> │\n",
       "│ Name: Ate trixy, <span style=\"font-weight: bold\">Time: 09:17</span> │\n",
       "│ Name: Ate trixy, <span style=\"font-weight: bold\">Time: 10:34</span> │\n",
       "│ Name: Mommy, <span style=\"font-weight: bold\">Time: 21:43</span>     │\n",
       "│ Name: Kuya Gen, <span style=\"font-weight: bold\">Time: 21:40</span>  │\n",
       "└──────────────────────────────┘\n",
       "</pre>\n"
      ],
      "text/plain": [
       "┌──────────────────────────────┐\n",
       "│ Name: Kuya Gen, \u001b[1mTime: 12:06\u001b[0m  │\n",
       "│ Name: Kuya Gen, \u001b[1mTime: 12:05\u001b[0m  │\n",
       "│ Name: Kuya Gen, \u001b[1mTime: 12:04\u001b[0m  │\n",
       "│ Name: Mommy, \u001b[1mTime: 11:55\u001b[0m     │\n",
       "│ Name: Mommy, \u001b[1mTime: 11:51\u001b[0m     │\n",
       "│ Name: Ate trixy, \u001b[1mTime: 10:34\u001b[0m │\n",
       "│ Name: Ate trixy, \u001b[1mTime: 09:17\u001b[0m │\n",
       "│ Name: Ate trixy, \u001b[1mTime: 10:34\u001b[0m │\n",
       "│ Name: Mommy, \u001b[1mTime: 21:43\u001b[0m     │\n",
       "│ Name: Kuya Gen, \u001b[1mTime: 21:40\u001b[0m  │\n",
       "└──────────────────────────────┘\n"
      ]
     },
     "metadata": {},
     "output_type": "display_data"
    },
    {
     "data": {
      "text/html": [
       "<pre style=\"white-space:pre;overflow-x:auto;line-height:normal;font-family:Menlo,'DejaVu Sans Mono',consolas,'Courier New',monospace\">┌──────────────────────────────┐\n",
       "│ Name: Kuya Gen, <span style=\"font-weight: bold\">Time: 12:06</span>  │\n",
       "│ Name: Kuya Gen, <span style=\"font-weight: bold\">Time: 12:05</span>  │\n",
       "│ Name: Kuya Gen, <span style=\"font-weight: bold\">Time: 12:04</span>  │\n",
       "│ Name: Mommy, <span style=\"font-weight: bold\">Time: 11:55</span>     │\n",
       "│ Name: Mommy, <span style=\"font-weight: bold\">Time: 11:51</span>     │\n",
       "│ Name: Ate trixy, <span style=\"font-weight: bold\">Time: 10:34</span> │\n",
       "│ Name: Ate trixy, <span style=\"font-weight: bold\">Time: 09:17</span> │\n",
       "│ Name: Ate trixy, <span style=\"font-weight: bold\">Time: 10:34</span> │\n",
       "│ Name: Kuya Gen, <span style=\"font-weight: bold\">Time: 21:40</span>  │\n",
       "│ Name: Mommy, <span style=\"font-weight: bold\">Time: 21:43</span>     │\n",
       "└──────────────────────────────┘\n",
       "</pre>\n"
      ],
      "text/plain": [
       "┌──────────────────────────────┐\n",
       "│ Name: Kuya Gen, \u001b[1mTime: 12:06\u001b[0m  │\n",
       "│ Name: Kuya Gen, \u001b[1mTime: 12:05\u001b[0m  │\n",
       "│ Name: Kuya Gen, \u001b[1mTime: 12:04\u001b[0m  │\n",
       "│ Name: Mommy, \u001b[1mTime: 11:55\u001b[0m     │\n",
       "│ Name: Mommy, \u001b[1mTime: 11:51\u001b[0m     │\n",
       "│ Name: Ate trixy, \u001b[1mTime: 10:34\u001b[0m │\n",
       "│ Name: Ate trixy, \u001b[1mTime: 09:17\u001b[0m │\n",
       "│ Name: Ate trixy, \u001b[1mTime: 10:34\u001b[0m │\n",
       "│ Name: Kuya Gen, \u001b[1mTime: 21:40\u001b[0m  │\n",
       "│ Name: Mommy, \u001b[1mTime: 21:43\u001b[0m     │\n",
       "└──────────────────────────────┘\n"
      ]
     },
     "metadata": {},
     "output_type": "display_data"
    },
    {
     "data": {
      "text/html": [
       "<pre style=\"white-space:pre;overflow-x:auto;line-height:normal;font-family:Menlo,'DejaVu Sans Mono',consolas,'Courier New',monospace\">┌──────────────────────────────┐\n",
       "│ Name: Kuya Gen, <span style=\"font-weight: bold\">Time: 12:05</span>  │\n",
       "│ Name: Johnlee, <span style=\"font-weight: bold\">Time: 20:01</span>   │\n",
       "│ Name: Kuya Gen, <span style=\"font-weight: bold\">Time: 12:04</span>  │\n",
       "│ Name: Mommy, <span style=\"font-weight: bold\">Time: 11:55</span>     │\n",
       "│ Name: Mommy, <span style=\"font-weight: bold\">Time: 11:51</span>     │\n",
       "│ Name: Ate trixy, <span style=\"font-weight: bold\">Time: 10:34</span> │\n",
       "│ Name: Ate trixy, <span style=\"font-weight: bold\">Time: 09:17</span> │\n",
       "│ Name: Ate trixy, <span style=\"font-weight: bold\">Time: 10:34</span> │\n",
       "│ Name: Kuya Gen, <span style=\"font-weight: bold\">Time: 21:40</span>  │\n",
       "│ Name: Mommy, <span style=\"font-weight: bold\">Time: 21:43</span>     │\n",
       "└──────────────────────────────┘\n",
       "</pre>\n"
      ],
      "text/plain": [
       "┌──────────────────────────────┐\n",
       "│ Name: Kuya Gen, \u001b[1mTime: 12:05\u001b[0m  │\n",
       "│ Name: Johnlee, \u001b[1mTime: 20:01\u001b[0m   │\n",
       "│ Name: Kuya Gen, \u001b[1mTime: 12:04\u001b[0m  │\n",
       "│ Name: Mommy, \u001b[1mTime: 11:55\u001b[0m     │\n",
       "│ Name: Mommy, \u001b[1mTime: 11:51\u001b[0m     │\n",
       "│ Name: Ate trixy, \u001b[1mTime: 10:34\u001b[0m │\n",
       "│ Name: Ate trixy, \u001b[1mTime: 09:17\u001b[0m │\n",
       "│ Name: Ate trixy, \u001b[1mTime: 10:34\u001b[0m │\n",
       "│ Name: Kuya Gen, \u001b[1mTime: 21:40\u001b[0m  │\n",
       "│ Name: Mommy, \u001b[1mTime: 21:43\u001b[0m     │\n",
       "└──────────────────────────────┘\n"
      ]
     },
     "metadata": {},
     "output_type": "display_data"
    },
    {
     "data": {
      "text/html": [
       "<pre style=\"white-space:pre;overflow-x:auto;line-height:normal;font-family:Menlo,'DejaVu Sans Mono',consolas,'Courier New',monospace\">┌──────────────────────────────┐\n",
       "│ Name: Kuya Gen, <span style=\"font-weight: bold\">Time: 12:05</span>  │\n",
       "│ Name: Kuya Gen, <span style=\"font-weight: bold\">Time: 12:04</span>  │\n",
       "│ Name: Kuya Gen, <span style=\"font-weight: bold\">Time: 12:06</span>  │\n",
       "│ Name: Mommy, <span style=\"font-weight: bold\">Time: 11:55</span>     │\n",
       "│ Name: Mommy, <span style=\"font-weight: bold\">Time: 11:51</span>     │\n",
       "│ Name: Ate trixy, <span style=\"font-weight: bold\">Time: 10:34</span> │\n",
       "│ Name: Ate trixy, <span style=\"font-weight: bold\">Time: 09:17</span> │\n",
       "│ Name: Ate trixy, <span style=\"font-weight: bold\">Time: 10:34</span> │\n",
       "│ Name: Kuya Gen, <span style=\"font-weight: bold\">Time: 21:40</span>  │\n",
       "│ Name: Mommy, <span style=\"font-weight: bold\">Time: 21:43</span>     │\n",
       "└──────────────────────────────┘\n",
       "</pre>\n"
      ],
      "text/plain": [
       "┌──────────────────────────────┐\n",
       "│ Name: Kuya Gen, \u001b[1mTime: 12:05\u001b[0m  │\n",
       "│ Name: Kuya Gen, \u001b[1mTime: 12:04\u001b[0m  │\n",
       "│ Name: Kuya Gen, \u001b[1mTime: 12:06\u001b[0m  │\n",
       "│ Name: Mommy, \u001b[1mTime: 11:55\u001b[0m     │\n",
       "│ Name: Mommy, \u001b[1mTime: 11:51\u001b[0m     │\n",
       "│ Name: Ate trixy, \u001b[1mTime: 10:34\u001b[0m │\n",
       "│ Name: Ate trixy, \u001b[1mTime: 09:17\u001b[0m │\n",
       "│ Name: Ate trixy, \u001b[1mTime: 10:34\u001b[0m │\n",
       "│ Name: Kuya Gen, \u001b[1mTime: 21:40\u001b[0m  │\n",
       "│ Name: Mommy, \u001b[1mTime: 21:43\u001b[0m     │\n",
       "└──────────────────────────────┘\n"
      ]
     },
     "metadata": {},
     "output_type": "display_data"
    },
    {
     "data": {
      "text/html": [
       "<pre style=\"white-space:pre;overflow-x:auto;line-height:normal;font-family:Menlo,'DejaVu Sans Mono',consolas,'Courier New',monospace\">┌──────────────────────────────┐\n",
       "│ Name: Kuya Gen, <span style=\"font-weight: bold\">Time: 12:05</span>  │\n",
       "│ Name: Kuya Gen, <span style=\"font-weight: bold\">Time: 12:04</span>  │\n",
       "│ Name: Mommy, <span style=\"font-weight: bold\">Time: 11:55</span>     │\n",
       "│ Name: Kuya Gen, <span style=\"font-weight: bold\">Time: 12:05</span>  │\n",
       "│ Name: Mommy, <span style=\"font-weight: bold\">Time: 11:51</span>     │\n",
       "│ Name: Ate trixy, <span style=\"font-weight: bold\">Time: 10:34</span> │\n",
       "│ Name: Ate trixy, <span style=\"font-weight: bold\">Time: 09:17</span> │\n",
       "│ Name: Ate trixy, <span style=\"font-weight: bold\">Time: 10:34</span> │\n",
       "│ Name: Kuya Gen, <span style=\"font-weight: bold\">Time: 21:40</span>  │\n",
       "│ Name: Mommy, <span style=\"font-weight: bold\">Time: 21:43</span>     │\n",
       "└──────────────────────────────┘\n",
       "</pre>\n"
      ],
      "text/plain": [
       "┌──────────────────────────────┐\n",
       "│ Name: Kuya Gen, \u001b[1mTime: 12:05\u001b[0m  │\n",
       "│ Name: Kuya Gen, \u001b[1mTime: 12:04\u001b[0m  │\n",
       "│ Name: Mommy, \u001b[1mTime: 11:55\u001b[0m     │\n",
       "│ Name: Kuya Gen, \u001b[1mTime: 12:05\u001b[0m  │\n",
       "│ Name: Mommy, \u001b[1mTime: 11:51\u001b[0m     │\n",
       "│ Name: Ate trixy, \u001b[1mTime: 10:34\u001b[0m │\n",
       "│ Name: Ate trixy, \u001b[1mTime: 09:17\u001b[0m │\n",
       "│ Name: Ate trixy, \u001b[1mTime: 10:34\u001b[0m │\n",
       "│ Name: Kuya Gen, \u001b[1mTime: 21:40\u001b[0m  │\n",
       "│ Name: Mommy, \u001b[1mTime: 21:43\u001b[0m     │\n",
       "└──────────────────────────────┘\n"
      ]
     },
     "metadata": {},
     "output_type": "display_data"
    },
    {
     "data": {
      "text/html": [
       "<pre style=\"white-space:pre;overflow-x:auto;line-height:normal;font-family:Menlo,'DejaVu Sans Mono',consolas,'Courier New',monospace\">┌──────────────────────────────┐\n",
       "│ Name: Kuya Gen, <span style=\"font-weight: bold\">Time: 12:05</span>  │\n",
       "│ Name: Kuya Gen, <span style=\"font-weight: bold\">Time: 12:04</span>  │\n",
       "│ Name: Mommy, <span style=\"font-weight: bold\">Time: 11:55</span>     │\n",
       "│ Name: Mommy, <span style=\"font-weight: bold\">Time: 11:51</span>     │\n",
       "│ Name: Kuya Gen, <span style=\"font-weight: bold\">Time: 12:04</span>  │\n",
       "│ Name: Ate trixy, <span style=\"font-weight: bold\">Time: 10:34</span> │\n",
       "│ Name: Ate trixy, <span style=\"font-weight: bold\">Time: 09:17</span> │\n",
       "│ Name: Ate trixy, <span style=\"font-weight: bold\">Time: 10:34</span> │\n",
       "│ Name: Kuya Gen, <span style=\"font-weight: bold\">Time: 21:40</span>  │\n",
       "│ Name: Mommy, <span style=\"font-weight: bold\">Time: 21:43</span>     │\n",
       "└──────────────────────────────┘\n",
       "</pre>\n"
      ],
      "text/plain": [
       "┌──────────────────────────────┐\n",
       "│ Name: Kuya Gen, \u001b[1mTime: 12:05\u001b[0m  │\n",
       "│ Name: Kuya Gen, \u001b[1mTime: 12:04\u001b[0m  │\n",
       "│ Name: Mommy, \u001b[1mTime: 11:55\u001b[0m     │\n",
       "│ Name: Mommy, \u001b[1mTime: 11:51\u001b[0m     │\n",
       "│ Name: Kuya Gen, \u001b[1mTime: 12:04\u001b[0m  │\n",
       "│ Name: Ate trixy, \u001b[1mTime: 10:34\u001b[0m │\n",
       "│ Name: Ate trixy, \u001b[1mTime: 09:17\u001b[0m │\n",
       "│ Name: Ate trixy, \u001b[1mTime: 10:34\u001b[0m │\n",
       "│ Name: Kuya Gen, \u001b[1mTime: 21:40\u001b[0m  │\n",
       "│ Name: Mommy, \u001b[1mTime: 21:43\u001b[0m     │\n",
       "└──────────────────────────────┘\n"
      ]
     },
     "metadata": {},
     "output_type": "display_data"
    },
    {
     "data": {
      "text/html": [
       "<pre style=\"white-space:pre;overflow-x:auto;line-height:normal;font-family:Menlo,'DejaVu Sans Mono',consolas,'Courier New',monospace\">┌──────────────────────────────┐\n",
       "│ Name: Kuya Gen, <span style=\"font-weight: bold\">Time: 12:05</span>  │\n",
       "│ Name: Kuya Gen, <span style=\"font-weight: bold\">Time: 12:04</span>  │\n",
       "│ Name: Mommy, <span style=\"font-weight: bold\">Time: 11:55</span>     │\n",
       "│ Name: Mommy, <span style=\"font-weight: bold\">Time: 11:51</span>     │\n",
       "│ Name: Ate trixy, <span style=\"font-weight: bold\">Time: 10:34</span> │\n",
       "│ Name: Mommy, <span style=\"font-weight: bold\">Time: 11:55</span>     │\n",
       "│ Name: Ate trixy, <span style=\"font-weight: bold\">Time: 09:17</span> │\n",
       "│ Name: Ate trixy, <span style=\"font-weight: bold\">Time: 10:34</span> │\n",
       "│ Name: Kuya Gen, <span style=\"font-weight: bold\">Time: 21:40</span>  │\n",
       "│ Name: Mommy, <span style=\"font-weight: bold\">Time: 21:43</span>     │\n",
       "└──────────────────────────────┘\n",
       "</pre>\n"
      ],
      "text/plain": [
       "┌──────────────────────────────┐\n",
       "│ Name: Kuya Gen, \u001b[1mTime: 12:05\u001b[0m  │\n",
       "│ Name: Kuya Gen, \u001b[1mTime: 12:04\u001b[0m  │\n",
       "│ Name: Mommy, \u001b[1mTime: 11:55\u001b[0m     │\n",
       "│ Name: Mommy, \u001b[1mTime: 11:51\u001b[0m     │\n",
       "│ Name: Ate trixy, \u001b[1mTime: 10:34\u001b[0m │\n",
       "│ Name: Mommy, \u001b[1mTime: 11:55\u001b[0m     │\n",
       "│ Name: Ate trixy, \u001b[1mTime: 09:17\u001b[0m │\n",
       "│ Name: Ate trixy, \u001b[1mTime: 10:34\u001b[0m │\n",
       "│ Name: Kuya Gen, \u001b[1mTime: 21:40\u001b[0m  │\n",
       "│ Name: Mommy, \u001b[1mTime: 21:43\u001b[0m     │\n",
       "└──────────────────────────────┘\n"
      ]
     },
     "metadata": {},
     "output_type": "display_data"
    },
    {
     "data": {
      "text/html": [
       "<pre style=\"white-space:pre;overflow-x:auto;line-height:normal;font-family:Menlo,'DejaVu Sans Mono',consolas,'Courier New',monospace\">┌──────────────────────────────┐\n",
       "│ Name: Kuya Gen, <span style=\"font-weight: bold\">Time: 12:05</span>  │\n",
       "│ Name: Kuya Gen, <span style=\"font-weight: bold\">Time: 12:04</span>  │\n",
       "│ Name: Mommy, <span style=\"font-weight: bold\">Time: 11:55</span>     │\n",
       "│ Name: Mommy, <span style=\"font-weight: bold\">Time: 11:51</span>     │\n",
       "│ Name: Ate trixy, <span style=\"font-weight: bold\">Time: 10:34</span> │\n",
       "│ Name: Ate trixy, <span style=\"font-weight: bold\">Time: 09:17</span> │\n",
       "│ Name: Mommy, <span style=\"font-weight: bold\">Time: 11:51</span>     │\n",
       "│ Name: Ate trixy, <span style=\"font-weight: bold\">Time: 10:34</span> │\n",
       "│ Name: Kuya Gen, <span style=\"font-weight: bold\">Time: 21:40</span>  │\n",
       "│ Name: Mommy, <span style=\"font-weight: bold\">Time: 21:43</span>     │\n",
       "└──────────────────────────────┘\n",
       "</pre>\n"
      ],
      "text/plain": [
       "┌──────────────────────────────┐\n",
       "│ Name: Kuya Gen, \u001b[1mTime: 12:05\u001b[0m  │\n",
       "│ Name: Kuya Gen, \u001b[1mTime: 12:04\u001b[0m  │\n",
       "│ Name: Mommy, \u001b[1mTime: 11:55\u001b[0m     │\n",
       "│ Name: Mommy, \u001b[1mTime: 11:51\u001b[0m     │\n",
       "│ Name: Ate trixy, \u001b[1mTime: 10:34\u001b[0m │\n",
       "│ Name: Ate trixy, \u001b[1mTime: 09:17\u001b[0m │\n",
       "│ Name: Mommy, \u001b[1mTime: 11:51\u001b[0m     │\n",
       "│ Name: Ate trixy, \u001b[1mTime: 10:34\u001b[0m │\n",
       "│ Name: Kuya Gen, \u001b[1mTime: 21:40\u001b[0m  │\n",
       "│ Name: Mommy, \u001b[1mTime: 21:43\u001b[0m     │\n",
       "└──────────────────────────────┘\n"
      ]
     },
     "metadata": {},
     "output_type": "display_data"
    },
    {
     "data": {
      "text/html": [
       "<pre style=\"white-space:pre;overflow-x:auto;line-height:normal;font-family:Menlo,'DejaVu Sans Mono',consolas,'Courier New',monospace\">┌──────────────────────────────┐\n",
       "│ Name: Kuya Gen, <span style=\"font-weight: bold\">Time: 12:05</span>  │\n",
       "│ Name: Kuya Gen, <span style=\"font-weight: bold\">Time: 12:04</span>  │\n",
       "│ Name: Mommy, <span style=\"font-weight: bold\">Time: 11:55</span>     │\n",
       "│ Name: Mommy, <span style=\"font-weight: bold\">Time: 11:51</span>     │\n",
       "│ Name: Ate trixy, <span style=\"font-weight: bold\">Time: 10:34</span> │\n",
       "│ Name: Ate trixy, <span style=\"font-weight: bold\">Time: 09:17</span> │\n",
       "│ Name: Ate trixy, <span style=\"font-weight: bold\">Time: 10:34</span> │\n",
       "│ Name: Ate trixy, <span style=\"font-weight: bold\">Time: 10:34</span> │\n",
       "│ Name: Kuya Gen, <span style=\"font-weight: bold\">Time: 21:40</span>  │\n",
       "│ Name: Mommy, <span style=\"font-weight: bold\">Time: 21:43</span>     │\n",
       "└──────────────────────────────┘\n",
       "</pre>\n"
      ],
      "text/plain": [
       "┌──────────────────────────────┐\n",
       "│ Name: Kuya Gen, \u001b[1mTime: 12:05\u001b[0m  │\n",
       "│ Name: Kuya Gen, \u001b[1mTime: 12:04\u001b[0m  │\n",
       "│ Name: Mommy, \u001b[1mTime: 11:55\u001b[0m     │\n",
       "│ Name: Mommy, \u001b[1mTime: 11:51\u001b[0m     │\n",
       "│ Name: Ate trixy, \u001b[1mTime: 10:34\u001b[0m │\n",
       "│ Name: Ate trixy, \u001b[1mTime: 09:17\u001b[0m │\n",
       "│ Name: Ate trixy, \u001b[1mTime: 10:34\u001b[0m │\n",
       "│ Name: Ate trixy, \u001b[1mTime: 10:34\u001b[0m │\n",
       "│ Name: Kuya Gen, \u001b[1mTime: 21:40\u001b[0m  │\n",
       "│ Name: Mommy, \u001b[1mTime: 21:43\u001b[0m     │\n",
       "└──────────────────────────────┘\n"
      ]
     },
     "metadata": {},
     "output_type": "display_data"
    },
    {
     "data": {
      "text/html": [
       "<pre style=\"white-space:pre;overflow-x:auto;line-height:normal;font-family:Menlo,'DejaVu Sans Mono',consolas,'Courier New',monospace\">┌──────────────────────────────┐\n",
       "│ Name: Kuya Gen, <span style=\"font-weight: bold\">Time: 12:04</span>  │\n",
       "│ Name: Johnlee, <span style=\"font-weight: bold\">Time: 20:01</span>   │\n",
       "│ Name: Mommy, <span style=\"font-weight: bold\">Time: 11:55</span>     │\n",
       "│ Name: Mommy, <span style=\"font-weight: bold\">Time: 11:51</span>     │\n",
       "│ Name: Ate trixy, <span style=\"font-weight: bold\">Time: 10:34</span> │\n",
       "│ Name: Ate trixy, <span style=\"font-weight: bold\">Time: 09:17</span> │\n",
       "│ Name: Ate trixy, <span style=\"font-weight: bold\">Time: 10:34</span> │\n",
       "│ Name: Ate trixy, <span style=\"font-weight: bold\">Time: 10:34</span> │\n",
       "│ Name: Kuya Gen, <span style=\"font-weight: bold\">Time: 21:40</span>  │\n",
       "│ Name: Mommy, <span style=\"font-weight: bold\">Time: 21:43</span>     │\n",
       "└──────────────────────────────┘\n",
       "</pre>\n"
      ],
      "text/plain": [
       "┌──────────────────────────────┐\n",
       "│ Name: Kuya Gen, \u001b[1mTime: 12:04\u001b[0m  │\n",
       "│ Name: Johnlee, \u001b[1mTime: 20:01\u001b[0m   │\n",
       "│ Name: Mommy, \u001b[1mTime: 11:55\u001b[0m     │\n",
       "│ Name: Mommy, \u001b[1mTime: 11:51\u001b[0m     │\n",
       "│ Name: Ate trixy, \u001b[1mTime: 10:34\u001b[0m │\n",
       "│ Name: Ate trixy, \u001b[1mTime: 09:17\u001b[0m │\n",
       "│ Name: Ate trixy, \u001b[1mTime: 10:34\u001b[0m │\n",
       "│ Name: Ate trixy, \u001b[1mTime: 10:34\u001b[0m │\n",
       "│ Name: Kuya Gen, \u001b[1mTime: 21:40\u001b[0m  │\n",
       "│ Name: Mommy, \u001b[1mTime: 21:43\u001b[0m     │\n",
       "└──────────────────────────────┘\n"
      ]
     },
     "metadata": {},
     "output_type": "display_data"
    },
    {
     "data": {
      "text/html": [
       "<pre style=\"white-space:pre;overflow-x:auto;line-height:normal;font-family:Menlo,'DejaVu Sans Mono',consolas,'Courier New',monospace\">┌──────────────────────────────┐\n",
       "│ Name: Kuya Gen, <span style=\"font-weight: bold\">Time: 12:04</span>  │\n",
       "│ Name: Mommy, <span style=\"font-weight: bold\">Time: 11:55</span>     │\n",
       "│ Name: Kuya Gen, <span style=\"font-weight: bold\">Time: 12:06</span>  │\n",
       "│ Name: Mommy, <span style=\"font-weight: bold\">Time: 11:51</span>     │\n",
       "│ Name: Ate trixy, <span style=\"font-weight: bold\">Time: 10:34</span> │\n",
       "│ Name: Ate trixy, <span style=\"font-weight: bold\">Time: 09:17</span> │\n",
       "│ Name: Ate trixy, <span style=\"font-weight: bold\">Time: 10:34</span> │\n",
       "│ Name: Ate trixy, <span style=\"font-weight: bold\">Time: 10:34</span> │\n",
       "│ Name: Kuya Gen, <span style=\"font-weight: bold\">Time: 21:40</span>  │\n",
       "│ Name: Mommy, <span style=\"font-weight: bold\">Time: 21:43</span>     │\n",
       "└──────────────────────────────┘\n",
       "</pre>\n"
      ],
      "text/plain": [
       "┌──────────────────────────────┐\n",
       "│ Name: Kuya Gen, \u001b[1mTime: 12:04\u001b[0m  │\n",
       "│ Name: Mommy, \u001b[1mTime: 11:55\u001b[0m     │\n",
       "│ Name: Kuya Gen, \u001b[1mTime: 12:06\u001b[0m  │\n",
       "│ Name: Mommy, \u001b[1mTime: 11:51\u001b[0m     │\n",
       "│ Name: Ate trixy, \u001b[1mTime: 10:34\u001b[0m │\n",
       "│ Name: Ate trixy, \u001b[1mTime: 09:17\u001b[0m │\n",
       "│ Name: Ate trixy, \u001b[1mTime: 10:34\u001b[0m │\n",
       "│ Name: Ate trixy, \u001b[1mTime: 10:34\u001b[0m │\n",
       "│ Name: Kuya Gen, \u001b[1mTime: 21:40\u001b[0m  │\n",
       "│ Name: Mommy, \u001b[1mTime: 21:43\u001b[0m     │\n",
       "└──────────────────────────────┘\n"
      ]
     },
     "metadata": {},
     "output_type": "display_data"
    },
    {
     "data": {
      "text/html": [
       "<pre style=\"white-space:pre;overflow-x:auto;line-height:normal;font-family:Menlo,'DejaVu Sans Mono',consolas,'Courier New',monospace\">┌──────────────────────────────┐\n",
       "│ Name: Kuya Gen, <span style=\"font-weight: bold\">Time: 12:04</span>  │\n",
       "│ Name: Mommy, <span style=\"font-weight: bold\">Time: 11:55</span>     │\n",
       "│ Name: Mommy, <span style=\"font-weight: bold\">Time: 11:51</span>     │\n",
       "│ Name: Kuya Gen, <span style=\"font-weight: bold\">Time: 12:05</span>  │\n",
       "│ Name: Ate trixy, <span style=\"font-weight: bold\">Time: 10:34</span> │\n",
       "│ Name: Ate trixy, <span style=\"font-weight: bold\">Time: 09:17</span> │\n",
       "│ Name: Ate trixy, <span style=\"font-weight: bold\">Time: 10:34</span> │\n",
       "│ Name: Ate trixy, <span style=\"font-weight: bold\">Time: 10:34</span> │\n",
       "│ Name: Kuya Gen, <span style=\"font-weight: bold\">Time: 21:40</span>  │\n",
       "│ Name: Mommy, <span style=\"font-weight: bold\">Time: 21:43</span>     │\n",
       "└──────────────────────────────┘\n",
       "</pre>\n"
      ],
      "text/plain": [
       "┌──────────────────────────────┐\n",
       "│ Name: Kuya Gen, \u001b[1mTime: 12:04\u001b[0m  │\n",
       "│ Name: Mommy, \u001b[1mTime: 11:55\u001b[0m     │\n",
       "│ Name: Mommy, \u001b[1mTime: 11:51\u001b[0m     │\n",
       "│ Name: Kuya Gen, \u001b[1mTime: 12:05\u001b[0m  │\n",
       "│ Name: Ate trixy, \u001b[1mTime: 10:34\u001b[0m │\n",
       "│ Name: Ate trixy, \u001b[1mTime: 09:17\u001b[0m │\n",
       "│ Name: Ate trixy, \u001b[1mTime: 10:34\u001b[0m │\n",
       "│ Name: Ate trixy, \u001b[1mTime: 10:34\u001b[0m │\n",
       "│ Name: Kuya Gen, \u001b[1mTime: 21:40\u001b[0m  │\n",
       "│ Name: Mommy, \u001b[1mTime: 21:43\u001b[0m     │\n",
       "└──────────────────────────────┘\n"
      ]
     },
     "metadata": {},
     "output_type": "display_data"
    },
    {
     "data": {
      "text/html": [
       "<pre style=\"white-space:pre;overflow-x:auto;line-height:normal;font-family:Menlo,'DejaVu Sans Mono',consolas,'Courier New',monospace\">┌──────────────────────────────┐\n",
       "│ Name: Kuya Gen, <span style=\"font-weight: bold\">Time: 12:04</span>  │\n",
       "│ Name: Mommy, <span style=\"font-weight: bold\">Time: 11:55</span>     │\n",
       "│ Name: Mommy, <span style=\"font-weight: bold\">Time: 11:51</span>     │\n",
       "│ Name: Ate trixy, <span style=\"font-weight: bold\">Time: 10:34</span> │\n",
       "│ Name: Kuya Gen, <span style=\"font-weight: bold\">Time: 12:04</span>  │\n",
       "│ Name: Ate trixy, <span style=\"font-weight: bold\">Time: 09:17</span> │\n",
       "│ Name: Ate trixy, <span style=\"font-weight: bold\">Time: 10:34</span> │\n",
       "│ Name: Ate trixy, <span style=\"font-weight: bold\">Time: 10:34</span> │\n",
       "│ Name: Kuya Gen, <span style=\"font-weight: bold\">Time: 21:40</span>  │\n",
       "│ Name: Mommy, <span style=\"font-weight: bold\">Time: 21:43</span>     │\n",
       "└──────────────────────────────┘\n",
       "</pre>\n"
      ],
      "text/plain": [
       "┌──────────────────────────────┐\n",
       "│ Name: Kuya Gen, \u001b[1mTime: 12:04\u001b[0m  │\n",
       "│ Name: Mommy, \u001b[1mTime: 11:55\u001b[0m     │\n",
       "│ Name: Mommy, \u001b[1mTime: 11:51\u001b[0m     │\n",
       "│ Name: Ate trixy, \u001b[1mTime: 10:34\u001b[0m │\n",
       "│ Name: Kuya Gen, \u001b[1mTime: 12:04\u001b[0m  │\n",
       "│ Name: Ate trixy, \u001b[1mTime: 09:17\u001b[0m │\n",
       "│ Name: Ate trixy, \u001b[1mTime: 10:34\u001b[0m │\n",
       "│ Name: Ate trixy, \u001b[1mTime: 10:34\u001b[0m │\n",
       "│ Name: Kuya Gen, \u001b[1mTime: 21:40\u001b[0m  │\n",
       "│ Name: Mommy, \u001b[1mTime: 21:43\u001b[0m     │\n",
       "└──────────────────────────────┘\n"
      ]
     },
     "metadata": {},
     "output_type": "display_data"
    },
    {
     "data": {
      "text/html": [
       "<pre style=\"white-space:pre;overflow-x:auto;line-height:normal;font-family:Menlo,'DejaVu Sans Mono',consolas,'Courier New',monospace\">┌──────────────────────────────┐\n",
       "│ Name: Kuya Gen, <span style=\"font-weight: bold\">Time: 12:04</span>  │\n",
       "│ Name: Mommy, <span style=\"font-weight: bold\">Time: 11:55</span>     │\n",
       "│ Name: Mommy, <span style=\"font-weight: bold\">Time: 11:51</span>     │\n",
       "│ Name: Ate trixy, <span style=\"font-weight: bold\">Time: 10:34</span> │\n",
       "│ Name: Ate trixy, <span style=\"font-weight: bold\">Time: 09:17</span> │\n",
       "│ Name: Mommy, <span style=\"font-weight: bold\">Time: 11:55</span>     │\n",
       "│ Name: Ate trixy, <span style=\"font-weight: bold\">Time: 10:34</span> │\n",
       "│ Name: Ate trixy, <span style=\"font-weight: bold\">Time: 10:34</span> │\n",
       "│ Name: Kuya Gen, <span style=\"font-weight: bold\">Time: 21:40</span>  │\n",
       "│ Name: Mommy, <span style=\"font-weight: bold\">Time: 21:43</span>     │\n",
       "└──────────────────────────────┘\n",
       "</pre>\n"
      ],
      "text/plain": [
       "┌──────────────────────────────┐\n",
       "│ Name: Kuya Gen, \u001b[1mTime: 12:04\u001b[0m  │\n",
       "│ Name: Mommy, \u001b[1mTime: 11:55\u001b[0m     │\n",
       "│ Name: Mommy, \u001b[1mTime: 11:51\u001b[0m     │\n",
       "│ Name: Ate trixy, \u001b[1mTime: 10:34\u001b[0m │\n",
       "│ Name: Ate trixy, \u001b[1mTime: 09:17\u001b[0m │\n",
       "│ Name: Mommy, \u001b[1mTime: 11:55\u001b[0m     │\n",
       "│ Name: Ate trixy, \u001b[1mTime: 10:34\u001b[0m │\n",
       "│ Name: Ate trixy, \u001b[1mTime: 10:34\u001b[0m │\n",
       "│ Name: Kuya Gen, \u001b[1mTime: 21:40\u001b[0m  │\n",
       "│ Name: Mommy, \u001b[1mTime: 21:43\u001b[0m     │\n",
       "└──────────────────────────────┘\n"
      ]
     },
     "metadata": {},
     "output_type": "display_data"
    },
    {
     "data": {
      "text/html": [
       "<pre style=\"white-space:pre;overflow-x:auto;line-height:normal;font-family:Menlo,'DejaVu Sans Mono',consolas,'Courier New',monospace\">┌──────────────────────────────┐\n",
       "│ Name: Kuya Gen, <span style=\"font-weight: bold\">Time: 12:04</span>  │\n",
       "│ Name: Mommy, <span style=\"font-weight: bold\">Time: 11:55</span>     │\n",
       "│ Name: Mommy, <span style=\"font-weight: bold\">Time: 11:51</span>     │\n",
       "│ Name: Ate trixy, <span style=\"font-weight: bold\">Time: 10:34</span> │\n",
       "│ Name: Ate trixy, <span style=\"font-weight: bold\">Time: 09:17</span> │\n",
       "│ Name: Ate trixy, <span style=\"font-weight: bold\">Time: 10:34</span> │\n",
       "│ Name: Mommy, <span style=\"font-weight: bold\">Time: 11:51</span>     │\n",
       "│ Name: Ate trixy, <span style=\"font-weight: bold\">Time: 10:34</span> │\n",
       "│ Name: Kuya Gen, <span style=\"font-weight: bold\">Time: 21:40</span>  │\n",
       "│ Name: Mommy, <span style=\"font-weight: bold\">Time: 21:43</span>     │\n",
       "└──────────────────────────────┘\n",
       "</pre>\n"
      ],
      "text/plain": [
       "┌──────────────────────────────┐\n",
       "│ Name: Kuya Gen, \u001b[1mTime: 12:04\u001b[0m  │\n",
       "│ Name: Mommy, \u001b[1mTime: 11:55\u001b[0m     │\n",
       "│ Name: Mommy, \u001b[1mTime: 11:51\u001b[0m     │\n",
       "│ Name: Ate trixy, \u001b[1mTime: 10:34\u001b[0m │\n",
       "│ Name: Ate trixy, \u001b[1mTime: 09:17\u001b[0m │\n",
       "│ Name: Ate trixy, \u001b[1mTime: 10:34\u001b[0m │\n",
       "│ Name: Mommy, \u001b[1mTime: 11:51\u001b[0m     │\n",
       "│ Name: Ate trixy, \u001b[1mTime: 10:34\u001b[0m │\n",
       "│ Name: Kuya Gen, \u001b[1mTime: 21:40\u001b[0m  │\n",
       "│ Name: Mommy, \u001b[1mTime: 21:43\u001b[0m     │\n",
       "└──────────────────────────────┘\n"
      ]
     },
     "metadata": {},
     "output_type": "display_data"
    },
    {
     "data": {
      "text/html": [
       "<pre style=\"white-space:pre;overflow-x:auto;line-height:normal;font-family:Menlo,'DejaVu Sans Mono',consolas,'Courier New',monospace\">┌──────────────────────────────┐\n",
       "│ Name: Kuya Gen, <span style=\"font-weight: bold\">Time: 12:04</span>  │\n",
       "│ Name: Mommy, <span style=\"font-weight: bold\">Time: 11:55</span>     │\n",
       "│ Name: Mommy, <span style=\"font-weight: bold\">Time: 11:51</span>     │\n",
       "│ Name: Ate trixy, <span style=\"font-weight: bold\">Time: 10:34</span> │\n",
       "│ Name: Ate trixy, <span style=\"font-weight: bold\">Time: 09:17</span> │\n",
       "│ Name: Ate trixy, <span style=\"font-weight: bold\">Time: 10:34</span> │\n",
       "│ Name: Ate trixy, <span style=\"font-weight: bold\">Time: 10:34</span> │\n",
       "│ Name: Ate trixy, <span style=\"font-weight: bold\">Time: 10:34</span> │\n",
       "│ Name: Kuya Gen, <span style=\"font-weight: bold\">Time: 21:40</span>  │\n",
       "│ Name: Mommy, <span style=\"font-weight: bold\">Time: 21:43</span>     │\n",
       "└──────────────────────────────┘\n",
       "</pre>\n"
      ],
      "text/plain": [
       "┌──────────────────────────────┐\n",
       "│ Name: Kuya Gen, \u001b[1mTime: 12:04\u001b[0m  │\n",
       "│ Name: Mommy, \u001b[1mTime: 11:55\u001b[0m     │\n",
       "│ Name: Mommy, \u001b[1mTime: 11:51\u001b[0m     │\n",
       "│ Name: Ate trixy, \u001b[1mTime: 10:34\u001b[0m │\n",
       "│ Name: Ate trixy, \u001b[1mTime: 09:17\u001b[0m │\n",
       "│ Name: Ate trixy, \u001b[1mTime: 10:34\u001b[0m │\n",
       "│ Name: Ate trixy, \u001b[1mTime: 10:34\u001b[0m │\n",
       "│ Name: Ate trixy, \u001b[1mTime: 10:34\u001b[0m │\n",
       "│ Name: Kuya Gen, \u001b[1mTime: 21:40\u001b[0m  │\n",
       "│ Name: Mommy, \u001b[1mTime: 21:43\u001b[0m     │\n",
       "└──────────────────────────────┘\n"
      ]
     },
     "metadata": {},
     "output_type": "display_data"
    },
    {
     "data": {
      "text/html": [
       "<pre style=\"white-space:pre;overflow-x:auto;line-height:normal;font-family:Menlo,'DejaVu Sans Mono',consolas,'Courier New',monospace\">┌──────────────────────────────┐\n",
       "│ Name: Mommy, <span style=\"font-weight: bold\">Time: 11:55</span>     │\n",
       "│ Name: Johnlee, <span style=\"font-weight: bold\">Time: 20:01</span>   │\n",
       "│ Name: Mommy, <span style=\"font-weight: bold\">Time: 11:51</span>     │\n",
       "│ Name: Ate trixy, <span style=\"font-weight: bold\">Time: 10:34</span> │\n",
       "│ Name: Ate trixy, <span style=\"font-weight: bold\">Time: 09:17</span> │\n",
       "│ Name: Ate trixy, <span style=\"font-weight: bold\">Time: 10:34</span> │\n",
       "│ Name: Ate trixy, <span style=\"font-weight: bold\">Time: 10:34</span> │\n",
       "│ Name: Ate trixy, <span style=\"font-weight: bold\">Time: 10:34</span> │\n",
       "│ Name: Kuya Gen, <span style=\"font-weight: bold\">Time: 21:40</span>  │\n",
       "│ Name: Mommy, <span style=\"font-weight: bold\">Time: 21:43</span>     │\n",
       "└──────────────────────────────┘\n",
       "</pre>\n"
      ],
      "text/plain": [
       "┌──────────────────────────────┐\n",
       "│ Name: Mommy, \u001b[1mTime: 11:55\u001b[0m     │\n",
       "│ Name: Johnlee, \u001b[1mTime: 20:01\u001b[0m   │\n",
       "│ Name: Mommy, \u001b[1mTime: 11:51\u001b[0m     │\n",
       "│ Name: Ate trixy, \u001b[1mTime: 10:34\u001b[0m │\n",
       "│ Name: Ate trixy, \u001b[1mTime: 09:17\u001b[0m │\n",
       "│ Name: Ate trixy, \u001b[1mTime: 10:34\u001b[0m │\n",
       "│ Name: Ate trixy, \u001b[1mTime: 10:34\u001b[0m │\n",
       "│ Name: Ate trixy, \u001b[1mTime: 10:34\u001b[0m │\n",
       "│ Name: Kuya Gen, \u001b[1mTime: 21:40\u001b[0m  │\n",
       "│ Name: Mommy, \u001b[1mTime: 21:43\u001b[0m     │\n",
       "└──────────────────────────────┘\n"
      ]
     },
     "metadata": {},
     "output_type": "display_data"
    },
    {
     "data": {
      "text/html": [
       "<pre style=\"white-space:pre;overflow-x:auto;line-height:normal;font-family:Menlo,'DejaVu Sans Mono',consolas,'Courier New',monospace\">┌──────────────────────────────┐\n",
       "│ Name: Mommy, <span style=\"font-weight: bold\">Time: 11:55</span>     │\n",
       "│ Name: Mommy, <span style=\"font-weight: bold\">Time: 11:51</span>     │\n",
       "│ Name: Kuya Gen, <span style=\"font-weight: bold\">Time: 12:06</span>  │\n",
       "│ Name: Ate trixy, <span style=\"font-weight: bold\">Time: 10:34</span> │\n",
       "│ Name: Ate trixy, <span style=\"font-weight: bold\">Time: 09:17</span> │\n",
       "│ Name: Ate trixy, <span style=\"font-weight: bold\">Time: 10:34</span> │\n",
       "│ Name: Ate trixy, <span style=\"font-weight: bold\">Time: 10:34</span> │\n",
       "│ Name: Ate trixy, <span style=\"font-weight: bold\">Time: 10:34</span> │\n",
       "│ Name: Kuya Gen, <span style=\"font-weight: bold\">Time: 21:40</span>  │\n",
       "│ Name: Mommy, <span style=\"font-weight: bold\">Time: 21:43</span>     │\n",
       "└──────────────────────────────┘\n",
       "</pre>\n"
      ],
      "text/plain": [
       "┌──────────────────────────────┐\n",
       "│ Name: Mommy, \u001b[1mTime: 11:55\u001b[0m     │\n",
       "│ Name: Mommy, \u001b[1mTime: 11:51\u001b[0m     │\n",
       "│ Name: Kuya Gen, \u001b[1mTime: 12:06\u001b[0m  │\n",
       "│ Name: Ate trixy, \u001b[1mTime: 10:34\u001b[0m │\n",
       "│ Name: Ate trixy, \u001b[1mTime: 09:17\u001b[0m │\n",
       "│ Name: Ate trixy, \u001b[1mTime: 10:34\u001b[0m │\n",
       "│ Name: Ate trixy, \u001b[1mTime: 10:34\u001b[0m │\n",
       "│ Name: Ate trixy, \u001b[1mTime: 10:34\u001b[0m │\n",
       "│ Name: Kuya Gen, \u001b[1mTime: 21:40\u001b[0m  │\n",
       "│ Name: Mommy, \u001b[1mTime: 21:43\u001b[0m     │\n",
       "└──────────────────────────────┘\n"
      ]
     },
     "metadata": {},
     "output_type": "display_data"
    },
    {
     "data": {
      "text/html": [
       "<pre style=\"white-space:pre;overflow-x:auto;line-height:normal;font-family:Menlo,'DejaVu Sans Mono',consolas,'Courier New',monospace\">┌──────────────────────────────┐\n",
       "│ Name: Mommy, <span style=\"font-weight: bold\">Time: 11:55</span>     │\n",
       "│ Name: Mommy, <span style=\"font-weight: bold\">Time: 11:51</span>     │\n",
       "│ Name: Ate trixy, <span style=\"font-weight: bold\">Time: 10:34</span> │\n",
       "│ Name: Kuya Gen, <span style=\"font-weight: bold\">Time: 12:05</span>  │\n",
       "│ Name: Ate trixy, <span style=\"font-weight: bold\">Time: 09:17</span> │\n",
       "│ Name: Ate trixy, <span style=\"font-weight: bold\">Time: 10:34</span> │\n",
       "│ Name: Ate trixy, <span style=\"font-weight: bold\">Time: 10:34</span> │\n",
       "│ Name: Ate trixy, <span style=\"font-weight: bold\">Time: 10:34</span> │\n",
       "│ Name: Kuya Gen, <span style=\"font-weight: bold\">Time: 21:40</span>  │\n",
       "│ Name: Mommy, <span style=\"font-weight: bold\">Time: 21:43</span>     │\n",
       "└──────────────────────────────┘\n",
       "</pre>\n"
      ],
      "text/plain": [
       "┌──────────────────────────────┐\n",
       "│ Name: Mommy, \u001b[1mTime: 11:55\u001b[0m     │\n",
       "│ Name: Mommy, \u001b[1mTime: 11:51\u001b[0m     │\n",
       "│ Name: Ate trixy, \u001b[1mTime: 10:34\u001b[0m │\n",
       "│ Name: Kuya Gen, \u001b[1mTime: 12:05\u001b[0m  │\n",
       "│ Name: Ate trixy, \u001b[1mTime: 09:17\u001b[0m │\n",
       "│ Name: Ate trixy, \u001b[1mTime: 10:34\u001b[0m │\n",
       "│ Name: Ate trixy, \u001b[1mTime: 10:34\u001b[0m │\n",
       "│ Name: Ate trixy, \u001b[1mTime: 10:34\u001b[0m │\n",
       "│ Name: Kuya Gen, \u001b[1mTime: 21:40\u001b[0m  │\n",
       "│ Name: Mommy, \u001b[1mTime: 21:43\u001b[0m     │\n",
       "└──────────────────────────────┘\n"
      ]
     },
     "metadata": {},
     "output_type": "display_data"
    },
    {
     "data": {
      "text/html": [
       "<pre style=\"white-space:pre;overflow-x:auto;line-height:normal;font-family:Menlo,'DejaVu Sans Mono',consolas,'Courier New',monospace\">┌──────────────────────────────┐\n",
       "│ Name: Mommy, <span style=\"font-weight: bold\">Time: 11:55</span>     │\n",
       "│ Name: Mommy, <span style=\"font-weight: bold\">Time: 11:51</span>     │\n",
       "│ Name: Ate trixy, <span style=\"font-weight: bold\">Time: 10:34</span> │\n",
       "│ Name: Ate trixy, <span style=\"font-weight: bold\">Time: 09:17</span> │\n",
       "│ Name: Kuya Gen, <span style=\"font-weight: bold\">Time: 12:04</span>  │\n",
       "│ Name: Ate trixy, <span style=\"font-weight: bold\">Time: 10:34</span> │\n",
       "│ Name: Ate trixy, <span style=\"font-weight: bold\">Time: 10:34</span> │\n",
       "│ Name: Ate trixy, <span style=\"font-weight: bold\">Time: 10:34</span> │\n",
       "│ Name: Kuya Gen, <span style=\"font-weight: bold\">Time: 21:40</span>  │\n",
       "│ Name: Mommy, <span style=\"font-weight: bold\">Time: 21:43</span>     │\n",
       "└──────────────────────────────┘\n",
       "</pre>\n"
      ],
      "text/plain": [
       "┌──────────────────────────────┐\n",
       "│ Name: Mommy, \u001b[1mTime: 11:55\u001b[0m     │\n",
       "│ Name: Mommy, \u001b[1mTime: 11:51\u001b[0m     │\n",
       "│ Name: Ate trixy, \u001b[1mTime: 10:34\u001b[0m │\n",
       "│ Name: Ate trixy, \u001b[1mTime: 09:17\u001b[0m │\n",
       "│ Name: Kuya Gen, \u001b[1mTime: 12:04\u001b[0m  │\n",
       "│ Name: Ate trixy, \u001b[1mTime: 10:34\u001b[0m │\n",
       "│ Name: Ate trixy, \u001b[1mTime: 10:34\u001b[0m │\n",
       "│ Name: Ate trixy, \u001b[1mTime: 10:34\u001b[0m │\n",
       "│ Name: Kuya Gen, \u001b[1mTime: 21:40\u001b[0m  │\n",
       "│ Name: Mommy, \u001b[1mTime: 21:43\u001b[0m     │\n",
       "└──────────────────────────────┘\n"
      ]
     },
     "metadata": {},
     "output_type": "display_data"
    },
    {
     "data": {
      "text/html": [
       "<pre style=\"white-space:pre;overflow-x:auto;line-height:normal;font-family:Menlo,'DejaVu Sans Mono',consolas,'Courier New',monospace\">┌──────────────────────────────┐\n",
       "│ Name: Mommy, <span style=\"font-weight: bold\">Time: 11:55</span>     │\n",
       "│ Name: Mommy, <span style=\"font-weight: bold\">Time: 11:51</span>     │\n",
       "│ Name: Ate trixy, <span style=\"font-weight: bold\">Time: 10:34</span> │\n",
       "│ Name: Ate trixy, <span style=\"font-weight: bold\">Time: 09:17</span> │\n",
       "│ Name: Ate trixy, <span style=\"font-weight: bold\">Time: 10:34</span> │\n",
       "│ Name: Mommy, <span style=\"font-weight: bold\">Time: 11:55</span>     │\n",
       "│ Name: Ate trixy, <span style=\"font-weight: bold\">Time: 10:34</span> │\n",
       "│ Name: Ate trixy, <span style=\"font-weight: bold\">Time: 10:34</span> │\n",
       "│ Name: Kuya Gen, <span style=\"font-weight: bold\">Time: 21:40</span>  │\n",
       "│ Name: Mommy, <span style=\"font-weight: bold\">Time: 21:43</span>     │\n",
       "└──────────────────────────────┘\n",
       "</pre>\n"
      ],
      "text/plain": [
       "┌──────────────────────────────┐\n",
       "│ Name: Mommy, \u001b[1mTime: 11:55\u001b[0m     │\n",
       "│ Name: Mommy, \u001b[1mTime: 11:51\u001b[0m     │\n",
       "│ Name: Ate trixy, \u001b[1mTime: 10:34\u001b[0m │\n",
       "│ Name: Ate trixy, \u001b[1mTime: 09:17\u001b[0m │\n",
       "│ Name: Ate trixy, \u001b[1mTime: 10:34\u001b[0m │\n",
       "│ Name: Mommy, \u001b[1mTime: 11:55\u001b[0m     │\n",
       "│ Name: Ate trixy, \u001b[1mTime: 10:34\u001b[0m │\n",
       "│ Name: Ate trixy, \u001b[1mTime: 10:34\u001b[0m │\n",
       "│ Name: Kuya Gen, \u001b[1mTime: 21:40\u001b[0m  │\n",
       "│ Name: Mommy, \u001b[1mTime: 21:43\u001b[0m     │\n",
       "└──────────────────────────────┘\n"
      ]
     },
     "metadata": {},
     "output_type": "display_data"
    },
    {
     "data": {
      "text/html": [
       "<pre style=\"white-space:pre;overflow-x:auto;line-height:normal;font-family:Menlo,'DejaVu Sans Mono',consolas,'Courier New',monospace\">┌──────────────────────────────┐\n",
       "│ Name: Mommy, <span style=\"font-weight: bold\">Time: 11:55</span>     │\n",
       "│ Name: Mommy, <span style=\"font-weight: bold\">Time: 11:51</span>     │\n",
       "│ Name: Ate trixy, <span style=\"font-weight: bold\">Time: 10:34</span> │\n",
       "│ Name: Ate trixy, <span style=\"font-weight: bold\">Time: 09:17</span> │\n",
       "│ Name: Ate trixy, <span style=\"font-weight: bold\">Time: 10:34</span> │\n",
       "│ Name: Ate trixy, <span style=\"font-weight: bold\">Time: 10:34</span> │\n",
       "│ Name: Mommy, <span style=\"font-weight: bold\">Time: 11:51</span>     │\n",
       "│ Name: Ate trixy, <span style=\"font-weight: bold\">Time: 10:34</span> │\n",
       "│ Name: Kuya Gen, <span style=\"font-weight: bold\">Time: 21:40</span>  │\n",
       "│ Name: Mommy, <span style=\"font-weight: bold\">Time: 21:43</span>     │\n",
       "└──────────────────────────────┘\n",
       "</pre>\n"
      ],
      "text/plain": [
       "┌──────────────────────────────┐\n",
       "│ Name: Mommy, \u001b[1mTime: 11:55\u001b[0m     │\n",
       "│ Name: Mommy, \u001b[1mTime: 11:51\u001b[0m     │\n",
       "│ Name: Ate trixy, \u001b[1mTime: 10:34\u001b[0m │\n",
       "│ Name: Ate trixy, \u001b[1mTime: 09:17\u001b[0m │\n",
       "│ Name: Ate trixy, \u001b[1mTime: 10:34\u001b[0m │\n",
       "│ Name: Ate trixy, \u001b[1mTime: 10:34\u001b[0m │\n",
       "│ Name: Mommy, \u001b[1mTime: 11:51\u001b[0m     │\n",
       "│ Name: Ate trixy, \u001b[1mTime: 10:34\u001b[0m │\n",
       "│ Name: Kuya Gen, \u001b[1mTime: 21:40\u001b[0m  │\n",
       "│ Name: Mommy, \u001b[1mTime: 21:43\u001b[0m     │\n",
       "└──────────────────────────────┘\n"
      ]
     },
     "metadata": {},
     "output_type": "display_data"
    },
    {
     "data": {
      "text/html": [
       "<pre style=\"white-space:pre;overflow-x:auto;line-height:normal;font-family:Menlo,'DejaVu Sans Mono',consolas,'Courier New',monospace\">┌──────────────────────────────┐\n",
       "│ Name: Mommy, <span style=\"font-weight: bold\">Time: 11:51</span>     │\n",
       "│ Name: Johnlee, <span style=\"font-weight: bold\">Time: 20:01</span>   │\n",
       "│ Name: Ate trixy, <span style=\"font-weight: bold\">Time: 10:34</span> │\n",
       "│ Name: Ate trixy, <span style=\"font-weight: bold\">Time: 09:17</span> │\n",
       "│ Name: Ate trixy, <span style=\"font-weight: bold\">Time: 10:34</span> │\n",
       "│ Name: Ate trixy, <span style=\"font-weight: bold\">Time: 10:34</span> │\n",
       "│ Name: Mommy, <span style=\"font-weight: bold\">Time: 11:51</span>     │\n",
       "│ Name: Ate trixy, <span style=\"font-weight: bold\">Time: 10:34</span> │\n",
       "│ Name: Kuya Gen, <span style=\"font-weight: bold\">Time: 21:40</span>  │\n",
       "│ Name: Mommy, <span style=\"font-weight: bold\">Time: 21:43</span>     │\n",
       "└──────────────────────────────┘\n",
       "</pre>\n"
      ],
      "text/plain": [
       "┌──────────────────────────────┐\n",
       "│ Name: Mommy, \u001b[1mTime: 11:51\u001b[0m     │\n",
       "│ Name: Johnlee, \u001b[1mTime: 20:01\u001b[0m   │\n",
       "│ Name: Ate trixy, \u001b[1mTime: 10:34\u001b[0m │\n",
       "│ Name: Ate trixy, \u001b[1mTime: 09:17\u001b[0m │\n",
       "│ Name: Ate trixy, \u001b[1mTime: 10:34\u001b[0m │\n",
       "│ Name: Ate trixy, \u001b[1mTime: 10:34\u001b[0m │\n",
       "│ Name: Mommy, \u001b[1mTime: 11:51\u001b[0m     │\n",
       "│ Name: Ate trixy, \u001b[1mTime: 10:34\u001b[0m │\n",
       "│ Name: Kuya Gen, \u001b[1mTime: 21:40\u001b[0m  │\n",
       "│ Name: Mommy, \u001b[1mTime: 21:43\u001b[0m     │\n",
       "└──────────────────────────────┘\n"
      ]
     },
     "metadata": {},
     "output_type": "display_data"
    },
    {
     "data": {
      "text/html": [
       "<pre style=\"white-space:pre;overflow-x:auto;line-height:normal;font-family:Menlo,'DejaVu Sans Mono',consolas,'Courier New',monospace\">┌──────────────────────────────┐\n",
       "│ Name: Mommy, <span style=\"font-weight: bold\">Time: 11:51</span>     │\n",
       "│ Name: Ate trixy, <span style=\"font-weight: bold\">Time: 10:34</span> │\n",
       "│ Name: Kuya Gen, <span style=\"font-weight: bold\">Time: 12:06</span>  │\n",
       "│ Name: Ate trixy, <span style=\"font-weight: bold\">Time: 09:17</span> │\n",
       "│ Name: Ate trixy, <span style=\"font-weight: bold\">Time: 10:34</span> │\n",
       "│ Name: Ate trixy, <span style=\"font-weight: bold\">Time: 10:34</span> │\n",
       "│ Name: Mommy, <span style=\"font-weight: bold\">Time: 11:51</span>     │\n",
       "│ Name: Ate trixy, <span style=\"font-weight: bold\">Time: 10:34</span> │\n",
       "│ Name: Kuya Gen, <span style=\"font-weight: bold\">Time: 21:40</span>  │\n",
       "│ Name: Mommy, <span style=\"font-weight: bold\">Time: 21:43</span>     │\n",
       "└──────────────────────────────┘\n",
       "</pre>\n"
      ],
      "text/plain": [
       "┌──────────────────────────────┐\n",
       "│ Name: Mommy, \u001b[1mTime: 11:51\u001b[0m     │\n",
       "│ Name: Ate trixy, \u001b[1mTime: 10:34\u001b[0m │\n",
       "│ Name: Kuya Gen, \u001b[1mTime: 12:06\u001b[0m  │\n",
       "│ Name: Ate trixy, \u001b[1mTime: 09:17\u001b[0m │\n",
       "│ Name: Ate trixy, \u001b[1mTime: 10:34\u001b[0m │\n",
       "│ Name: Ate trixy, \u001b[1mTime: 10:34\u001b[0m │\n",
       "│ Name: Mommy, \u001b[1mTime: 11:51\u001b[0m     │\n",
       "│ Name: Ate trixy, \u001b[1mTime: 10:34\u001b[0m │\n",
       "│ Name: Kuya Gen, \u001b[1mTime: 21:40\u001b[0m  │\n",
       "│ Name: Mommy, \u001b[1mTime: 21:43\u001b[0m     │\n",
       "└──────────────────────────────┘\n"
      ]
     },
     "metadata": {},
     "output_type": "display_data"
    },
    {
     "data": {
      "text/html": [
       "<pre style=\"white-space:pre;overflow-x:auto;line-height:normal;font-family:Menlo,'DejaVu Sans Mono',consolas,'Courier New',monospace\">┌──────────────────────────────┐\n",
       "│ Name: Mommy, <span style=\"font-weight: bold\">Time: 11:51</span>     │\n",
       "│ Name: Ate trixy, <span style=\"font-weight: bold\">Time: 10:34</span> │\n",
       "│ Name: Ate trixy, <span style=\"font-weight: bold\">Time: 09:17</span> │\n",
       "│ Name: Kuya Gen, <span style=\"font-weight: bold\">Time: 12:05</span>  │\n",
       "│ Name: Ate trixy, <span style=\"font-weight: bold\">Time: 10:34</span> │\n",
       "│ Name: Ate trixy, <span style=\"font-weight: bold\">Time: 10:34</span> │\n",
       "│ Name: Mommy, <span style=\"font-weight: bold\">Time: 11:51</span>     │\n",
       "│ Name: Ate trixy, <span style=\"font-weight: bold\">Time: 10:34</span> │\n",
       "│ Name: Kuya Gen, <span style=\"font-weight: bold\">Time: 21:40</span>  │\n",
       "│ Name: Mommy, <span style=\"font-weight: bold\">Time: 21:43</span>     │\n",
       "└──────────────────────────────┘\n",
       "</pre>\n"
      ],
      "text/plain": [
       "┌──────────────────────────────┐\n",
       "│ Name: Mommy, \u001b[1mTime: 11:51\u001b[0m     │\n",
       "│ Name: Ate trixy, \u001b[1mTime: 10:34\u001b[0m │\n",
       "│ Name: Ate trixy, \u001b[1mTime: 09:17\u001b[0m │\n",
       "│ Name: Kuya Gen, \u001b[1mTime: 12:05\u001b[0m  │\n",
       "│ Name: Ate trixy, \u001b[1mTime: 10:34\u001b[0m │\n",
       "│ Name: Ate trixy, \u001b[1mTime: 10:34\u001b[0m │\n",
       "│ Name: Mommy, \u001b[1mTime: 11:51\u001b[0m     │\n",
       "│ Name: Ate trixy, \u001b[1mTime: 10:34\u001b[0m │\n",
       "│ Name: Kuya Gen, \u001b[1mTime: 21:40\u001b[0m  │\n",
       "│ Name: Mommy, \u001b[1mTime: 21:43\u001b[0m     │\n",
       "└──────────────────────────────┘\n"
      ]
     },
     "metadata": {},
     "output_type": "display_data"
    },
    {
     "data": {
      "text/html": [
       "<pre style=\"white-space:pre;overflow-x:auto;line-height:normal;font-family:Menlo,'DejaVu Sans Mono',consolas,'Courier New',monospace\">┌──────────────────────────────┐\n",
       "│ Name: Mommy, <span style=\"font-weight: bold\">Time: 11:51</span>     │\n",
       "│ Name: Ate trixy, <span style=\"font-weight: bold\">Time: 10:34</span> │\n",
       "│ Name: Ate trixy, <span style=\"font-weight: bold\">Time: 09:17</span> │\n",
       "│ Name: Ate trixy, <span style=\"font-weight: bold\">Time: 10:34</span> │\n",
       "│ Name: Kuya Gen, <span style=\"font-weight: bold\">Time: 12:04</span>  │\n",
       "│ Name: Ate trixy, <span style=\"font-weight: bold\">Time: 10:34</span> │\n",
       "│ Name: Mommy, <span style=\"font-weight: bold\">Time: 11:51</span>     │\n",
       "│ Name: Ate trixy, <span style=\"font-weight: bold\">Time: 10:34</span> │\n",
       "│ Name: Kuya Gen, <span style=\"font-weight: bold\">Time: 21:40</span>  │\n",
       "│ Name: Mommy, <span style=\"font-weight: bold\">Time: 21:43</span>     │\n",
       "└──────────────────────────────┘\n",
       "</pre>\n"
      ],
      "text/plain": [
       "┌──────────────────────────────┐\n",
       "│ Name: Mommy, \u001b[1mTime: 11:51\u001b[0m     │\n",
       "│ Name: Ate trixy, \u001b[1mTime: 10:34\u001b[0m │\n",
       "│ Name: Ate trixy, \u001b[1mTime: 09:17\u001b[0m │\n",
       "│ Name: Ate trixy, \u001b[1mTime: 10:34\u001b[0m │\n",
       "│ Name: Kuya Gen, \u001b[1mTime: 12:04\u001b[0m  │\n",
       "│ Name: Ate trixy, \u001b[1mTime: 10:34\u001b[0m │\n",
       "│ Name: Mommy, \u001b[1mTime: 11:51\u001b[0m     │\n",
       "│ Name: Ate trixy, \u001b[1mTime: 10:34\u001b[0m │\n",
       "│ Name: Kuya Gen, \u001b[1mTime: 21:40\u001b[0m  │\n",
       "│ Name: Mommy, \u001b[1mTime: 21:43\u001b[0m     │\n",
       "└──────────────────────────────┘\n"
      ]
     },
     "metadata": {},
     "output_type": "display_data"
    },
    {
     "data": {
      "text/html": [
       "<pre style=\"white-space:pre;overflow-x:auto;line-height:normal;font-family:Menlo,'DejaVu Sans Mono',consolas,'Courier New',monospace\">┌──────────────────────────────┐\n",
       "│ Name: Mommy, <span style=\"font-weight: bold\">Time: 11:51</span>     │\n",
       "│ Name: Ate trixy, <span style=\"font-weight: bold\">Time: 10:34</span> │\n",
       "│ Name: Ate trixy, <span style=\"font-weight: bold\">Time: 09:17</span> │\n",
       "│ Name: Ate trixy, <span style=\"font-weight: bold\">Time: 10:34</span> │\n",
       "│ Name: Ate trixy, <span style=\"font-weight: bold\">Time: 10:34</span> │\n",
       "│ Name: Mommy, <span style=\"font-weight: bold\">Time: 11:55</span>     │\n",
       "│ Name: Mommy, <span style=\"font-weight: bold\">Time: 11:51</span>     │\n",
       "│ Name: Ate trixy, <span style=\"font-weight: bold\">Time: 10:34</span> │\n",
       "│ Name: Kuya Gen, <span style=\"font-weight: bold\">Time: 21:40</span>  │\n",
       "│ Name: Mommy, <span style=\"font-weight: bold\">Time: 21:43</span>     │\n",
       "└──────────────────────────────┘\n",
       "</pre>\n"
      ],
      "text/plain": [
       "┌──────────────────────────────┐\n",
       "│ Name: Mommy, \u001b[1mTime: 11:51\u001b[0m     │\n",
       "│ Name: Ate trixy, \u001b[1mTime: 10:34\u001b[0m │\n",
       "│ Name: Ate trixy, \u001b[1mTime: 09:17\u001b[0m │\n",
       "│ Name: Ate trixy, \u001b[1mTime: 10:34\u001b[0m │\n",
       "│ Name: Ate trixy, \u001b[1mTime: 10:34\u001b[0m │\n",
       "│ Name: Mommy, \u001b[1mTime: 11:55\u001b[0m     │\n",
       "│ Name: Mommy, \u001b[1mTime: 11:51\u001b[0m     │\n",
       "│ Name: Ate trixy, \u001b[1mTime: 10:34\u001b[0m │\n",
       "│ Name: Kuya Gen, \u001b[1mTime: 21:40\u001b[0m  │\n",
       "│ Name: Mommy, \u001b[1mTime: 21:43\u001b[0m     │\n",
       "└──────────────────────────────┘\n"
      ]
     },
     "metadata": {},
     "output_type": "display_data"
    },
    {
     "data": {
      "text/html": [
       "<pre style=\"white-space:pre;overflow-x:auto;line-height:normal;font-family:Menlo,'DejaVu Sans Mono',consolas,'Courier New',monospace\">┌──────────────────────────────┐\n",
       "│ Name: Ate trixy, <span style=\"font-weight: bold\">Time: 10:34</span> │\n",
       "│ Name: Johnlee, <span style=\"font-weight: bold\">Time: 20:01</span>   │\n",
       "│ Name: Ate trixy, <span style=\"font-weight: bold\">Time: 09:17</span> │\n",
       "│ Name: Ate trixy, <span style=\"font-weight: bold\">Time: 10:34</span> │\n",
       "│ Name: Ate trixy, <span style=\"font-weight: bold\">Time: 10:34</span> │\n",
       "│ Name: Mommy, <span style=\"font-weight: bold\">Time: 11:55</span>     │\n",
       "│ Name: Mommy, <span style=\"font-weight: bold\">Time: 11:51</span>     │\n",
       "│ Name: Ate trixy, <span style=\"font-weight: bold\">Time: 10:34</span> │\n",
       "│ Name: Kuya Gen, <span style=\"font-weight: bold\">Time: 21:40</span>  │\n",
       "│ Name: Mommy, <span style=\"font-weight: bold\">Time: 21:43</span>     │\n",
       "└──────────────────────────────┘\n",
       "</pre>\n"
      ],
      "text/plain": [
       "┌──────────────────────────────┐\n",
       "│ Name: Ate trixy, \u001b[1mTime: 10:34\u001b[0m │\n",
       "│ Name: Johnlee, \u001b[1mTime: 20:01\u001b[0m   │\n",
       "│ Name: Ate trixy, \u001b[1mTime: 09:17\u001b[0m │\n",
       "│ Name: Ate trixy, \u001b[1mTime: 10:34\u001b[0m │\n",
       "│ Name: Ate trixy, \u001b[1mTime: 10:34\u001b[0m │\n",
       "│ Name: Mommy, \u001b[1mTime: 11:55\u001b[0m     │\n",
       "│ Name: Mommy, \u001b[1mTime: 11:51\u001b[0m     │\n",
       "│ Name: Ate trixy, \u001b[1mTime: 10:34\u001b[0m │\n",
       "│ Name: Kuya Gen, \u001b[1mTime: 21:40\u001b[0m  │\n",
       "│ Name: Mommy, \u001b[1mTime: 21:43\u001b[0m     │\n",
       "└──────────────────────────────┘\n"
      ]
     },
     "metadata": {},
     "output_type": "display_data"
    },
    {
     "data": {
      "text/html": [
       "<pre style=\"white-space:pre;overflow-x:auto;line-height:normal;font-family:Menlo,'DejaVu Sans Mono',consolas,'Courier New',monospace\">┌──────────────────────────────┐\n",
       "│ Name: Ate trixy, <span style=\"font-weight: bold\">Time: 10:34</span> │\n",
       "│ Name: Ate trixy, <span style=\"font-weight: bold\">Time: 09:17</span> │\n",
       "│ Name: Kuya Gen, <span style=\"font-weight: bold\">Time: 12:06</span>  │\n",
       "│ Name: Ate trixy, <span style=\"font-weight: bold\">Time: 10:34</span> │\n",
       "│ Name: Ate trixy, <span style=\"font-weight: bold\">Time: 10:34</span> │\n",
       "│ Name: Mommy, <span style=\"font-weight: bold\">Time: 11:55</span>     │\n",
       "│ Name: Mommy, <span style=\"font-weight: bold\">Time: 11:51</span>     │\n",
       "│ Name: Ate trixy, <span style=\"font-weight: bold\">Time: 10:34</span> │\n",
       "│ Name: Kuya Gen, <span style=\"font-weight: bold\">Time: 21:40</span>  │\n",
       "│ Name: Mommy, <span style=\"font-weight: bold\">Time: 21:43</span>     │\n",
       "└──────────────────────────────┘\n",
       "</pre>\n"
      ],
      "text/plain": [
       "┌──────────────────────────────┐\n",
       "│ Name: Ate trixy, \u001b[1mTime: 10:34\u001b[0m │\n",
       "│ Name: Ate trixy, \u001b[1mTime: 09:17\u001b[0m │\n",
       "│ Name: Kuya Gen, \u001b[1mTime: 12:06\u001b[0m  │\n",
       "│ Name: Ate trixy, \u001b[1mTime: 10:34\u001b[0m │\n",
       "│ Name: Ate trixy, \u001b[1mTime: 10:34\u001b[0m │\n",
       "│ Name: Mommy, \u001b[1mTime: 11:55\u001b[0m     │\n",
       "│ Name: Mommy, \u001b[1mTime: 11:51\u001b[0m     │\n",
       "│ Name: Ate trixy, \u001b[1mTime: 10:34\u001b[0m │\n",
       "│ Name: Kuya Gen, \u001b[1mTime: 21:40\u001b[0m  │\n",
       "│ Name: Mommy, \u001b[1mTime: 21:43\u001b[0m     │\n",
       "└──────────────────────────────┘\n"
      ]
     },
     "metadata": {},
     "output_type": "display_data"
    },
    {
     "data": {
      "text/html": [
       "<pre style=\"white-space:pre;overflow-x:auto;line-height:normal;font-family:Menlo,'DejaVu Sans Mono',consolas,'Courier New',monospace\">┌──────────────────────────────┐\n",
       "│ Name: Ate trixy, <span style=\"font-weight: bold\">Time: 10:34</span> │\n",
       "│ Name: Ate trixy, <span style=\"font-weight: bold\">Time: 09:17</span> │\n",
       "│ Name: Ate trixy, <span style=\"font-weight: bold\">Time: 10:34</span> │\n",
       "│ Name: Kuya Gen, <span style=\"font-weight: bold\">Time: 12:05</span>  │\n",
       "│ Name: Ate trixy, <span style=\"font-weight: bold\">Time: 10:34</span> │\n",
       "│ Name: Mommy, <span style=\"font-weight: bold\">Time: 11:55</span>     │\n",
       "│ Name: Mommy, <span style=\"font-weight: bold\">Time: 11:51</span>     │\n",
       "│ Name: Ate trixy, <span style=\"font-weight: bold\">Time: 10:34</span> │\n",
       "│ Name: Kuya Gen, <span style=\"font-weight: bold\">Time: 21:40</span>  │\n",
       "│ Name: Mommy, <span style=\"font-weight: bold\">Time: 21:43</span>     │\n",
       "└──────────────────────────────┘\n",
       "</pre>\n"
      ],
      "text/plain": [
       "┌──────────────────────────────┐\n",
       "│ Name: Ate trixy, \u001b[1mTime: 10:34\u001b[0m │\n",
       "│ Name: Ate trixy, \u001b[1mTime: 09:17\u001b[0m │\n",
       "│ Name: Ate trixy, \u001b[1mTime: 10:34\u001b[0m │\n",
       "│ Name: Kuya Gen, \u001b[1mTime: 12:05\u001b[0m  │\n",
       "│ Name: Ate trixy, \u001b[1mTime: 10:34\u001b[0m │\n",
       "│ Name: Mommy, \u001b[1mTime: 11:55\u001b[0m     │\n",
       "│ Name: Mommy, \u001b[1mTime: 11:51\u001b[0m     │\n",
       "│ Name: Ate trixy, \u001b[1mTime: 10:34\u001b[0m │\n",
       "│ Name: Kuya Gen, \u001b[1mTime: 21:40\u001b[0m  │\n",
       "│ Name: Mommy, \u001b[1mTime: 21:43\u001b[0m     │\n",
       "└──────────────────────────────┘\n"
      ]
     },
     "metadata": {},
     "output_type": "display_data"
    },
    {
     "data": {
      "text/html": [
       "<pre style=\"white-space:pre;overflow-x:auto;line-height:normal;font-family:Menlo,'DejaVu Sans Mono',consolas,'Courier New',monospace\">┌──────────────────────────────┐\n",
       "│ Name: Ate trixy, <span style=\"font-weight: bold\">Time: 10:34</span> │\n",
       "│ Name: Ate trixy, <span style=\"font-weight: bold\">Time: 09:17</span> │\n",
       "│ Name: Ate trixy, <span style=\"font-weight: bold\">Time: 10:34</span> │\n",
       "│ Name: Ate trixy, <span style=\"font-weight: bold\">Time: 10:34</span> │\n",
       "│ Name: Kuya Gen, <span style=\"font-weight: bold\">Time: 12:04</span>  │\n",
       "│ Name: Mommy, <span style=\"font-weight: bold\">Time: 11:55</span>     │\n",
       "│ Name: Mommy, <span style=\"font-weight: bold\">Time: 11:51</span>     │\n",
       "│ Name: Ate trixy, <span style=\"font-weight: bold\">Time: 10:34</span> │\n",
       "│ Name: Kuya Gen, <span style=\"font-weight: bold\">Time: 21:40</span>  │\n",
       "│ Name: Mommy, <span style=\"font-weight: bold\">Time: 21:43</span>     │\n",
       "└──────────────────────────────┘\n",
       "</pre>\n"
      ],
      "text/plain": [
       "┌──────────────────────────────┐\n",
       "│ Name: Ate trixy, \u001b[1mTime: 10:34\u001b[0m │\n",
       "│ Name: Ate trixy, \u001b[1mTime: 09:17\u001b[0m │\n",
       "│ Name: Ate trixy, \u001b[1mTime: 10:34\u001b[0m │\n",
       "│ Name: Ate trixy, \u001b[1mTime: 10:34\u001b[0m │\n",
       "│ Name: Kuya Gen, \u001b[1mTime: 12:04\u001b[0m  │\n",
       "│ Name: Mommy, \u001b[1mTime: 11:55\u001b[0m     │\n",
       "│ Name: Mommy, \u001b[1mTime: 11:51\u001b[0m     │\n",
       "│ Name: Ate trixy, \u001b[1mTime: 10:34\u001b[0m │\n",
       "│ Name: Kuya Gen, \u001b[1mTime: 21:40\u001b[0m  │\n",
       "│ Name: Mommy, \u001b[1mTime: 21:43\u001b[0m     │\n",
       "└──────────────────────────────┘\n"
      ]
     },
     "metadata": {},
     "output_type": "display_data"
    },
    {
     "data": {
      "text/html": [
       "<pre style=\"white-space:pre;overflow-x:auto;line-height:normal;font-family:Menlo,'DejaVu Sans Mono',consolas,'Courier New',monospace\">┌──────────────────────────────┐\n",
       "│ Name: Ate trixy, <span style=\"font-weight: bold\">Time: 09:17</span> │\n",
       "│ Name: Johnlee, <span style=\"font-weight: bold\">Time: 20:01</span>   │\n",
       "│ Name: Ate trixy, <span style=\"font-weight: bold\">Time: 10:34</span> │\n",
       "│ Name: Ate trixy, <span style=\"font-weight: bold\">Time: 10:34</span> │\n",
       "│ Name: Kuya Gen, <span style=\"font-weight: bold\">Time: 12:04</span>  │\n",
       "│ Name: Mommy, <span style=\"font-weight: bold\">Time: 11:55</span>     │\n",
       "│ Name: Mommy, <span style=\"font-weight: bold\">Time: 11:51</span>     │\n",
       "│ Name: Ate trixy, <span style=\"font-weight: bold\">Time: 10:34</span> │\n",
       "│ Name: Kuya Gen, <span style=\"font-weight: bold\">Time: 21:40</span>  │\n",
       "│ Name: Mommy, <span style=\"font-weight: bold\">Time: 21:43</span>     │\n",
       "└──────────────────────────────┘\n",
       "</pre>\n"
      ],
      "text/plain": [
       "┌──────────────────────────────┐\n",
       "│ Name: Ate trixy, \u001b[1mTime: 09:17\u001b[0m │\n",
       "│ Name: Johnlee, \u001b[1mTime: 20:01\u001b[0m   │\n",
       "│ Name: Ate trixy, \u001b[1mTime: 10:34\u001b[0m │\n",
       "│ Name: Ate trixy, \u001b[1mTime: 10:34\u001b[0m │\n",
       "│ Name: Kuya Gen, \u001b[1mTime: 12:04\u001b[0m  │\n",
       "│ Name: Mommy, \u001b[1mTime: 11:55\u001b[0m     │\n",
       "│ Name: Mommy, \u001b[1mTime: 11:51\u001b[0m     │\n",
       "│ Name: Ate trixy, \u001b[1mTime: 10:34\u001b[0m │\n",
       "│ Name: Kuya Gen, \u001b[1mTime: 21:40\u001b[0m  │\n",
       "│ Name: Mommy, \u001b[1mTime: 21:43\u001b[0m     │\n",
       "└──────────────────────────────┘\n"
      ]
     },
     "metadata": {},
     "output_type": "display_data"
    },
    {
     "data": {
      "text/html": [
       "<pre style=\"white-space:pre;overflow-x:auto;line-height:normal;font-family:Menlo,'DejaVu Sans Mono',consolas,'Courier New',monospace\">┌──────────────────────────────┐\n",
       "│ Name: Ate trixy, <span style=\"font-weight: bold\">Time: 09:17</span> │\n",
       "│ Name: Ate trixy, <span style=\"font-weight: bold\">Time: 10:34</span> │\n",
       "│ Name: Kuya Gen, <span style=\"font-weight: bold\">Time: 12:06</span>  │\n",
       "│ Name: Ate trixy, <span style=\"font-weight: bold\">Time: 10:34</span> │\n",
       "│ Name: Kuya Gen, <span style=\"font-weight: bold\">Time: 12:04</span>  │\n",
       "│ Name: Mommy, <span style=\"font-weight: bold\">Time: 11:55</span>     │\n",
       "│ Name: Mommy, <span style=\"font-weight: bold\">Time: 11:51</span>     │\n",
       "│ Name: Ate trixy, <span style=\"font-weight: bold\">Time: 10:34</span> │\n",
       "│ Name: Kuya Gen, <span style=\"font-weight: bold\">Time: 21:40</span>  │\n",
       "│ Name: Mommy, <span style=\"font-weight: bold\">Time: 21:43</span>     │\n",
       "└──────────────────────────────┘\n",
       "</pre>\n"
      ],
      "text/plain": [
       "┌──────────────────────────────┐\n",
       "│ Name: Ate trixy, \u001b[1mTime: 09:17\u001b[0m │\n",
       "│ Name: Ate trixy, \u001b[1mTime: 10:34\u001b[0m │\n",
       "│ Name: Kuya Gen, \u001b[1mTime: 12:06\u001b[0m  │\n",
       "│ Name: Ate trixy, \u001b[1mTime: 10:34\u001b[0m │\n",
       "│ Name: Kuya Gen, \u001b[1mTime: 12:04\u001b[0m  │\n",
       "│ Name: Mommy, \u001b[1mTime: 11:55\u001b[0m     │\n",
       "│ Name: Mommy, \u001b[1mTime: 11:51\u001b[0m     │\n",
       "│ Name: Ate trixy, \u001b[1mTime: 10:34\u001b[0m │\n",
       "│ Name: Kuya Gen, \u001b[1mTime: 21:40\u001b[0m  │\n",
       "│ Name: Mommy, \u001b[1mTime: 21:43\u001b[0m     │\n",
       "└──────────────────────────────┘\n"
      ]
     },
     "metadata": {},
     "output_type": "display_data"
    },
    {
     "data": {
      "text/html": [
       "<pre style=\"white-space:pre;overflow-x:auto;line-height:normal;font-family:Menlo,'DejaVu Sans Mono',consolas,'Courier New',monospace\">┌──────────────────────────────┐\n",
       "│ Name: Ate trixy, <span style=\"font-weight: bold\">Time: 09:17</span> │\n",
       "│ Name: Ate trixy, <span style=\"font-weight: bold\">Time: 10:34</span> │\n",
       "│ Name: Ate trixy, <span style=\"font-weight: bold\">Time: 10:34</span> │\n",
       "│ Name: Kuya Gen, <span style=\"font-weight: bold\">Time: 12:05</span>  │\n",
       "│ Name: Kuya Gen, <span style=\"font-weight: bold\">Time: 12:04</span>  │\n",
       "│ Name: Mommy, <span style=\"font-weight: bold\">Time: 11:55</span>     │\n",
       "│ Name: Mommy, <span style=\"font-weight: bold\">Time: 11:51</span>     │\n",
       "│ Name: Ate trixy, <span style=\"font-weight: bold\">Time: 10:34</span> │\n",
       "│ Name: Kuya Gen, <span style=\"font-weight: bold\">Time: 21:40</span>  │\n",
       "│ Name: Mommy, <span style=\"font-weight: bold\">Time: 21:43</span>     │\n",
       "└──────────────────────────────┘\n",
       "</pre>\n"
      ],
      "text/plain": [
       "┌──────────────────────────────┐\n",
       "│ Name: Ate trixy, \u001b[1mTime: 09:17\u001b[0m │\n",
       "│ Name: Ate trixy, \u001b[1mTime: 10:34\u001b[0m │\n",
       "│ Name: Ate trixy, \u001b[1mTime: 10:34\u001b[0m │\n",
       "│ Name: Kuya Gen, \u001b[1mTime: 12:05\u001b[0m  │\n",
       "│ Name: Kuya Gen, \u001b[1mTime: 12:04\u001b[0m  │\n",
       "│ Name: Mommy, \u001b[1mTime: 11:55\u001b[0m     │\n",
       "│ Name: Mommy, \u001b[1mTime: 11:51\u001b[0m     │\n",
       "│ Name: Ate trixy, \u001b[1mTime: 10:34\u001b[0m │\n",
       "│ Name: Kuya Gen, \u001b[1mTime: 21:40\u001b[0m  │\n",
       "│ Name: Mommy, \u001b[1mTime: 21:43\u001b[0m     │\n",
       "└──────────────────────────────┘\n"
      ]
     },
     "metadata": {},
     "output_type": "display_data"
    },
    {
     "name": "stdout",
     "output_type": "stream",
     "text": [
      "\n",
      "Sorted List\n",
      "\n"
     ]
    },
    {
     "data": {
      "text/html": [
       "<pre style=\"white-space:pre;overflow-x:auto;line-height:normal;font-family:Menlo,'DejaVu Sans Mono',consolas,'Courier New',monospace\">╭────────────────┬────────────────┬────────────────┬─────────────┬─────────────┬─────────────────┬────────────────╮\n",
       "│<span style=\"color: #ffffff; text-decoration-color: #ffffff; background-color: #008000\"> Name: Ate      </span>│<span style=\"color: #ffffff; text-decoration-color: #ffffff; background-color: #008000\"> Phone Number:  </span>│<span style=\"color: #ffffff; text-decoration-color: #ffffff; background-color: #008000\"> Date: December </span>│<span style=\"color: #ffffff; text-decoration-color: #ffffff; background-color: #008000\"> Day: Sunday </span>│<span style=\"color: #ffffff; text-decoration-color: #ffffff; background-color: #008000\"> Time: 09:17 </span>│<span style=\"color: #ffffff; text-decoration-color: #ffffff; background-color: #008000\"> Duration: 0.4   </span>│<span style=\"color: #ffffff; text-decoration-color: #ffffff; background-color: #008000\"> Call Type:     </span>│\n",
       "│<span style=\"color: #ffffff; text-decoration-color: #ffffff; background-color: #008000\"> trixy          </span>│<span style=\"color: #ffffff; text-decoration-color: #ffffff; background-color: #008000\"> +639955391623  </span>│<span style=\"color: #ffffff; text-decoration-color: #ffffff; background-color: #008000\"> 10, 2023       </span>│<span style=\"color: #ffffff; text-decoration-color: #ffffff; background-color: #008000\">             </span>│<span style=\"color: #ffffff; text-decoration-color: #ffffff; background-color: #008000\">             </span>│<span style=\"color: #ffffff; text-decoration-color: #ffffff; background-color: #008000\"> minutes         </span>│<span style=\"color: #ffffff; text-decoration-color: #ffffff; background-color: #008000\"> Incoming       </span>│\n",
       "│<span style=\"color: #ffffff; text-decoration-color: #ffffff; background-color: #008000\">                </span>│<span style=\"color: #ffffff; text-decoration-color: #ffffff; background-color: #008000\">                </span>│<span style=\"color: #ffffff; text-decoration-color: #ffffff; background-color: #008000\">                </span>│<span style=\"color: #ffffff; text-decoration-color: #ffffff; background-color: #008000\">             </span>│<span style=\"color: #ffffff; text-decoration-color: #ffffff; background-color: #008000\">             </span>│<span style=\"color: #ffffff; text-decoration-color: #ffffff; background-color: #008000\">                 </span>│<span style=\"color: #ffffff; text-decoration-color: #ffffff; background-color: #008000\"> (Successful)   </span>│\n",
       "╰────────────────┴────────────────┴────────────────┴─────────────┴─────────────┴─────────────────┴────────────────╯\n",
       "</pre>\n"
      ],
      "text/plain": [
       "╭────────────────┬────────────────┬────────────────┬─────────────┬─────────────┬─────────────────┬────────────────╮\n",
       "│\u001b[97;42m \u001b[0m\u001b[97;42mName: Ate     \u001b[0m\u001b[97;42m \u001b[0m│\u001b[97;42m \u001b[0m\u001b[97;42mPhone Number: \u001b[0m\u001b[97;42m \u001b[0m│\u001b[97;42m \u001b[0m\u001b[97;42mDate: December\u001b[0m\u001b[97;42m \u001b[0m│\u001b[97;42m \u001b[0m\u001b[97;42mDay: Sunday\u001b[0m\u001b[97;42m \u001b[0m│\u001b[97;42m \u001b[0m\u001b[97;42mTime: 09:17\u001b[0m\u001b[97;42m \u001b[0m│\u001b[97;42m \u001b[0m\u001b[97;42mDuration: 0.4  \u001b[0m\u001b[97;42m \u001b[0m│\u001b[97;42m \u001b[0m\u001b[97;42mCall Type:    \u001b[0m\u001b[97;42m \u001b[0m│\n",
       "│\u001b[97;42m \u001b[0m\u001b[97;42mtrixy         \u001b[0m\u001b[97;42m \u001b[0m│\u001b[97;42m \u001b[0m\u001b[97;42m+639955391623 \u001b[0m\u001b[97;42m \u001b[0m│\u001b[97;42m \u001b[0m\u001b[97;42m10, 2023      \u001b[0m\u001b[97;42m \u001b[0m│\u001b[97;42m             \u001b[0m│\u001b[97;42m             \u001b[0m│\u001b[97;42m \u001b[0m\u001b[97;42mminutes        \u001b[0m\u001b[97;42m \u001b[0m│\u001b[97;42m \u001b[0m\u001b[97;42mIncoming      \u001b[0m\u001b[97;42m \u001b[0m│\n",
       "│\u001b[97;42m                \u001b[0m│\u001b[97;42m                \u001b[0m│\u001b[97;42m                \u001b[0m│\u001b[97;42m             \u001b[0m│\u001b[97;42m             \u001b[0m│\u001b[97;42m                 \u001b[0m│\u001b[97;42m \u001b[0m\u001b[97;42m(Successful)  \u001b[0m\u001b[97;42m \u001b[0m│\n",
       "╰────────────────┴────────────────┴────────────────┴─────────────┴─────────────┴─────────────────┴────────────────╯\n"
      ]
     },
     "metadata": {},
     "output_type": "display_data"
    },
    {
     "data": {
      "text/html": [
       "<pre style=\"white-space:pre;overflow-x:auto;line-height:normal;font-family:Menlo,'DejaVu Sans Mono',consolas,'Courier New',monospace\">╭────────────────┬────────────────┬────────────────┬─────────────┬─────────────┬─────────────────┬────────────────╮\n",
       "│<span style=\"color: #ffffff; text-decoration-color: #ffffff; background-color: #800000\"> Name: Ate      </span>│<span style=\"color: #ffffff; text-decoration-color: #ffffff; background-color: #800000\"> Phone Number:  </span>│<span style=\"color: #ffffff; text-decoration-color: #ffffff; background-color: #800000\"> Date: December </span>│<span style=\"color: #ffffff; text-decoration-color: #ffffff; background-color: #800000\"> Day: Sunday </span>│<span style=\"color: #ffffff; text-decoration-color: #ffffff; background-color: #800000\"> Time: 10:34 </span>│<span style=\"color: #ffffff; text-decoration-color: #ffffff; background-color: #800000\"> Duration: 0.5   </span>│<span style=\"color: #ffffff; text-decoration-color: #ffffff; background-color: #800000\"> Call Type:     </span>│\n",
       "│<span style=\"color: #ffffff; text-decoration-color: #ffffff; background-color: #800000\"> trixy          </span>│<span style=\"color: #ffffff; text-decoration-color: #ffffff; background-color: #800000\"> +639955391623  </span>│<span style=\"color: #ffffff; text-decoration-color: #ffffff; background-color: #800000\"> 10, 2023       </span>│<span style=\"color: #ffffff; text-decoration-color: #ffffff; background-color: #800000\">             </span>│<span style=\"color: #ffffff; text-decoration-color: #ffffff; background-color: #800000\">             </span>│<span style=\"color: #ffffff; text-decoration-color: #ffffff; background-color: #800000\"> minutes         </span>│<span style=\"color: #ffffff; text-decoration-color: #ffffff; background-color: #800000\"> Missed         </span>│\n",
       "╰────────────────┴────────────────┴────────────────┴─────────────┴─────────────┴─────────────────┴────────────────╯\n",
       "</pre>\n"
      ],
      "text/plain": [
       "╭────────────────┬────────────────┬────────────────┬─────────────┬─────────────┬─────────────────┬────────────────╮\n",
       "│\u001b[97;41m \u001b[0m\u001b[97;41mName: Ate     \u001b[0m\u001b[97;41m \u001b[0m│\u001b[97;41m \u001b[0m\u001b[97;41mPhone Number: \u001b[0m\u001b[97;41m \u001b[0m│\u001b[97;41m \u001b[0m\u001b[97;41mDate: December\u001b[0m\u001b[97;41m \u001b[0m│\u001b[97;41m \u001b[0m\u001b[97;41mDay: Sunday\u001b[0m\u001b[97;41m \u001b[0m│\u001b[97;41m \u001b[0m\u001b[97;41mTime: 10:34\u001b[0m\u001b[97;41m \u001b[0m│\u001b[97;41m \u001b[0m\u001b[97;41mDuration: 0.5  \u001b[0m\u001b[97;41m \u001b[0m│\u001b[97;41m \u001b[0m\u001b[97;41mCall Type:    \u001b[0m\u001b[97;41m \u001b[0m│\n",
       "│\u001b[97;41m \u001b[0m\u001b[97;41mtrixy         \u001b[0m\u001b[97;41m \u001b[0m│\u001b[97;41m \u001b[0m\u001b[97;41m+639955391623 \u001b[0m\u001b[97;41m \u001b[0m│\u001b[97;41m \u001b[0m\u001b[97;41m10, 2023      \u001b[0m\u001b[97;41m \u001b[0m│\u001b[97;41m             \u001b[0m│\u001b[97;41m             \u001b[0m│\u001b[97;41m \u001b[0m\u001b[97;41mminutes        \u001b[0m\u001b[97;41m \u001b[0m│\u001b[97;41m \u001b[0m\u001b[97;41mMissed        \u001b[0m\u001b[97;41m \u001b[0m│\n",
       "╰────────────────┴────────────────┴────────────────┴─────────────┴─────────────┴─────────────────┴────────────────╯\n"
      ]
     },
     "metadata": {},
     "output_type": "display_data"
    },
    {
     "data": {
      "text/html": [
       "<pre style=\"white-space:pre;overflow-x:auto;line-height:normal;font-family:Menlo,'DejaVu Sans Mono',consolas,'Courier New',monospace\">╭────────────────┬────────────────┬────────────────┬─────────────┬─────────────┬─────────────────┬────────────────╮\n",
       "│<span style=\"color: #ffffff; text-decoration-color: #ffffff; background-color: #800000\"> Name: Ate      </span>│<span style=\"color: #ffffff; text-decoration-color: #ffffff; background-color: #800000\"> Phone Number:  </span>│<span style=\"color: #ffffff; text-decoration-color: #ffffff; background-color: #800000\"> Date: December </span>│<span style=\"color: #ffffff; text-decoration-color: #ffffff; background-color: #800000\"> Day: Sunday </span>│<span style=\"color: #ffffff; text-decoration-color: #ffffff; background-color: #800000\"> Time: 10:34 </span>│<span style=\"color: #ffffff; text-decoration-color: #ffffff; background-color: #800000\"> Duration: 0.5   </span>│<span style=\"color: #ffffff; text-decoration-color: #ffffff; background-color: #800000\"> Call Type:     </span>│\n",
       "│<span style=\"color: #ffffff; text-decoration-color: #ffffff; background-color: #800000\"> trixy          </span>│<span style=\"color: #ffffff; text-decoration-color: #ffffff; background-color: #800000\"> +639955391623  </span>│<span style=\"color: #ffffff; text-decoration-color: #ffffff; background-color: #800000\"> 10, 2023       </span>│<span style=\"color: #ffffff; text-decoration-color: #ffffff; background-color: #800000\">             </span>│<span style=\"color: #ffffff; text-decoration-color: #ffffff; background-color: #800000\">             </span>│<span style=\"color: #ffffff; text-decoration-color: #ffffff; background-color: #800000\"> minutes         </span>│<span style=\"color: #ffffff; text-decoration-color: #ffffff; background-color: #800000\"> Missed         </span>│\n",
       "╰────────────────┴────────────────┴────────────────┴─────────────┴─────────────┴─────────────────┴────────────────╯\n",
       "</pre>\n"
      ],
      "text/plain": [
       "╭────────────────┬────────────────┬────────────────┬─────────────┬─────────────┬─────────────────┬────────────────╮\n",
       "│\u001b[97;41m \u001b[0m\u001b[97;41mName: Ate     \u001b[0m\u001b[97;41m \u001b[0m│\u001b[97;41m \u001b[0m\u001b[97;41mPhone Number: \u001b[0m\u001b[97;41m \u001b[0m│\u001b[97;41m \u001b[0m\u001b[97;41mDate: December\u001b[0m\u001b[97;41m \u001b[0m│\u001b[97;41m \u001b[0m\u001b[97;41mDay: Sunday\u001b[0m\u001b[97;41m \u001b[0m│\u001b[97;41m \u001b[0m\u001b[97;41mTime: 10:34\u001b[0m\u001b[97;41m \u001b[0m│\u001b[97;41m \u001b[0m\u001b[97;41mDuration: 0.5  \u001b[0m\u001b[97;41m \u001b[0m│\u001b[97;41m \u001b[0m\u001b[97;41mCall Type:    \u001b[0m\u001b[97;41m \u001b[0m│\n",
       "│\u001b[97;41m \u001b[0m\u001b[97;41mtrixy         \u001b[0m\u001b[97;41m \u001b[0m│\u001b[97;41m \u001b[0m\u001b[97;41m+639955391623 \u001b[0m\u001b[97;41m \u001b[0m│\u001b[97;41m \u001b[0m\u001b[97;41m10, 2023      \u001b[0m\u001b[97;41m \u001b[0m│\u001b[97;41m             \u001b[0m│\u001b[97;41m             \u001b[0m│\u001b[97;41m \u001b[0m\u001b[97;41mminutes        \u001b[0m\u001b[97;41m \u001b[0m│\u001b[97;41m \u001b[0m\u001b[97;41mMissed        \u001b[0m\u001b[97;41m \u001b[0m│\n",
       "╰────────────────┴────────────────┴────────────────┴─────────────┴─────────────┴─────────────────┴────────────────╯\n"
      ]
     },
     "metadata": {},
     "output_type": "display_data"
    },
    {
     "data": {
      "text/html": [
       "<pre style=\"white-space:pre;overflow-x:auto;line-height:normal;font-family:Menlo,'DejaVu Sans Mono',consolas,'Courier New',monospace\">╭────────────────┬────────────────┬────────────────┬─────────────┬─────────────┬─────────────────┬────────────────╮\n",
       "│<span style=\"color: #ffffff; text-decoration-color: #ffffff; background-color: #008000\"> Name: Kuya Gen </span>│<span style=\"color: #ffffff; text-decoration-color: #ffffff; background-color: #008000\"> Phone Number:  </span>│<span style=\"color: #ffffff; text-decoration-color: #ffffff; background-color: #008000\"> Date: December </span>│<span style=\"color: #ffffff; text-decoration-color: #ffffff; background-color: #008000\"> Day: Monday </span>│<span style=\"color: #ffffff; text-decoration-color: #ffffff; background-color: #008000\"> Time: 12:05 </span>│<span style=\"color: #ffffff; text-decoration-color: #ffffff; background-color: #008000\"> Duration: 0.0   </span>│<span style=\"color: #ffffff; text-decoration-color: #ffffff; background-color: #008000\"> Call Type:     </span>│\n",
       "│<span style=\"color: #ffffff; text-decoration-color: #ffffff; background-color: #008000\">                </span>│<span style=\"color: #ffffff; text-decoration-color: #ffffff; background-color: #008000\"> +639274863653  </span>│<span style=\"color: #ffffff; text-decoration-color: #ffffff; background-color: #008000\"> 11, 2023       </span>│<span style=\"color: #ffffff; text-decoration-color: #ffffff; background-color: #008000\">             </span>│<span style=\"color: #ffffff; text-decoration-color: #ffffff; background-color: #008000\">             </span>│<span style=\"color: #ffffff; text-decoration-color: #ffffff; background-color: #008000\"> minutes         </span>│<span style=\"color: #ffffff; text-decoration-color: #ffffff; background-color: #008000\"> Outgoing       </span>│\n",
       "│<span style=\"color: #ffffff; text-decoration-color: #ffffff; background-color: #008000\">                </span>│<span style=\"color: #ffffff; text-decoration-color: #ffffff; background-color: #008000\">                </span>│<span style=\"color: #ffffff; text-decoration-color: #ffffff; background-color: #008000\">                </span>│<span style=\"color: #ffffff; text-decoration-color: #ffffff; background-color: #008000\">             </span>│<span style=\"color: #ffffff; text-decoration-color: #ffffff; background-color: #008000\">             </span>│<span style=\"color: #ffffff; text-decoration-color: #ffffff; background-color: #008000\">                 </span>│<span style=\"color: #ffffff; text-decoration-color: #ffffff; background-color: #008000\"> (Successful)   </span>│\n",
       "╰────────────────┴────────────────┴────────────────┴─────────────┴─────────────┴─────────────────┴────────────────╯\n",
       "</pre>\n"
      ],
      "text/plain": [
       "╭────────────────┬────────────────┬────────────────┬─────────────┬─────────────┬─────────────────┬────────────────╮\n",
       "│\u001b[97;42m \u001b[0m\u001b[97;42mName: Kuya Gen\u001b[0m\u001b[97;42m \u001b[0m│\u001b[97;42m \u001b[0m\u001b[97;42mPhone Number: \u001b[0m\u001b[97;42m \u001b[0m│\u001b[97;42m \u001b[0m\u001b[97;42mDate: December\u001b[0m\u001b[97;42m \u001b[0m│\u001b[97;42m \u001b[0m\u001b[97;42mDay: Monday\u001b[0m\u001b[97;42m \u001b[0m│\u001b[97;42m \u001b[0m\u001b[97;42mTime: 12:05\u001b[0m\u001b[97;42m \u001b[0m│\u001b[97;42m \u001b[0m\u001b[97;42mDuration: 0.0  \u001b[0m\u001b[97;42m \u001b[0m│\u001b[97;42m \u001b[0m\u001b[97;42mCall Type:    \u001b[0m\u001b[97;42m \u001b[0m│\n",
       "│\u001b[97;42m                \u001b[0m│\u001b[97;42m \u001b[0m\u001b[97;42m+639274863653 \u001b[0m\u001b[97;42m \u001b[0m│\u001b[97;42m \u001b[0m\u001b[97;42m11, 2023      \u001b[0m\u001b[97;42m \u001b[0m│\u001b[97;42m             \u001b[0m│\u001b[97;42m             \u001b[0m│\u001b[97;42m \u001b[0m\u001b[97;42mminutes        \u001b[0m\u001b[97;42m \u001b[0m│\u001b[97;42m \u001b[0m\u001b[97;42mOutgoing      \u001b[0m\u001b[97;42m \u001b[0m│\n",
       "│\u001b[97;42m                \u001b[0m│\u001b[97;42m                \u001b[0m│\u001b[97;42m                \u001b[0m│\u001b[97;42m             \u001b[0m│\u001b[97;42m             \u001b[0m│\u001b[97;42m                 \u001b[0m│\u001b[97;42m \u001b[0m\u001b[97;42m(Successful)  \u001b[0m\u001b[97;42m \u001b[0m│\n",
       "╰────────────────┴────────────────┴────────────────┴─────────────┴─────────────┴─────────────────┴────────────────╯\n"
      ]
     },
     "metadata": {},
     "output_type": "display_data"
    },
    {
     "data": {
      "text/html": [
       "<pre style=\"white-space:pre;overflow-x:auto;line-height:normal;font-family:Menlo,'DejaVu Sans Mono',consolas,'Courier New',monospace\">╭────────────────┬────────────────┬────────────────┬─────────────┬─────────────┬─────────────────┬────────────────╮\n",
       "│<span style=\"color: #ffffff; text-decoration-color: #ffffff; background-color: #008000\"> Name: Kuya Gen </span>│<span style=\"color: #ffffff; text-decoration-color: #ffffff; background-color: #008000\"> Phone Number:  </span>│<span style=\"color: #ffffff; text-decoration-color: #ffffff; background-color: #008000\"> Date: December </span>│<span style=\"color: #ffffff; text-decoration-color: #ffffff; background-color: #008000\"> Day: Monday </span>│<span style=\"color: #ffffff; text-decoration-color: #ffffff; background-color: #008000\"> Time: 12:04 </span>│<span style=\"color: #ffffff; text-decoration-color: #ffffff; background-color: #008000\"> Duration: 0.0   </span>│<span style=\"color: #ffffff; text-decoration-color: #ffffff; background-color: #008000\"> Call Type:     </span>│\n",
       "│<span style=\"color: #ffffff; text-decoration-color: #ffffff; background-color: #008000\">                </span>│<span style=\"color: #ffffff; text-decoration-color: #ffffff; background-color: #008000\"> +639274863653  </span>│<span style=\"color: #ffffff; text-decoration-color: #ffffff; background-color: #008000\"> 11, 2023       </span>│<span style=\"color: #ffffff; text-decoration-color: #ffffff; background-color: #008000\">             </span>│<span style=\"color: #ffffff; text-decoration-color: #ffffff; background-color: #008000\">             </span>│<span style=\"color: #ffffff; text-decoration-color: #ffffff; background-color: #008000\"> minutes         </span>│<span style=\"color: #ffffff; text-decoration-color: #ffffff; background-color: #008000\"> Outgoing       </span>│\n",
       "│<span style=\"color: #ffffff; text-decoration-color: #ffffff; background-color: #008000\">                </span>│<span style=\"color: #ffffff; text-decoration-color: #ffffff; background-color: #008000\">                </span>│<span style=\"color: #ffffff; text-decoration-color: #ffffff; background-color: #008000\">                </span>│<span style=\"color: #ffffff; text-decoration-color: #ffffff; background-color: #008000\">             </span>│<span style=\"color: #ffffff; text-decoration-color: #ffffff; background-color: #008000\">             </span>│<span style=\"color: #ffffff; text-decoration-color: #ffffff; background-color: #008000\">                 </span>│<span style=\"color: #ffffff; text-decoration-color: #ffffff; background-color: #008000\"> (Successful)   </span>│\n",
       "╰────────────────┴────────────────┴────────────────┴─────────────┴─────────────┴─────────────────┴────────────────╯\n",
       "</pre>\n"
      ],
      "text/plain": [
       "╭────────────────┬────────────────┬────────────────┬─────────────┬─────────────┬─────────────────┬────────────────╮\n",
       "│\u001b[97;42m \u001b[0m\u001b[97;42mName: Kuya Gen\u001b[0m\u001b[97;42m \u001b[0m│\u001b[97;42m \u001b[0m\u001b[97;42mPhone Number: \u001b[0m\u001b[97;42m \u001b[0m│\u001b[97;42m \u001b[0m\u001b[97;42mDate: December\u001b[0m\u001b[97;42m \u001b[0m│\u001b[97;42m \u001b[0m\u001b[97;42mDay: Monday\u001b[0m\u001b[97;42m \u001b[0m│\u001b[97;42m \u001b[0m\u001b[97;42mTime: 12:04\u001b[0m\u001b[97;42m \u001b[0m│\u001b[97;42m \u001b[0m\u001b[97;42mDuration: 0.0  \u001b[0m\u001b[97;42m \u001b[0m│\u001b[97;42m \u001b[0m\u001b[97;42mCall Type:    \u001b[0m\u001b[97;42m \u001b[0m│\n",
       "│\u001b[97;42m                \u001b[0m│\u001b[97;42m \u001b[0m\u001b[97;42m+639274863653 \u001b[0m\u001b[97;42m \u001b[0m│\u001b[97;42m \u001b[0m\u001b[97;42m11, 2023      \u001b[0m\u001b[97;42m \u001b[0m│\u001b[97;42m             \u001b[0m│\u001b[97;42m             \u001b[0m│\u001b[97;42m \u001b[0m\u001b[97;42mminutes        \u001b[0m\u001b[97;42m \u001b[0m│\u001b[97;42m \u001b[0m\u001b[97;42mOutgoing      \u001b[0m\u001b[97;42m \u001b[0m│\n",
       "│\u001b[97;42m                \u001b[0m│\u001b[97;42m                \u001b[0m│\u001b[97;42m                \u001b[0m│\u001b[97;42m             \u001b[0m│\u001b[97;42m             \u001b[0m│\u001b[97;42m                 \u001b[0m│\u001b[97;42m \u001b[0m\u001b[97;42m(Successful)  \u001b[0m\u001b[97;42m \u001b[0m│\n",
       "╰────────────────┴────────────────┴────────────────┴─────────────┴─────────────┴─────────────────┴────────────────╯\n"
      ]
     },
     "metadata": {},
     "output_type": "display_data"
    },
    {
     "data": {
      "text/html": [
       "<pre style=\"white-space:pre;overflow-x:auto;line-height:normal;font-family:Menlo,'DejaVu Sans Mono',consolas,'Courier New',monospace\">╭─────────────┬─────────────────┬─────────────────┬─────────────┬─────────────┬─────────────────┬─────────────────╮\n",
       "│<span style=\"color: #ffffff; text-decoration-color: #ffffff; background-color: #008000\"> Name: Mommy </span>│<span style=\"color: #ffffff; text-decoration-color: #ffffff; background-color: #008000\"> Phone Number:   </span>│<span style=\"color: #ffffff; text-decoration-color: #ffffff; background-color: #008000\"> Date: December  </span>│<span style=\"color: #ffffff; text-decoration-color: #ffffff; background-color: #008000\"> Day: Monday </span>│<span style=\"color: #ffffff; text-decoration-color: #ffffff; background-color: #008000\"> Time: 11:55 </span>│<span style=\"color: #ffffff; text-decoration-color: #ffffff; background-color: #008000\"> Duration: 0.9   </span>│<span style=\"color: #ffffff; text-decoration-color: #ffffff; background-color: #008000\"> Call Type:      </span>│\n",
       "│<span style=\"color: #ffffff; text-decoration-color: #ffffff; background-color: #008000\">             </span>│<span style=\"color: #ffffff; text-decoration-color: #ffffff; background-color: #008000\"> 09235353226     </span>│<span style=\"color: #ffffff; text-decoration-color: #ffffff; background-color: #008000\"> 11, 2023        </span>│<span style=\"color: #ffffff; text-decoration-color: #ffffff; background-color: #008000\">             </span>│<span style=\"color: #ffffff; text-decoration-color: #ffffff; background-color: #008000\">             </span>│<span style=\"color: #ffffff; text-decoration-color: #ffffff; background-color: #008000\"> minutes         </span>│<span style=\"color: #ffffff; text-decoration-color: #ffffff; background-color: #008000\"> Outgoing        </span>│\n",
       "│<span style=\"color: #ffffff; text-decoration-color: #ffffff; background-color: #008000\">             </span>│<span style=\"color: #ffffff; text-decoration-color: #ffffff; background-color: #008000\">                 </span>│<span style=\"color: #ffffff; text-decoration-color: #ffffff; background-color: #008000\">                 </span>│<span style=\"color: #ffffff; text-decoration-color: #ffffff; background-color: #008000\">             </span>│<span style=\"color: #ffffff; text-decoration-color: #ffffff; background-color: #008000\">             </span>│<span style=\"color: #ffffff; text-decoration-color: #ffffff; background-color: #008000\">                 </span>│<span style=\"color: #ffffff; text-decoration-color: #ffffff; background-color: #008000\"> (Successful)    </span>│\n",
       "╰─────────────┴─────────────────┴─────────────────┴─────────────┴─────────────┴─────────────────┴─────────────────╯\n",
       "</pre>\n"
      ],
      "text/plain": [
       "╭─────────────┬─────────────────┬─────────────────┬─────────────┬─────────────┬─────────────────┬─────────────────╮\n",
       "│\u001b[97;42m \u001b[0m\u001b[97;42mName: Mommy\u001b[0m\u001b[97;42m \u001b[0m│\u001b[97;42m \u001b[0m\u001b[97;42mPhone Number:  \u001b[0m\u001b[97;42m \u001b[0m│\u001b[97;42m \u001b[0m\u001b[97;42mDate: December \u001b[0m\u001b[97;42m \u001b[0m│\u001b[97;42m \u001b[0m\u001b[97;42mDay: Monday\u001b[0m\u001b[97;42m \u001b[0m│\u001b[97;42m \u001b[0m\u001b[97;42mTime: 11:55\u001b[0m\u001b[97;42m \u001b[0m│\u001b[97;42m \u001b[0m\u001b[97;42mDuration: 0.9  \u001b[0m\u001b[97;42m \u001b[0m│\u001b[97;42m \u001b[0m\u001b[97;42mCall Type:     \u001b[0m\u001b[97;42m \u001b[0m│\n",
       "│\u001b[97;42m             \u001b[0m│\u001b[97;42m \u001b[0m\u001b[97;42m09235353226    \u001b[0m\u001b[97;42m \u001b[0m│\u001b[97;42m \u001b[0m\u001b[97;42m11, 2023       \u001b[0m\u001b[97;42m \u001b[0m│\u001b[97;42m             \u001b[0m│\u001b[97;42m             \u001b[0m│\u001b[97;42m \u001b[0m\u001b[97;42mminutes        \u001b[0m\u001b[97;42m \u001b[0m│\u001b[97;42m \u001b[0m\u001b[97;42mOutgoing       \u001b[0m\u001b[97;42m \u001b[0m│\n",
       "│\u001b[97;42m             \u001b[0m│\u001b[97;42m                 \u001b[0m│\u001b[97;42m                 \u001b[0m│\u001b[97;42m             \u001b[0m│\u001b[97;42m             \u001b[0m│\u001b[97;42m                 \u001b[0m│\u001b[97;42m \u001b[0m\u001b[97;42m(Successful)   \u001b[0m\u001b[97;42m \u001b[0m│\n",
       "╰─────────────┴─────────────────┴─────────────────┴─────────────┴─────────────┴─────────────────┴─────────────────╯\n"
      ]
     },
     "metadata": {},
     "output_type": "display_data"
    },
    {
     "data": {
      "text/html": [
       "<pre style=\"white-space:pre;overflow-x:auto;line-height:normal;font-family:Menlo,'DejaVu Sans Mono',consolas,'Courier New',monospace\">╭─────────────┬─────────────────┬─────────────────┬─────────────┬─────────────┬─────────────────┬─────────────────╮\n",
       "│<span style=\"color: #ffffff; text-decoration-color: #ffffff; background-color: #008000\"> Name: Mommy </span>│<span style=\"color: #ffffff; text-decoration-color: #ffffff; background-color: #008000\"> Phone Number:   </span>│<span style=\"color: #ffffff; text-decoration-color: #ffffff; background-color: #008000\"> Date: December  </span>│<span style=\"color: #ffffff; text-decoration-color: #ffffff; background-color: #008000\"> Day: Monday </span>│<span style=\"color: #ffffff; text-decoration-color: #ffffff; background-color: #008000\"> Time: 11:51 </span>│<span style=\"color: #ffffff; text-decoration-color: #ffffff; background-color: #008000\"> Duration: 0.0   </span>│<span style=\"color: #ffffff; text-decoration-color: #ffffff; background-color: #008000\"> Call Type:      </span>│\n",
       "│<span style=\"color: #ffffff; text-decoration-color: #ffffff; background-color: #008000\">             </span>│<span style=\"color: #ffffff; text-decoration-color: #ffffff; background-color: #008000\"> 09235353226     </span>│<span style=\"color: #ffffff; text-decoration-color: #ffffff; background-color: #008000\"> 11, 2023        </span>│<span style=\"color: #ffffff; text-decoration-color: #ffffff; background-color: #008000\">             </span>│<span style=\"color: #ffffff; text-decoration-color: #ffffff; background-color: #008000\">             </span>│<span style=\"color: #ffffff; text-decoration-color: #ffffff; background-color: #008000\"> minutes         </span>│<span style=\"color: #ffffff; text-decoration-color: #ffffff; background-color: #008000\"> Outgoing        </span>│\n",
       "│<span style=\"color: #ffffff; text-decoration-color: #ffffff; background-color: #008000\">             </span>│<span style=\"color: #ffffff; text-decoration-color: #ffffff; background-color: #008000\">                 </span>│<span style=\"color: #ffffff; text-decoration-color: #ffffff; background-color: #008000\">                 </span>│<span style=\"color: #ffffff; text-decoration-color: #ffffff; background-color: #008000\">             </span>│<span style=\"color: #ffffff; text-decoration-color: #ffffff; background-color: #008000\">             </span>│<span style=\"color: #ffffff; text-decoration-color: #ffffff; background-color: #008000\">                 </span>│<span style=\"color: #ffffff; text-decoration-color: #ffffff; background-color: #008000\"> (Successful)    </span>│\n",
       "╰─────────────┴─────────────────┴─────────────────┴─────────────┴─────────────┴─────────────────┴─────────────────╯\n",
       "</pre>\n"
      ],
      "text/plain": [
       "╭─────────────┬─────────────────┬─────────────────┬─────────────┬─────────────┬─────────────────┬─────────────────╮\n",
       "│\u001b[97;42m \u001b[0m\u001b[97;42mName: Mommy\u001b[0m\u001b[97;42m \u001b[0m│\u001b[97;42m \u001b[0m\u001b[97;42mPhone Number:  \u001b[0m\u001b[97;42m \u001b[0m│\u001b[97;42m \u001b[0m\u001b[97;42mDate: December \u001b[0m\u001b[97;42m \u001b[0m│\u001b[97;42m \u001b[0m\u001b[97;42mDay: Monday\u001b[0m\u001b[97;42m \u001b[0m│\u001b[97;42m \u001b[0m\u001b[97;42mTime: 11:51\u001b[0m\u001b[97;42m \u001b[0m│\u001b[97;42m \u001b[0m\u001b[97;42mDuration: 0.0  \u001b[0m\u001b[97;42m \u001b[0m│\u001b[97;42m \u001b[0m\u001b[97;42mCall Type:     \u001b[0m\u001b[97;42m \u001b[0m│\n",
       "│\u001b[97;42m             \u001b[0m│\u001b[97;42m \u001b[0m\u001b[97;42m09235353226    \u001b[0m\u001b[97;42m \u001b[0m│\u001b[97;42m \u001b[0m\u001b[97;42m11, 2023       \u001b[0m\u001b[97;42m \u001b[0m│\u001b[97;42m             \u001b[0m│\u001b[97;42m             \u001b[0m│\u001b[97;42m \u001b[0m\u001b[97;42mminutes        \u001b[0m\u001b[97;42m \u001b[0m│\u001b[97;42m \u001b[0m\u001b[97;42mOutgoing       \u001b[0m\u001b[97;42m \u001b[0m│\n",
       "│\u001b[97;42m             \u001b[0m│\u001b[97;42m                 \u001b[0m│\u001b[97;42m                 \u001b[0m│\u001b[97;42m             \u001b[0m│\u001b[97;42m             \u001b[0m│\u001b[97;42m                 \u001b[0m│\u001b[97;42m \u001b[0m\u001b[97;42m(Successful)   \u001b[0m\u001b[97;42m \u001b[0m│\n",
       "╰─────────────┴─────────────────┴─────────────────┴─────────────┴─────────────┴─────────────────┴─────────────────╯\n"
      ]
     },
     "metadata": {},
     "output_type": "display_data"
    },
    {
     "data": {
      "text/html": [
       "<pre style=\"white-space:pre;overflow-x:auto;line-height:normal;font-family:Menlo,'DejaVu Sans Mono',consolas,'Courier New',monospace\">╭────────────────┬────────────────┬────────────────┬─────────────┬─────────────┬─────────────────┬────────────────╮\n",
       "│<span style=\"color: #ffffff; text-decoration-color: #ffffff; background-color: #800000\"> Name: Ate      </span>│<span style=\"color: #ffffff; text-decoration-color: #ffffff; background-color: #800000\"> Phone Number:  </span>│<span style=\"color: #ffffff; text-decoration-color: #ffffff; background-color: #800000\"> Date: December </span>│<span style=\"color: #ffffff; text-decoration-color: #ffffff; background-color: #800000\"> Day: Sunday </span>│<span style=\"color: #ffffff; text-decoration-color: #ffffff; background-color: #800000\"> Time: 10:34 </span>│<span style=\"color: #ffffff; text-decoration-color: #ffffff; background-color: #800000\"> Duration: 0.5   </span>│<span style=\"color: #ffffff; text-decoration-color: #ffffff; background-color: #800000\"> Call Type:     </span>│\n",
       "│<span style=\"color: #ffffff; text-decoration-color: #ffffff; background-color: #800000\"> trixy          </span>│<span style=\"color: #ffffff; text-decoration-color: #ffffff; background-color: #800000\"> +639955391623  </span>│<span style=\"color: #ffffff; text-decoration-color: #ffffff; background-color: #800000\"> 10, 2023       </span>│<span style=\"color: #ffffff; text-decoration-color: #ffffff; background-color: #800000\">             </span>│<span style=\"color: #ffffff; text-decoration-color: #ffffff; background-color: #800000\">             </span>│<span style=\"color: #ffffff; text-decoration-color: #ffffff; background-color: #800000\"> minutes         </span>│<span style=\"color: #ffffff; text-decoration-color: #ffffff; background-color: #800000\"> Missed         </span>│\n",
       "╰────────────────┴────────────────┴────────────────┴─────────────┴─────────────┴─────────────────┴────────────────╯\n",
       "</pre>\n"
      ],
      "text/plain": [
       "╭────────────────┬────────────────┬────────────────┬─────────────┬─────────────┬─────────────────┬────────────────╮\n",
       "│\u001b[97;41m \u001b[0m\u001b[97;41mName: Ate     \u001b[0m\u001b[97;41m \u001b[0m│\u001b[97;41m \u001b[0m\u001b[97;41mPhone Number: \u001b[0m\u001b[97;41m \u001b[0m│\u001b[97;41m \u001b[0m\u001b[97;41mDate: December\u001b[0m\u001b[97;41m \u001b[0m│\u001b[97;41m \u001b[0m\u001b[97;41mDay: Sunday\u001b[0m\u001b[97;41m \u001b[0m│\u001b[97;41m \u001b[0m\u001b[97;41mTime: 10:34\u001b[0m\u001b[97;41m \u001b[0m│\u001b[97;41m \u001b[0m\u001b[97;41mDuration: 0.5  \u001b[0m\u001b[97;41m \u001b[0m│\u001b[97;41m \u001b[0m\u001b[97;41mCall Type:    \u001b[0m\u001b[97;41m \u001b[0m│\n",
       "│\u001b[97;41m \u001b[0m\u001b[97;41mtrixy         \u001b[0m\u001b[97;41m \u001b[0m│\u001b[97;41m \u001b[0m\u001b[97;41m+639955391623 \u001b[0m\u001b[97;41m \u001b[0m│\u001b[97;41m \u001b[0m\u001b[97;41m10, 2023      \u001b[0m\u001b[97;41m \u001b[0m│\u001b[97;41m             \u001b[0m│\u001b[97;41m             \u001b[0m│\u001b[97;41m \u001b[0m\u001b[97;41mminutes        \u001b[0m\u001b[97;41m \u001b[0m│\u001b[97;41m \u001b[0m\u001b[97;41mMissed        \u001b[0m\u001b[97;41m \u001b[0m│\n",
       "╰────────────────┴────────────────┴────────────────┴─────────────┴─────────────┴─────────────────┴────────────────╯\n"
      ]
     },
     "metadata": {},
     "output_type": "display_data"
    },
    {
     "data": {
      "text/html": [
       "<pre style=\"white-space:pre;overflow-x:auto;line-height:normal;font-family:Menlo,'DejaVu Sans Mono',consolas,'Courier New',monospace\">╭────────────────┬────────────────┬────────────────┬───────────────┬─────────────┬────────────────┬───────────────╮\n",
       "│<span style=\"color: #ffffff; text-decoration-color: #ffffff; background-color: #008000\"> Name: Kuya Gen </span>│<span style=\"color: #ffffff; text-decoration-color: #ffffff; background-color: #008000\"> Phone Number:  </span>│<span style=\"color: #ffffff; text-decoration-color: #ffffff; background-color: #008000\"> Date: December </span>│<span style=\"color: #ffffff; text-decoration-color: #ffffff; background-color: #008000\"> Day: Saturday </span>│<span style=\"color: #ffffff; text-decoration-color: #ffffff; background-color: #008000\"> Time: 21:40 </span>│<span style=\"color: #ffffff; text-decoration-color: #ffffff; background-color: #008000\"> Duration: 0.0  </span>│<span style=\"color: #ffffff; text-decoration-color: #ffffff; background-color: #008000\"> Call Type:    </span>│\n",
       "│<span style=\"color: #ffffff; text-decoration-color: #ffffff; background-color: #008000\">                </span>│<span style=\"color: #ffffff; text-decoration-color: #ffffff; background-color: #008000\"> +639274863653  </span>│<span style=\"color: #ffffff; text-decoration-color: #ffffff; background-color: #008000\"> 09, 2023       </span>│<span style=\"color: #ffffff; text-decoration-color: #ffffff; background-color: #008000\">               </span>│<span style=\"color: #ffffff; text-decoration-color: #ffffff; background-color: #008000\">             </span>│<span style=\"color: #ffffff; text-decoration-color: #ffffff; background-color: #008000\"> minutes        </span>│<span style=\"color: #ffffff; text-decoration-color: #ffffff; background-color: #008000\"> Outgoing      </span>│\n",
       "│<span style=\"color: #ffffff; text-decoration-color: #ffffff; background-color: #008000\">                </span>│<span style=\"color: #ffffff; text-decoration-color: #ffffff; background-color: #008000\">                </span>│<span style=\"color: #ffffff; text-decoration-color: #ffffff; background-color: #008000\">                </span>│<span style=\"color: #ffffff; text-decoration-color: #ffffff; background-color: #008000\">               </span>│<span style=\"color: #ffffff; text-decoration-color: #ffffff; background-color: #008000\">             </span>│<span style=\"color: #ffffff; text-decoration-color: #ffffff; background-color: #008000\">                </span>│<span style=\"color: #ffffff; text-decoration-color: #ffffff; background-color: #008000\"> (Successful)  </span>│\n",
       "╰────────────────┴────────────────┴────────────────┴───────────────┴─────────────┴────────────────┴───────────────╯\n",
       "</pre>\n"
      ],
      "text/plain": [
       "╭────────────────┬────────────────┬────────────────┬───────────────┬─────────────┬────────────────┬───────────────╮\n",
       "│\u001b[97;42m \u001b[0m\u001b[97;42mName: Kuya Gen\u001b[0m\u001b[97;42m \u001b[0m│\u001b[97;42m \u001b[0m\u001b[97;42mPhone Number: \u001b[0m\u001b[97;42m \u001b[0m│\u001b[97;42m \u001b[0m\u001b[97;42mDate: December\u001b[0m\u001b[97;42m \u001b[0m│\u001b[97;42m \u001b[0m\u001b[97;42mDay: Saturday\u001b[0m\u001b[97;42m \u001b[0m│\u001b[97;42m \u001b[0m\u001b[97;42mTime: 21:40\u001b[0m\u001b[97;42m \u001b[0m│\u001b[97;42m \u001b[0m\u001b[97;42mDuration: 0.0 \u001b[0m\u001b[97;42m \u001b[0m│\u001b[97;42m \u001b[0m\u001b[97;42mCall Type:   \u001b[0m\u001b[97;42m \u001b[0m│\n",
       "│\u001b[97;42m                \u001b[0m│\u001b[97;42m \u001b[0m\u001b[97;42m+639274863653 \u001b[0m\u001b[97;42m \u001b[0m│\u001b[97;42m \u001b[0m\u001b[97;42m09, 2023      \u001b[0m\u001b[97;42m \u001b[0m│\u001b[97;42m               \u001b[0m│\u001b[97;42m             \u001b[0m│\u001b[97;42m \u001b[0m\u001b[97;42mminutes       \u001b[0m\u001b[97;42m \u001b[0m│\u001b[97;42m \u001b[0m\u001b[97;42mOutgoing     \u001b[0m\u001b[97;42m \u001b[0m│\n",
       "│\u001b[97;42m                \u001b[0m│\u001b[97;42m                \u001b[0m│\u001b[97;42m                \u001b[0m│\u001b[97;42m               \u001b[0m│\u001b[97;42m             \u001b[0m│\u001b[97;42m                \u001b[0m│\u001b[97;42m \u001b[0m\u001b[97;42m(Successful) \u001b[0m\u001b[97;42m \u001b[0m│\n",
       "╰────────────────┴────────────────┴────────────────┴───────────────┴─────────────┴────────────────┴───────────────╯\n"
      ]
     },
     "metadata": {},
     "output_type": "display_data"
    },
    {
     "data": {
      "text/html": [
       "<pre style=\"white-space:pre;overflow-x:auto;line-height:normal;font-family:Menlo,'DejaVu Sans Mono',consolas,'Courier New',monospace\">╭─────────────┬─────────────────┬────────────────┬───────────────┬─────────────┬─────────────────┬────────────────╮\n",
       "│<span style=\"color: #ffffff; text-decoration-color: #ffffff; background-color: #008000\"> Name: Mommy </span>│<span style=\"color: #ffffff; text-decoration-color: #ffffff; background-color: #008000\"> Phone Number:   </span>│<span style=\"color: #ffffff; text-decoration-color: #ffffff; background-color: #008000\"> Date: December </span>│<span style=\"color: #ffffff; text-decoration-color: #ffffff; background-color: #008000\"> Day: Saturday </span>│<span style=\"color: #ffffff; text-decoration-color: #ffffff; background-color: #008000\"> Time: 21:43 </span>│<span style=\"color: #ffffff; text-decoration-color: #ffffff; background-color: #008000\"> Duration: 2.4   </span>│<span style=\"color: #ffffff; text-decoration-color: #ffffff; background-color: #008000\"> Call Type:     </span>│\n",
       "│<span style=\"color: #ffffff; text-decoration-color: #ffffff; background-color: #008000\">             </span>│<span style=\"color: #ffffff; text-decoration-color: #ffffff; background-color: #008000\"> 09235353226     </span>│<span style=\"color: #ffffff; text-decoration-color: #ffffff; background-color: #008000\"> 09, 2023       </span>│<span style=\"color: #ffffff; text-decoration-color: #ffffff; background-color: #008000\">               </span>│<span style=\"color: #ffffff; text-decoration-color: #ffffff; background-color: #008000\">             </span>│<span style=\"color: #ffffff; text-decoration-color: #ffffff; background-color: #008000\"> minutes         </span>│<span style=\"color: #ffffff; text-decoration-color: #ffffff; background-color: #008000\"> Outgoing       </span>│\n",
       "│<span style=\"color: #ffffff; text-decoration-color: #ffffff; background-color: #008000\">             </span>│<span style=\"color: #ffffff; text-decoration-color: #ffffff; background-color: #008000\">                 </span>│<span style=\"color: #ffffff; text-decoration-color: #ffffff; background-color: #008000\">                </span>│<span style=\"color: #ffffff; text-decoration-color: #ffffff; background-color: #008000\">               </span>│<span style=\"color: #ffffff; text-decoration-color: #ffffff; background-color: #008000\">             </span>│<span style=\"color: #ffffff; text-decoration-color: #ffffff; background-color: #008000\">                 </span>│<span style=\"color: #ffffff; text-decoration-color: #ffffff; background-color: #008000\"> (Successful)   </span>│\n",
       "╰─────────────┴─────────────────┴────────────────┴───────────────┴─────────────┴─────────────────┴────────────────╯\n",
       "</pre>\n"
      ],
      "text/plain": [
       "╭─────────────┬─────────────────┬────────────────┬───────────────┬─────────────┬─────────────────┬────────────────╮\n",
       "│\u001b[97;42m \u001b[0m\u001b[97;42mName: Mommy\u001b[0m\u001b[97;42m \u001b[0m│\u001b[97;42m \u001b[0m\u001b[97;42mPhone Number:  \u001b[0m\u001b[97;42m \u001b[0m│\u001b[97;42m \u001b[0m\u001b[97;42mDate: December\u001b[0m\u001b[97;42m \u001b[0m│\u001b[97;42m \u001b[0m\u001b[97;42mDay: Saturday\u001b[0m\u001b[97;42m \u001b[0m│\u001b[97;42m \u001b[0m\u001b[97;42mTime: 21:43\u001b[0m\u001b[97;42m \u001b[0m│\u001b[97;42m \u001b[0m\u001b[97;42mDuration: 2.4  \u001b[0m\u001b[97;42m \u001b[0m│\u001b[97;42m \u001b[0m\u001b[97;42mCall Type:    \u001b[0m\u001b[97;42m \u001b[0m│\n",
       "│\u001b[97;42m             \u001b[0m│\u001b[97;42m \u001b[0m\u001b[97;42m09235353226    \u001b[0m\u001b[97;42m \u001b[0m│\u001b[97;42m \u001b[0m\u001b[97;42m09, 2023      \u001b[0m\u001b[97;42m \u001b[0m│\u001b[97;42m               \u001b[0m│\u001b[97;42m             \u001b[0m│\u001b[97;42m \u001b[0m\u001b[97;42mminutes        \u001b[0m\u001b[97;42m \u001b[0m│\u001b[97;42m \u001b[0m\u001b[97;42mOutgoing      \u001b[0m\u001b[97;42m \u001b[0m│\n",
       "│\u001b[97;42m             \u001b[0m│\u001b[97;42m                 \u001b[0m│\u001b[97;42m                \u001b[0m│\u001b[97;42m               \u001b[0m│\u001b[97;42m             \u001b[0m│\u001b[97;42m                 \u001b[0m│\u001b[97;42m \u001b[0m\u001b[97;42m(Successful)  \u001b[0m\u001b[97;42m \u001b[0m│\n",
       "╰─────────────┴─────────────────┴────────────────┴───────────────┴─────────────┴─────────────────┴────────────────╯\n"
      ]
     },
     "metadata": {},
     "output_type": "display_data"
    },
    {
     "name": "stdout",
     "output_type": "stream",
     "text": [
      "MENU:\n",
      "[1] Bubble Sort\n",
      "[2] Selection Sort\n",
      "[3] Insertion Sort\n",
      "[4] Exit\n",
      "Enter the corresponding number of the sorting algorithm you desire [1 - 4]: 4\n"
     ]
    }
   ],
   "source": [
    "from rich.text import Text\n",
    "print('MY CALL HISTORY THROUGH SORTING\\n')\n",
    "\n",
    "while True:\n",
    "    print('''MENU:\n",
    "[1] Bubble Sort\n",
    "[2] Selection Sort\n",
    "[3] Insertion Sort\n",
    "[4] Exit''')\n",
    "    while True:\n",
    "        try:\n",
    "            sort_type = int(input(\"Enter the corresponding number of the sorting algorithm you desire [1 - 4]: \"))\n",
    "            if sort_type <= 4 or sort_type >= 1:\n",
    "                break\n",
    "            else:\n",
    "                print(\"Invalid input. Please enter a number between 1 and 4.\")\n",
    "        except ValueError:\n",
    "            print(\"Invalid input. Please enter a valid number.\")\n",
    "\n",
    "    if sort_type == 4:\n",
    "        break\n",
    "\n",
    "    print('''\\n[1] Ascending Order\n",
    "[2] Descending Order''')\n",
    "\n",
    "    while True:\n",
    "        try:\n",
    "            order_type = int(input(\"Enter the corresponding number of the sorting algorithm you desire [1/2]: \"))\n",
    "            if order_type == 2 or order_type == 1:\n",
    "                break\n",
    "            else:\n",
    "                print(\"Invalid input. Please enter a number between 1 and 2.\")\n",
    "        except ValueError:\n",
    "            print(\"Invalid input. Please enter a valid number.\")\n",
    "            \n",
    "\n",
    "    def print_boxed_sub_list(data):\n",
    "        table = Table(show_header=False)\n",
    "\n",
    "        for cell in data:\n",
    "            # Splitting the cell content to separate the name and time\n",
    "            parts = cell.rsplit(', ', 1)\n",
    "            name_part = parts[0]\n",
    "            time_part = parts[1] if len(parts) > 1 else ''\n",
    "\n",
    "            # Creating styled text with the time part in bold\n",
    "            styled_text = Text(name_part, style=\"none\") + \", \" + Text(time_part, style=\"bold\")\n",
    "            table.add_row(styled_text)\n",
    "\n",
    "        console = Console()\n",
    "        console.print(table)\n",
    "\n",
    "\n",
    "    def time_from_string(time_str):\n",
    "        return datetime.strptime(time_str, '%H:%M').time()\n",
    "\n",
    "\n",
    "    data = call_information_list.copy()\n",
    "    if sort_type == 1:\n",
    "        if order_type == 1:\n",
    "            def bubble_sort(array):\n",
    "                n = min(len(array), 10)\n",
    "                for i in range(n):\n",
    "                    for j in range(0, n-i-1):\n",
    "                        time1 = time_from_string(array[j][4].split(\" \")[1])\n",
    "                        time2 = time_from_string(array[j+1][4].split(\" \")[1])\n",
    "\n",
    "                        if time1 > time2:\n",
    "                            array[j], array[j+1] = array[j+1], call_information_list[j]\n",
    "                            sub_list = []\n",
    "                            for entry in array:\n",
    "                                item = f'{entry[0]}, {entry[4]}'\n",
    "                                sub_list.append(item)\n",
    "                            print_boxed_sub_list(sub_list)\n",
    "                            time.sleep(1)\n",
    "\n",
    "\n",
    "            # After processing the call logs\n",
    "            bubble_sort(data)\n",
    "\n",
    "            # Print the sorted call logs\n",
    "            print(\"\\nSorted List\\n\")\n",
    "            for datum in data:\n",
    "                print_boxed_list(datum, datum[-1].split(\": \")[1])\n",
    "                \n",
    "        elif order_type == 2:\n",
    "            def bubble_sort(array):\n",
    "                n = min(len(array), 10)\n",
    "                for i in range(n):\n",
    "                    for j in range(0, n-i-1):\n",
    "                        time1 = time_from_string(array[j][4].split(\" \")[1])\n",
    "                        time2 = time_from_string(array[j+1][4].split(\" \")[1])\n",
    "\n",
    "                        if time1 < time2:\n",
    "                            array[j], array[j+1] = array[j+1], array[j]\n",
    "                            sub_list = []\n",
    "                            sub_list = [f'{entry[0]}, {entry[4]}' for entry in array[:n]]\n",
    "                            print_boxed_sub_list(sub_list)\n",
    "                            time.sleep(1)\n",
    "\n",
    "            bubble_sort(data)\n",
    "\n",
    "            # Print the sorted call logs\n",
    "            for datum in data:\n",
    "                print_boxed_list(datum, datum[-1].split(\": \")[1])\n",
    "    \n",
    "    elif sort_type == 2:\n",
    "        if order_type == 1:\n",
    "            def selection_sort(array):\n",
    "                n = min(len(array), 10)\n",
    "                for i in range(n):\n",
    "                    min_idx = i\n",
    "                    for j in range(i+1, n):\n",
    "                        time1 = time_from_string(array[min_idx][4].split(\" \")[1])\n",
    "                        time2 = time_from_string(array[j][4].split(\" \")[1])\n",
    "\n",
    "                        if time1 > time2:\n",
    "                            min_idx = j\n",
    "\n",
    "                    # Swap the found minimum element with the first element\n",
    "                    array[i], array[min_idx] = array[min_idx], array[i]\n",
    "                    sub_list = []\n",
    "                    for entry in array:\n",
    "                        item = f'{entry[0]}, {entry[4]}'\n",
    "                        sub_list.append(item)\n",
    "                    print_boxed_sub_list(sub_list)\n",
    "                    time.sleep(1)\n",
    "\n",
    "            selection_sort(data)\n",
    "\n",
    "            # Print the sorted call logs\n",
    "            for datum in data:\n",
    "                print_boxed_list(datum, datum[-1].split(\": \")[1])\n",
    "                \n",
    "        elif order_type == 2:\n",
    "            def selection_sort(array):\n",
    "                n = min(len(array), 10)\n",
    "\n",
    "                for i in range(n):\n",
    "                    max_idx = i\n",
    "                    for j in range(i+1, n):\n",
    "                        time1 = time_from_string(array[max_idx][4].split(\" \")[1])\n",
    "                        time2 = time_from_string(array[j][4].split(\" \")[1])\n",
    "\n",
    "                        if time1 < time2:\n",
    "                            max_idx = j\n",
    "\n",
    "                    # Swap the found maximum element with the first element\n",
    "                    array[i], array[max_idx] = array[max_idx], array[i]\n",
    "                    sub_list = []\n",
    "                    for entry in array:\n",
    "                        item = f'{entry[0]}, {entry[4]}'\n",
    "                        sub_list.append(item)\n",
    "                    print_boxed_sub_list(sub_list)\n",
    "                    time.sleep(1)\n",
    "\n",
    "            selection_sort(data)\n",
    "\n",
    "            # Print the sorted call logs\n",
    "            for datum in data:\n",
    "                print_boxed_list(datum, datum[-1].split(\": \")[1])\n",
    "                \n",
    "    elif sort_type == 3:\n",
    "        if order_type == 1:\n",
    "            def insertion_sort(array):\n",
    "                n = min(len(array), 10)\n",
    "\n",
    "                for i in range(1, n):\n",
    "                    key_item = array[i]\n",
    "                    key_time = time_from_string(key_item[4].split(\" \")[1])\n",
    "                    j = i - 1\n",
    "\n",
    "                    # Move elements of sorted_list[0..i-1] that are greater than key to one position ahead\n",
    "                    while j >= 0 and time_from_string(array[j][4].split(\" \")[1]) > key_time:\n",
    "                        array[j + 1] = array[j]\n",
    "                        j -= 1\n",
    "                    array[j + 1] = key_item\n",
    "                    sub_list = []\n",
    "                    for entry in array:\n",
    "                        item = f'{entry[0]}, {entry[4]}'\n",
    "                        sub_list.append(item)\n",
    "                    print_boxed_sub_list(sub_list)\n",
    "                    time.sleep(1)\n",
    "\n",
    "            insertion_sort(data)\n",
    "\n",
    "            # Print the sorted call logs\n",
    "            for datum in data:\n",
    "                print_boxed_list(datum, datum[-1].split(\": \")[1])\n",
    "                \n",
    "        elif order_type == 2:\n",
    "            def insertion_sort_descending(array):\n",
    "                n = min(len(array), 10)\n",
    "\n",
    "                for i in range(1, n):\n",
    "                    key_item = array[i]\n",
    "                    key_time = time_from_string(key_item[4].split(\" \")[1])\n",
    "                    j = i - 1\n",
    "\n",
    "                    # Move elements of sorted_list[0..i-1] that are smaller than key to one position ahead\n",
    "                    while j >= 0 and time_from_string(array[j][4].split(\" \")[1]) < key_time:\n",
    "                        array[j + 1] = array[j]\n",
    "                        j -= 1\n",
    "                    array[j + 1] = key_item\n",
    "                    sub_list = []\n",
    "                    for entry in array:\n",
    "                        item = f'{entry[0]}, {entry[4]}'\n",
    "                        sub_list.append(item)\n",
    "                    print_boxed_sub_list(sub_list)\n",
    "                    time.sleep(1)\n",
    "\n",
    "            insertion_sort(data)\n",
    "\n",
    "            # Print the sorted call logs\n",
    "            for datum in data:\n",
    "                print_boxed_list(datum, datum[-1].split(\": \")[1])"
   ]
  },
  {
   "cell_type": "markdown",
   "id": "40ed39a1",
   "metadata": {},
   "source": [
    "# Call Frequency Analysis by Day of the Week - A Comparison Between Year 2022 and Year 2023"
   ]
  },
  {
   "cell_type": "code",
   "execution_count": 3,
   "id": "014b5cdb",
   "metadata": {},
   "outputs": [
    {
     "data": {
      "image/png": "[encoded data removed]",
      "text/plain": [
       "<Figure size 1000x600 with 1 Axes>"
      ]
     },
     "metadata": {},
     "output_type": "display_data"
    }
   ],
   "source": [
    "# Create dictionaries to store the count of calls for each day of the week in 2022 and 2023\n",
    "day_of_week_counts_2022 = {'Monday': 0, 'Tuesday': 0, 'Wednesday': 0, 'Thursday': 0, 'Friday': 0, 'Saturday': 0, 'Sunday': 0}\n",
    "day_of_week_counts_2023 = {'Monday': 0, 'Tuesday': 0, 'Wednesday': 0, 'Thursday': 0, 'Friday': 0, 'Saturday': 0, 'Sunday': 0}\n",
    "\n",
    "# Process call log entries and update the dictionaries\n",
    "for entry in call_logs_entries:\n",
    "    entry_info = extract_key_value(entry)\n",
    "    date_time = entry_info.get('date', 'N/A')\n",
    "\n",
    "    if date_time != 'N/A':\n",
    "        dt_object = datetime.fromtimestamp(int(date_time) / 1000)\n",
    "        year = dt_object.year\n",
    "        day_of_week = dt_object.strftime('%A')\n",
    "        if year == 2022:\n",
    "            day_of_week_counts_2022[day_of_week] += 1\n",
    "        elif year == 2023:\n",
    "            day_of_week_counts_2023[day_of_week] += 1\n",
    "\n",
    "# Prepare data for the bar graph\n",
    "days = list(day_of_week_counts_2022.keys())\n",
    "calls_2022 = list(day_of_week_counts_2022.values())\n",
    "calls_2023 = list(day_of_week_counts_2023.values())\n",
    "\n",
    "# Plot the comparison bar graph\n",
    "fig, ax = plt.subplots(figsize=(10, 6))\n",
    "width = 0.35  # width of the bars\n",
    "\n",
    "# Create bars for 2022 and 2023\n",
    "bars_2022 = ax.bar([x - width/2 for x in range(len(days))], calls_2022, width, label='2022', color='#4F709C')\n",
    "bars_2023 = ax.bar([x + width/2 for x in range(len(days))], calls_2023, width, label='2023', color='#213555')\n",
    "fig.set_facecolor('#E5D283')\n",
    "ax.set_facecolor('#F0F0F0')\n",
    "\n",
    "# Add some text for labels, title and custom x-axis tick labels, etc.\n",
    "ax.set_xlabel('Day of the Week', fontsize=12)\n",
    "ax.set_ylabel('Number of Calls', fontsize=12)\n",
    "ax.set_title('Call Frequency Analysis by Day of the Week for 2022 vs 2023', fontsize=14)\n",
    "ax.set_ylim(0, 100)\n",
    "ax.set_xticks(range(len(days)))\n",
    "ax.set_xticklabels(days)\n",
    "ax.legend()\n",
    "\n",
    "# Add labels on each bar\n",
    "def add_labels(bars):\n",
    "    for bar in bars:\n",
    "        height = bar.get_height()\n",
    "        ax.annotate(f'{height}',\n",
    "                    xy=(bar.get_x() + bar.get_width() / 2, height),\n",
    "                    xytext=(0, 3),  # 3 points vertical offset\n",
    "                    textcoords=\"offset points\",\n",
    "                    ha='center', va='bottom')\n",
    "        \n",
    "\n",
    "add_labels(bars_2022)\n",
    "add_labels(bars_2023)\n",
    "\n",
    "plt.show()\n"
   ]
  },
  {
   "cell_type": "code",
   "execution_count": 6,
   "id": "5586b6c6",
   "metadata": {},
   "outputs": [
    {
     "data": {
      "image/png": "[encoded data removed]",
      "text/plain": [
       "<Figure size 1000x600 with 1 Axes>"
      ]
     },
     "metadata": {},
     "output_type": "display_data"
    },
    {
     "data": {
      "image/png": "[encoded data removed]",
      "text/plain": [
       "<Figure size 1000x600 with 1 Axes>"
      ]
     },
     "metadata": {},
     "output_type": "display_data"
    }
   ],
   "source": [
    "from collections import defaultdict\n",
    "from datetime import datetime\n",
    "import matplotlib.pyplot as plt\n",
    "\n",
    "call_frequency_2022 = defaultdict(int)\n",
    "call_frequency_2023 = defaultdict(int)\n",
    "\n",
    "for entry in call_log_stack:\n",
    "    date_time = entry.get('date', 'N/A')\n",
    "    if date_time != 'N/A':\n",
    "        dt_object = datetime.fromtimestamp(int(date_time) / 1000)\n",
    "        year = dt_object.year\n",
    "\n",
    "        # Use phone number if name is 'null', missing, or empty\n",
    "        name = entry.get('name', '').strip()\n",
    "        if not name or name.lower() == 'null':\n",
    "            name = entry.get('number', 'Unknown')\n",
    "\n",
    "        if year == 2022:\n",
    "            call_frequency_2022[name] += 1\n",
    "        elif year == 2023:\n",
    "            call_frequency_2023[name] += 1\n",
    "\n",
    "top_10_2022 = sorted(call_frequency_2022.items(), key=lambda x: x[1], reverse=True)[:10]\n",
    "top_10_2023 = sorted(call_frequency_2023.items(), key=lambda x: x[1], reverse=True)[:10]\n",
    "\n",
    "# Plot for 2022\n",
    "people_2022, calls_2022 = zip(*top_10_2022) if top_10_2022 else ([], [])\n",
    "plt.figure(figsize=(10, 6))\n",
    "bars_2022 = plt.bar(people_2022, calls_2022, color='#4F709C')\n",
    "plt.xlabel('Person/Phone Number')\n",
    "plt.ylabel('Number of Calls')\n",
    "plt.title('Top 10 Call Frequencies per Person in 2022')\n",
    "plt.ylim(0, 70)\n",
    "plt.xticks(rotation=45)\n",
    "# Adding labels directly in the loop for 2022\n",
    "for bar in bars_2022:\n",
    "    yval = bar.get_height()\n",
    "    plt.text(bar.get_x() + bar.get_width()/2, yval, int(yval), va='bottom', ha='center')\n",
    "plt.show()\n",
    "\n",
    "# Plot for 2023\n",
    "people_2023, calls_2023 = zip(*top_10_2023) if top_10_2023 else ([], [])\n",
    "plt.figure(figsize=(10, 6))\n",
    "bars_2023 = plt.bar(people_2023, calls_2023, color='#213555')\n",
    "plt.xlabel('Person/Phone Number')\n",
    "plt.ylabel('Number of Calls')\n",
    "plt.title('Top 10 Call Frequencies per Person in 2023')\n",
    "plt.ylim(0, 60)\n",
    "plt.xticks(rotation=45)\n",
    "# Adding labels directly in the loop for 2023\n",
    "for bar in bars_2023:\n",
    "    yval = bar.get_height()\n",
    "    plt.text(bar.get_x() + bar.get_width()/2, yval, int(yval), va='bottom', ha='center')\n",
    "plt.show()\n"
   ]
  },
  {
   "cell_type": "code",
   "execution_count": 4,
   "id": "f8c8b24c",
   "metadata": {},
   "outputs": [
    {
     "data": {
      "image/png": "[encoded data removed]",
      "text/plain": [
       "<Figure size 1000x600 with 1 Axes>"
      ]
     },
     "metadata": {},
     "output_type": "display_data"
    }
   ],
   "source": [
    "from collections import defaultdict\n",
    "from datetime import datetime\n",
    "\n",
    "# Initialize a dictionary to accumulate call durations (in minutes) for each person in 2022\n",
    "call_duration_2022 = defaultdict(int)\n",
    "\n",
    "# Process each entry in the call log\n",
    "for entry in call_log_stack:\n",
    "    date_time = entry.get('date', 'N/A')\n",
    "    duration_seconds = entry.get('duration', 0)  # Assuming duration is in seconds\n",
    "\n",
    "    if date_time != 'N/A':\n",
    "        dt_object = datetime.fromtimestamp(int(date_time) / 1000)\n",
    "        year = dt_object.year\n",
    "\n",
    "        # Use phone number if name is 'null', missing, or empty\n",
    "        name = entry.get('name', '').strip()\n",
    "        if not name or name.lower() == 'null':\n",
    "            name = entry.get('number', 'Unknown')\n",
    "\n",
    "        if year == 2022:\n",
    "            # Convert duration from seconds to minutes\n",
    "            call_duration_2022[name] += int(duration_seconds) / 60\n",
    "\n",
    "# Find top 10 people with the longest call durations in 2022\n",
    "top_10_duration_2022 = sorted(call_duration_2022.items(), key=lambda x: x[1], reverse=True)[:10]\n",
    "\n",
    "import matplotlib.pyplot as plt\n",
    "\n",
    "# Separate the data for plotting\n",
    "people_duration_2022, durations_2022 = zip(*top_10_duration_2022) if top_10_duration_2022 else ([], [])\n",
    "\n",
    "# Plotting the bar graph for 2022\n",
    "plt.figure(figsize=(10, 6))\n",
    "bars_duration_2022 = plt.bar(people_duration_2022, durations_2022, color='#4F709C')\n",
    "plt.xlabel('Person/Phone Number')\n",
    "plt.ylabel('Total Call Duration (Minutes)')\n",
    "plt.title('Top 10 Longest Call Durations per Person in 2022')\n",
    "plt.ylim(0, 60)\n",
    "plt.xticks(rotation=45)\n",
    "\n",
    "# Adding labels for durations\n",
    "for bar in bars_duration_2022:\n",
    "    yval = bar.get_height()\n",
    "    plt.text(bar.get_x() + bar.get_width()/2, yval, f'{yval:.1f}', va='bottom', ha='center')\n",
    "\n",
    "plt.show()\n"
   ]
  },
  {
   "cell_type": "code",
   "execution_count": 6,
   "id": "22a38570",
   "metadata": {},
   "outputs": [
    {
     "data": {
      "image/png": "[encoded data removed]",
      "text/plain": [
       "<Figure size 1000x600 with 1 Axes>"
      ]
     },
     "metadata": {},
     "output_type": "display_data"
    }
   ],
   "source": [
    "# Initialize a dictionary to accumulate call durations (in minutes) for each person in 2023\n",
    "call_duration_2023 = defaultdict(int)\n",
    "\n",
    "# Process each entry in the call log\n",
    "for entry in call_log_stack:\n",
    "    date_time = entry.get('date', 'N/A')\n",
    "    duration_seconds = entry.get('duration', 0)  # Assuming duration is in seconds\n",
    "\n",
    "    if date_time != 'N/A':\n",
    "        dt_object = datetime.fromtimestamp(int(date_time) / 1000)\n",
    "        year = dt_object.year\n",
    "\n",
    "        # Use phone number if name is 'null', missing, or empty\n",
    "        name = entry.get('name', '').strip()\n",
    "        if not name or name.lower() == 'null':\n",
    "            name = entry.get('number', 'Unknown')\n",
    "\n",
    "        if year == 2023:\n",
    "            # Convert duration from seconds to minutes\n",
    "            call_duration_2023[name] += int(duration_seconds) / 60\n",
    "\n",
    "# Find top 10 people with the longest call durations in 2023\n",
    "top_10_duration_2023 = sorted(call_duration_2023.items(), key=lambda x: x[1], reverse=True)[:10]\n",
    "\n",
    "# Separate the data for plotting\n",
    "people_duration_2023, durations_2023 = zip(*top_10_duration_2023) if top_10_duration_2023 else ([], [])\n",
    "\n",
    "# Plotting the bar graph for 2023\n",
    "plt.figure(figsize=(10, 6))\n",
    "bars_duration_2023 = plt.bar(people_duration_2023, durations_2023, color='#213555')\n",
    "plt.xlabel('Person/Phone Number')\n",
    "plt.ylabel('Total Call Duration (Minutes)')\n",
    "plt.title('Top 10 Longest Call Durations per Person in 2023')\n",
    "plt.ylim(0, 100)\n",
    "plt.xticks(rotation=45)\n",
    "\n",
    "# Adding labels for durations\n",
    "for bar in bars_duration_2023:\n",
    "    yval = bar.get_height()\n",
    "    plt.text(bar.get_x() + bar.get_width()/2, yval, f'{yval:.1f}', va='bottom', ha='center')\n",
    "\n",
    "plt.show()"
   ]
  },
  {
   "cell_type": "code",
   "execution_count": null,
   "id": "c45481da",
   "metadata": {},
   "outputs": [],
   "source": []
  }
 ],
 "metadata": {
  "kernelspec": {
   "display_name": "Python 3 (ipykernel)",
   "language": "python",
   "name": "python3"
  },
  "language_info": {
   "codemirror_mode": {
    "name": "ipython",
    "version": 3
   },
   "file_extension": ".py",
   "mimetype": "text/x-python",
   "name": "python",
   "nbconvert_exporter": "python",
   "pygments_lexer": "ipython3",
   "version": "3.11.5"
  }
 },
 "nbformat": 4,
 "nbformat_minor": 5
}
